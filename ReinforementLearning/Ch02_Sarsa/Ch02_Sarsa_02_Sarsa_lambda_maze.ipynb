{
 "cells": [
  {
   "cell_type": "code",
   "execution_count": 5,
   "metadata": {},
   "outputs": [
    {
     "name": "stderr",
     "output_type": "stream",
     "text": [
      "Exception in Tkinter callback\n",
      "Traceback (most recent call last):\n",
      "  File \"c:\\python36\\lib\\tkinter\\__init__.py\", line 1705, in __call__\n",
      "    return self.func(*args)\n",
      "  File \"c:\\python36\\lib\\tkinter\\__init__.py\", line 749, in callit\n",
      "    func(*args)\n",
      "  File \"<ipython-input-5-c048289b8b75>\", line 21, in update\n",
      "    observation_, reward, done = env.step(action)\n",
      "  File \"C:\\Users\\xiongan2\\workspace\\ML\\ReinforementLearning\\Ch02_Sarsa\\maze_env.py\", line 81, in step\n",
      "    s = self.canvas.coords(self.rect)\n",
      "  File \"c:\\python36\\lib\\tkinter\\__init__.py\", line 2469, in coords\n",
      "    self.tk.call((self._w, 'coords') + args))]\n",
      "_tkinter.TclError: invalid command name \".!canvas\"\n"
     ]
    }
   ],
   "source": [
    "from maze_env import Maze\n",
    "from RL_brain import SarsaLambdaTable\n",
    "\n",
    "\n",
    "def update():\n",
    "    for episode in range(100):\n",
    "        # initial observation\n",
    "        observation = env.reset()\n",
    "\n",
    "        # RL choose action based on observation\n",
    "        action = RL.choose_action(str(observation))\n",
    "\n",
    "        # initial all zero eligibility trace\n",
    "        RL.eligibility_trace *= 0\n",
    "\n",
    "        while True:\n",
    "            # fresh env\n",
    "            env.render()\n",
    "\n",
    "            # RL take action and get next observation and reward\n",
    "            observation_, reward, done = env.step(action)\n",
    "\n",
    "            # RL choose action based on next observation\n",
    "            action_ = RL.choose_action(str(observation_))\n",
    "\n",
    "            # RL learn from this transition (s, a, r, s, a) ==> Sarsa\n",
    "            RL.learn(str(observation), action, reward, str(observation_), action_)\n",
    "\n",
    "            # swap observation and action\n",
    "            observation = observation_\n",
    "            action = action_\n",
    "\n",
    "            # break while loop when end of this episode\n",
    "            if done:\n",
    "                break\n",
    "\n",
    "    # end of game\n",
    "    print('game over')\n",
    "    env.destroy()\n",
    "\n",
    "if __name__ == \"__main__\":\n",
    "    env = Maze()\n",
    "    RL = SarsaLambdaTable(actions=list(range(env.n_actions)))\n",
    "\n",
    "    env.after(100, update)\n",
    "    env.mainloop()"
   ]
  },
  {
   "cell_type": "code",
   "execution_count": null,
   "metadata": {},
   "outputs": [],
   "source": []
  },
  {
   "cell_type": "code",
   "execution_count": null,
   "metadata": {},
   "outputs": [],
   "source": []
  }
 ],
 "metadata": {
  "kernelspec": {
   "display_name": "Python 3",
   "language": "python",
   "name": "python3"
  },
  "language_info": {
   "codemirror_mode": {
    "name": "ipython",
    "version": 3
   },
   "file_extension": ".py",
   "mimetype": "text/x-python",
   "name": "python",
   "nbconvert_exporter": "python",
   "pygments_lexer": "ipython3",
   "version": "3.6.8"
  }
 },
 "nbformat": 4,
 "nbformat_minor": 2
}
