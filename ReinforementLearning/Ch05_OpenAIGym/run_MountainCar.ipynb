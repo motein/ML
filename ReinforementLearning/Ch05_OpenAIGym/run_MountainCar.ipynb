{
 "cells": [
  {
   "cell_type": "code",
   "execution_count": 1,
   "metadata": {},
   "outputs": [
    {
     "name": "stdout",
     "output_type": "stream",
     "text": [
      "Discrete(3)\n",
      "Box(2,)\n",
      "[0.6  0.07]\n",
      "[-1.2  -0.07]\n"
     ]
    }
   ],
   "source": [
    "import gym\n",
    "from RL_brain import DeepQNetwork\n",
    "\n",
    "env = gym.make('MountainCar-v0')\n",
    "env = env.unwrapped\n",
    "\n",
    "print(env.action_space)\n",
    "print(env.observation_space)\n",
    "print(env.observation_space.high)\n",
    "print(env.observation_space.low)"
   ]
  },
  {
   "cell_type": "code",
   "execution_count": null,
   "metadata": {},
   "outputs": [
    {
     "name": "stdout",
     "output_type": "stream",
     "text": [
      "WARNING:tensorflow:From c:\\python36\\lib\\site-packages\\tensorflow\\python\\framework\\op_def_library.py:263: colocate_with (from tensorflow.python.framework.ops) is deprecated and will be removed in a future version.\n",
      "Instructions for updating:\n",
      "Colocations handled automatically by placer.\n",
      "\n",
      "target_params_replaced\n",
      "\n",
      "\n",
      "target_params_replaced\n",
      "\n",
      "\n",
      "target_params_replaced\n",
      "\n",
      "\n",
      "target_params_replaced\n",
      "\n",
      "\n",
      "target_params_replaced\n",
      "\n",
      "\n",
      "target_params_replaced\n",
      "\n",
      "\n",
      "target_params_replaced\n",
      "\n",
      "\n",
      "target_params_replaced\n",
      "\n",
      "\n",
      "target_params_replaced\n",
      "\n",
      "\n",
      "target_params_replaced\n",
      "\n",
      "\n",
      "target_params_replaced\n",
      "\n",
      "Epi:  0 | Get | Ep_r:  1236.6799 | Epsilon:  0.62\n",
      "\n",
      "target_params_replaced\n",
      "\n",
      "\n",
      "target_params_replaced\n",
      "\n",
      "Epi:  1 | Get | Ep_r:  159.8832 | Epsilon:  0.73\n",
      "\n",
      "target_params_replaced\n",
      "\n",
      "Epi:  2 | Get | Ep_r:  143.817 | Epsilon:  0.84\n",
      "\n",
      "target_params_replaced\n",
      "\n"
     ]
    }
   ],
   "source": [
    "RL = DeepQNetwork(n_actions=3, n_features=2, learning_rate=0.001, e_greedy=0.9,\n",
    "                  replace_target_iter=300, memory_size=3000,\n",
    "                  e_greedy_increment=0.0002,)\n",
    "\n",
    "total_steps = 0\n",
    "\n",
    "\n",
    "for i_episode in range(10):\n",
    "\n",
    "    observation = env.reset()\n",
    "    ep_r = 0\n",
    "    while True:\n",
    "        env.render()\n",
    "\n",
    "        action = RL.choose_action(observation)\n",
    "\n",
    "        observation_, reward, done, info = env.step(action)\n",
    "\n",
    "        position, velocity = observation_\n",
    "\n",
    "        # the higher the better\n",
    "        reward = abs(position - (-0.5))     # r in [0, 1]\n",
    "\n",
    "        RL.store_transition(observation, action, reward, observation_)\n",
    "\n",
    "        if total_steps > 1000:\n",
    "            RL.learn()\n",
    "\n",
    "        ep_r += reward\n",
    "        if done:\n",
    "            get = '| Get' if observation_[0] >= env.unwrapped.goal_position else '| ----'\n",
    "            print('Epi: ', i_episode,\n",
    "                  get,\n",
    "                  '| Ep_r: ', round(ep_r, 4),\n",
    "                  '| Epsilon: ', round(RL.epsilon, 2))\n",
    "            break\n",
    "\n",
    "        observation = observation_\n",
    "        total_steps += 1\n",
    "\n",
    "RL.plot_cost()"
   ]
  },
  {
   "cell_type": "code",
   "execution_count": null,
   "metadata": {},
   "outputs": [],
   "source": []
  }
 ],
 "metadata": {
  "kernelspec": {
   "display_name": "Python 3",
   "language": "python",
   "name": "python3"
  },
  "language_info": {
   "codemirror_mode": {
    "name": "ipython",
    "version": 3
   },
   "file_extension": ".py",
   "mimetype": "text/x-python",
   "name": "python",
   "nbconvert_exporter": "python",
   "pygments_lexer": "ipython3",
   "version": "3.6.8"
  }
 },
 "nbformat": 4,
 "nbformat_minor": 2
}
