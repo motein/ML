{
 "cells": [
  {
   "cell_type": "markdown",
   "metadata": {},
   "source": [
    "[numpy一些方法总结](https://blog.csdn.net/u010156024/article/details/50419338)"
   ]
  },
  {
   "cell_type": "code",
   "execution_count": 10,
   "metadata": {},
   "outputs": [
    {
     "name": "stdout",
     "output_type": "stream",
     "text": [
      "(4, 5) (4, 4)\n",
      "[[ 1.         -0.35153114 -0.74736506 -0.48917666]\n",
      " [-0.35153114  1.          0.23810227  0.15958285]\n",
      " [-0.74736506  0.23810227  1.         -0.03960706]\n",
      " [-0.48917666  0.15958285 -0.03960706  1.        ]]\n",
      "0.999986231330961\n",
      "[[1.         0.99998623]\n",
      " [0.99998623 1.        ]]\n"
     ]
    }
   ],
   "source": [
    "import numpy as np\n",
    "\n",
    "a = np.array([[0.1, .32, .2,  0.4, 0.8], [.23, .18, .56, .61, .12], [.9, .3, .6, .5, .3],  [.34, .75, .91, .19, .21]])\n",
    "b = np.corrcoef(a)\n",
    "print(np.shape(a), np.shape(b))\n",
    "print(b)\n",
    "\n",
    "vc = [1, 2, 39, 0, 8]\n",
    "vb = [1, 2, 38, 0, 8]\n",
    "\n",
    "print(np.mean(np.multiply((vc-np.mean(vc)),(vb - np.mean(vb)))) / (np.std(vb) * np.std(vc)))\n",
    "print(np.corrcoef(vc, vb)) # cov matrix"
   ]
  },
  {
   "cell_type": "code",
   "execution_count": 3,
   "metadata": {},
   "outputs": [
    {
     "name": "stdout",
     "output_type": "stream",
     "text": [
      "[ 4 10 18]\n"
     ]
    }
   ],
   "source": [
    "x1 = [1, 2, 3]\n",
    "x2 = [4, 5, 6]\n",
    "print(np.multiply(x1, x2))"
   ]
  },
  {
   "cell_type": "code",
   "execution_count": 4,
   "metadata": {},
   "outputs": [
    {
     "name": "stdout",
     "output_type": "stream",
     "text": [
      "3.6875\n",
      "3.6874999999999996\n",
      "2.9166666666666665\n",
      "[1. 1. 1. 1. 1. 1.]\n",
      "[2.91666667 2.91666667]\n"
     ]
    }
   ],
   "source": [
    "b = [1, 3, 5, 6]\n",
    "print(np.var(b)) # variance\n",
    "print(np.power(np.std(b), 2)) # standard deviation\n",
    "a1 = [[1, 2, 3, 4, 5,6], [3, 4, 5, 6, 7, 8]]\n",
    "print(np.var(a1[0]))\n",
    "print(np.var(a1,0)) # axis, column\n",
    "print(np.var(a1, 1)) # axis, row"
   ]
  },
  {
   "cell_type": "code",
   "execution_count": 5,
   "metadata": {},
   "outputs": [
    {
     "name": "stdout",
     "output_type": "stream",
     "text": [
      "3.25\n",
      "4.5\n",
      "[2. 3. 4. 5. 6. 7.]\n",
      "[3.5 5.5]\n"
     ]
    }
   ],
   "source": [
    "b = [1, 3, 4, 5]\n",
    "print(np.mean(b))\n",
    "print(np.mean(a1))\n",
    "print(np.mean(a1, 0)) # mean of column\n",
    "print(np.mean(a1, 1)) # mean of row"
   ]
  },
  {
   "cell_type": "code",
   "execution_count": 6,
   "metadata": {},
   "outputs": [
    {
     "name": "stdout",
     "output_type": "stream",
     "text": [
      "6\n",
      "15\n"
     ]
    }
   ],
   "source": [
    "x = [[0, 1, 2], [2, 1, 0]]\n",
    "b = [1, 3, 5, 6]\n",
    "print(np.sum(x))\n",
    "print(np.sum(b))"
   ]
  },
  {
   "cell_type": "code",
   "execution_count": 8,
   "metadata": {},
   "outputs": [
    {
     "name": "stdout",
     "output_type": "stream",
     "text": [
      "4.916666666666666\n",
      "4.916666666666667\n"
     ]
    }
   ],
   "source": [
    "b = [1, 3, 5, 6]\n",
    "print(np.cov(b))\n",
    "print(np.sum(np.multiply(b, b) - np.mean(b)* np.mean(b))/3)"
   ]
  },
  {
   "cell_type": "code",
   "execution_count": 9,
   "metadata": {},
   "outputs": [
    {
     "name": "stdout",
     "output_type": "stream",
     "text": [
      "[[ 1. -1.]\n",
      " [-1.  1.]]\n",
      "-1.0\n"
     ]
    }
   ],
   "source": [
    "x=[[0, 1, 2],[2, 1, 0]]\n",
    "print(np.cov(x))\n",
    "print(np.sum((np.multiply(x[0],x[1]))-np.mean(x[0]) * np.mean(x[1]))/2)"
   ]
  },
  {
   "cell_type": "code",
   "execution_count": 11,
   "metadata": {},
   "outputs": [
    {
     "name": "stdout",
     "output_type": "stream",
     "text": [
      "(1+100j)\n"
     ]
    }
   ],
   "source": [
    "print(np.complex(1,100)) # complex"
   ]
  },
  {
   "cell_type": "code",
   "execution_count": 33,
   "metadata": {},
   "outputs": [
    {
     "name": "stdout",
     "output_type": "stream",
     "text": [
      "32\n"
     ]
    }
   ],
   "source": [
    "x1 = [1, 2, 3]\n",
    "x2 = [4, 5, 6]\n",
    "print(np.vdot(x1, x2)) # dot product "
   ]
  },
  {
   "cell_type": "code",
   "execution_count": 34,
   "metadata": {},
   "outputs": [
    {
     "name": "stdout",
     "output_type": "stream",
     "text": [
      "32\n",
      "[[32]]\n",
      "[[1 2 3]\n",
      " [4 5 6]]\n"
     ]
    }
   ],
   "source": [
    "x1 = [1, 2, 3]\n",
    "x2 = [4, 5, 6]\n",
    "xx = [x1, x2]\n",
    "print(np.vdot(x1, x2)) # dot product\n",
    "print(np.mat(x1)*np.mat(x2).T)\n",
    "print(np.mat(xx))"
   ]
  },
  {
   "cell_type": "code",
   "execution_count": 35,
   "metadata": {},
   "outputs": [
    {
     "name": "stdout",
     "output_type": "stream",
     "text": [
      "(2, 3)\n",
      "(2, 3)\n",
      "[[1.]\n",
      " [1.]]\n"
     ]
    }
   ],
   "source": [
    "a = np.array([[1, 2, 3], [4, 5, 6]])\n",
    "print(np.shape(a))\n",
    "print(a.shape)\n",
    "\n",
    "ones = np.ones((2,1))\n",
    "print(ones)"
   ]
  },
  {
   "cell_type": "code",
   "execution_count": 36,
   "metadata": {},
   "outputs": [
    {
     "name": "stdout",
     "output_type": "stream",
     "text": [
      "0\n",
      "1\n",
      "2\n",
      "[1, 2, 3, 4]\n",
      "[3]\n",
      "2\n",
      "3\n",
      "4\n"
     ]
    }
   ],
   "source": [
    "for i in range(3):\n",
    "    print(i)\n",
    "\n",
    "test = [1, 2, 3, 4]\n",
    "print(test[:])\n",
    "print(test[2:3])\n",
    "for i in range(2, 5):\n",
    "    print(i)"
   ]
  },
  {
   "cell_type": "code",
   "execution_count": 37,
   "metadata": {},
   "outputs": [
    {
     "name": "stdout",
     "output_type": "stream",
     "text": [
      "1396493629.0\n"
     ]
    }
   ],
   "source": [
    "import time\n",
    "from datetime import datetime,date\n",
    "\n",
    "dd = datetime.strptime('2014-04-03T10:53:49.875Z', \"%Y-%m-%dT%H:%M:%S.%fZ\")\n",
    "print(time.mktime(dd.timetuple()))#1396493629.0"
   ]
  },
  {
   "cell_type": "code",
   "execution_count": 38,
   "metadata": {},
   "outputs": [
    {
     "name": "stdout",
     "output_type": "stream",
     "text": [
      "[0.  0.6 1.2 1.8 2.4 3. ]\n"
     ]
    }
   ],
   "source": [
    "print(np.linspace(0,3,6))"
   ]
  },
  {
   "cell_type": "code",
   "execution_count": 39,
   "metadata": {},
   "outputs": [
    {
     "name": "stdout",
     "output_type": "stream",
     "text": [
      "[0 2 1 3]\n",
      "[0.1 0.6 0.5 0.7]\n"
     ]
    }
   ],
   "source": [
    "arr = np.array([0.1, 0.6, 0.5, 0.7])\n",
    "sortedIndex = np.argsort(arr)\n",
    "print(sortedIndex)\n",
    "print(arr)"
   ]
  },
  {
   "cell_type": "code",
   "execution_count": 40,
   "metadata": {},
   "outputs": [
    {
     "name": "stdout",
     "output_type": "stream",
     "text": [
      "[[1 0 0]\n",
      " [0 2 0]\n",
      " [0 0 3]]\n",
      "[[1.         0.         0.        ]\n",
      " [0.         0.5        0.        ]\n",
      " [0.         0.         0.33333333]]\n",
      "[[1.         0.         0.        ]\n",
      " [0.         0.5        0.        ]\n",
      " [0.         0.         0.33333333]]\n"
     ]
    }
   ],
   "source": [
    "dd = [1, 2, 3]\n",
    "dilogdd = np.diag(dd)\n",
    "print(dilogdd)\n",
    "\n",
    "print(np.linalg.inv(dilogdd)) # inverse matrix\n",
    "print(np.mat(dilogdd).I)"
   ]
  },
  {
   "cell_type": "code",
   "execution_count": 41,
   "metadata": {},
   "outputs": [
    {
     "name": "stdout",
     "output_type": "stream",
     "text": [
      "[[ 30  36  42]\n",
      " [ 66  81  96]\n",
      " [102 126 150]]\n",
      "[[ 30  36  42]\n",
      " [ 66  81  96]\n",
      " [102 126 150]]\n"
     ]
    }
   ],
   "source": [
    "x1 = [[1,2,3],[4,5,6],[7,8,9]]\n",
    "d = np.dot(x1, x1) # matrix dot product\n",
    "print(d)\n",
    "print(np.mat(x1)*np.mat(x1))"
   ]
  },
  {
   "cell_type": "code",
   "execution_count": 42,
   "metadata": {},
   "outputs": [
    {
     "name": "stdout",
     "output_type": "stream",
     "text": [
      "[[0. 0. 0.]\n",
      " [0. 0. 0.]]\n",
      "[[1. 0. 0. 0.]\n",
      " [0. 1. 0. 0.]\n",
      " [0. 0. 1. 0.]\n",
      " [0. 0. 0. 1.]]\n"
     ]
    }
   ],
   "source": [
    "print(np.zeros((2, 3)))\n",
    "print(np.eye(4))"
   ]
  },
  {
   "cell_type": "code",
   "execution_count": 43,
   "metadata": {},
   "outputs": [
    {
     "name": "stdout",
     "output_type": "stream",
     "text": [
      "[[1. 0. 0. 0.]\n",
      " [0. 1. 0. 0.]\n",
      " [0. 0. 1. 0.]\n",
      " [0. 0. 0. 1.]]\n",
      "[ 5.  9.  0. 16.]\n"
     ]
    }
   ],
   "source": [
    "A = np.mat([[1,0,0,0,2],[0,0,3,0,0],[0,0,0,0,0],[0,4,0,0,0]])\n",
    "U = A*A.T\n",
    "lamda, hU = np.linalg.eig(U)\n",
    "print(hU)\n",
    "print(lamda)"
   ]
  },
  {
   "cell_type": "code",
   "execution_count": 47,
   "metadata": {},
   "outputs": [
    {
     "name": "stdout",
     "output_type": "stream",
     "text": [
      "[[ 0.  0.  1.  0.]\n",
      " [ 0.  1.  0.  0.]\n",
      " [ 0.  0.  0. -1.]\n",
      " [ 1.  0.  0.  0.]]\n",
      "[4.         3.         2.23606798 0.        ]\n",
      "[[-0.          1.          0.         -0.          0.        ]\n",
      " [-0.          0.          1.         -0.          0.        ]\n",
      " [ 0.4472136   0.          0.          0.          0.89442719]\n",
      " [ 0.          0.          0.          1.          0.        ]\n",
      " [-0.89442719  0.          0.          0.          0.4472136 ]]\n"
     ]
    }
   ],
   "source": [
    "A = np.mat([[1,0,0,0,2],[0,0,3,0,0],[0,0,0,0,0],[0,4,0,0,0]])\n",
    "U,S,VT = np.linalg.svd(A)\n",
    "print(U)\n",
    "print(S)\n",
    "print(VT)"
   ]
  },
  {
   "cell_type": "code",
   "execution_count": 49,
   "metadata": {},
   "outputs": [
    {
     "name": "stdout",
     "output_type": "stream",
     "text": [
      "[[0.28129716 0.81222135 0.57954806]\n",
      " [0.24199972 0.81729191 0.66791607]\n",
      " [0.77011977 0.3094823  0.70830644]]\n",
      "(array([0, 0, 1], dtype=int64), array([0, 4, 2], dtype=int64))\n"
     ]
    }
   ],
   "source": [
    "x = [[1, 0, 0, 0, 2], [0, 0, 3, 0, 0]]\n",
    "print(np.random.rand(3, 3))\n",
    "print(np.nonzero(x)) # 1st line is row value, 2nd line is column value"
   ]
  },
  {
   "cell_type": "code",
   "execution_count": 50,
   "metadata": {},
   "outputs": [
    {
     "name": "stdout",
     "output_type": "stream",
     "text": [
      "A\n",
      "B\n",
      "C\n",
      "D\n",
      "E\n"
     ]
    }
   ],
   "source": [
    "for i in range(65, 70):\n",
    "    print(str(chr(i)))"
   ]
  },
  {
   "cell_type": "code",
   "execution_count": 55,
   "metadata": {},
   "outputs": [
    {
     "name": "stdout",
     "output_type": "stream",
     "text": [
      "[0, 1, 2, 3, 4, 5, 6, 7, 8]\n",
      "[6, 7, 4, 5, 3, 0, 8, 2, 1]\n"
     ]
    }
   ],
   "source": [
    "x1 = list(range(0, 9))\n",
    "print(x1)\n",
    "np.random.shuffle(x1)\n",
    "print(x1)"
   ]
  },
  {
   "cell_type": "code",
   "execution_count": 64,
   "metadata": {},
   "outputs": [
    {
     "name": "stdout",
     "output_type": "stream",
     "text": [
      "[-0.16595599  0.44064899 -0.99977125 -0.39533485 -0.70648822]\n",
      "0.0923385947687978\n",
      "[0.18626021 0.34556073 0.39676747 0.53881673 0.41919451]\n",
      "[[0.6852195  0.20445225 0.87811744]\n",
      " [0.02738759 0.67046751 0.4173048 ]]\n",
      "6\n",
      "[[6 5 6 6 6]\n",
      " [6 5 9 6 5]\n",
      " [5 8 7 6 5]\n",
      " [8 6 6 8 9]\n",
      " [5 6 8 9 7]]\n"
     ]
    }
   ],
   "source": [
    "np.random.seed(1)\n",
    "print(np.random.uniform(-1,1,5)) # specify the range\n",
    "print(np.random.random())\n",
    "print(np.random.random(5))\n",
    "print(np.random.rand(2, 3))\n",
    "print(np.random.randint(5,10))\n",
    "print(np.random.randint(5,10,size=(5,5)))"
   ]
  },
  {
   "cell_type": "code",
   "execution_count": 76,
   "metadata": {},
   "outputs": [
    {
     "name": "stdout",
     "output_type": "stream",
     "text": [
      "[[ 0  1  2  3]\n",
      " [ 4  5  6  7]\n",
      " [ 8  9 10 11]]\n",
      "[[ 0  1  2  3]\n",
      " [ 4  5  6  7]\n",
      " [ 8  9 10 11]]\n"
     ]
    }
   ],
   "source": [
    "a = np.arange(0, 12)\n",
    "a.shape = 3,4\n",
    "print(a)\n",
    "a.tofile(\"a.bin\")\n",
    "b = np.fromfile(\"a.bin\", dtype=np.int32)\n",
    "b.shape = 3,4\n",
    "print(b)"
   ]
  },
  {
   "cell_type": "code",
   "execution_count": 77,
   "metadata": {},
   "outputs": [
    {
     "name": "stdout",
     "output_type": "stream",
     "text": [
      "[[ 0  1  2  3]\n",
      " [ 4  5  6  7]\n",
      " [ 8  9 10 11]]\n",
      "[[ 0  1  2  3]\n",
      " [ 4  5  6  7]\n",
      " [ 8  9 10 11]]\n"
     ]
    }
   ],
   "source": [
    "a = np.arange(0, 12)\n",
    "a.shape = 3,4\n",
    "print(a)\n",
    "np.save('a.npy', a)\n",
    "c = np.load('a.npy')\n",
    "print(c)"
   ]
  },
  {
   "cell_type": "code",
   "execution_count": 78,
   "metadata": {},
   "outputs": [
    {
     "name": "stdout",
     "output_type": "stream",
     "text": [
      "[[1 2 3]\n",
      " [4 5 6]]\n",
      "[0.  0.1 0.2 0.3 0.4 0.5 0.6 0.7 0.8 0.9 1.  1.1 1.2 1.3 1.4 1.5 1.6 1.7\n",
      " 1.8 1.9 2.  2.1 2.2 2.3 2.4 2.5 2.6 2.7 2.8 2.9 3.  3.1 3.2 3.3 3.4 3.5\n",
      " 3.6 3.7 3.8 3.9 4.  4.1 4.2 4.3 4.4 4.5 4.6 4.7 4.8 4.9 5.  5.1 5.2 5.3\n",
      " 5.4 5.5 5.6 5.7 5.8 5.9 6.  6.1 6.2 6.3 6.4 6.5 6.6 6.7 6.8 6.9 7.  7.1\n",
      " 7.2 7.3 7.4 7.5 7.6 7.7 7.8 7.9 8.  8.1 8.2 8.3 8.4 8.5 8.6 8.7 8.8 8.9\n",
      " 9.  9.1 9.2 9.3 9.4 9.5 9.6 9.7 9.8 9.9]\n",
      "[ 0.          0.09983342  0.19866933  0.29552021  0.38941834  0.47942554\n",
      "  0.56464247  0.64421769  0.71735609  0.78332691  0.84147098  0.89120736\n",
      "  0.93203909  0.96355819  0.98544973  0.99749499  0.9995736   0.99166481\n",
      "  0.97384763  0.94630009  0.90929743  0.86320937  0.8084964   0.74570521\n",
      "  0.67546318  0.59847214  0.51550137  0.42737988  0.33498815  0.23924933\n",
      "  0.14112001  0.04158066 -0.05837414 -0.15774569 -0.2555411  -0.35078323\n",
      " -0.44252044 -0.52983614 -0.61185789 -0.68776616 -0.7568025  -0.81827711\n",
      " -0.87157577 -0.91616594 -0.95160207 -0.97753012 -0.993691   -0.99992326\n",
      " -0.99616461 -0.98245261 -0.95892427 -0.92581468 -0.88345466 -0.83226744\n",
      " -0.77276449 -0.70554033 -0.63126664 -0.55068554 -0.46460218 -0.37387666\n",
      " -0.2794155  -0.1821625  -0.0830894   0.0168139   0.1165492   0.21511999\n",
      "  0.31154136  0.40484992  0.49411335  0.57843976  0.6569866   0.72896904\n",
      "  0.79366786  0.85043662  0.8987081   0.93799998  0.96791967  0.98816823\n",
      "  0.99854335  0.99894134  0.98935825  0.96988981  0.94073056  0.90217183\n",
      "  0.85459891  0.79848711  0.7343971   0.66296923  0.58491719  0.50102086\n",
      "  0.41211849  0.31909836  0.22288991  0.12445442  0.02477543 -0.07515112\n",
      " -0.17432678 -0.27176063 -0.36647913 -0.45753589]\n"
     ]
    }
   ],
   "source": [
    "a = np.array([[1,2,3], [4,5,6]])\n",
    "b = np.arange(0, 10, 0.1)\n",
    "c = np.sin(b)\n",
    "np.savez('result.npz', a, b, sin_array = c)\n",
    "r = np.load('result.npz')\n",
    "print(r['arr_0'])\n",
    "print(r['arr_1'])\n",
    "print(r['sin_array'])"
   ]
  },
  {
   "cell_type": "code",
   "execution_count": 80,
   "metadata": {},
   "outputs": [
    {
     "name": "stdout",
     "output_type": "stream",
     "text": [
      "[4 3 5 6 0 1 8 7 2 9]\n",
      "[ 1  9  4 12 15]\n"
     ]
    }
   ],
   "source": [
    "print(np.random.permutation(10)) # shuffle\n",
    "print(np.random.permutation([1, 4, 9, 12, 15]))"
   ]
  },
  {
   "cell_type": "code",
   "execution_count": null,
   "metadata": {},
   "outputs": [],
   "source": []
  }
 ],
 "metadata": {
  "kernelspec": {
   "display_name": "Python 3",
   "language": "python",
   "name": "python3"
  },
  "language_info": {
   "codemirror_mode": {
    "name": "ipython",
    "version": 3
   },
   "file_extension": ".py",
   "mimetype": "text/x-python",
   "name": "python",
   "nbconvert_exporter": "python",
   "pygments_lexer": "ipython3",
   "version": "3.6.6"
  }
 },
 "nbformat": 4,
 "nbformat_minor": 2
}
