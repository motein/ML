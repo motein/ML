{
 "cells": [
  {
   "cell_type": "code",
   "execution_count": 1,
   "metadata": {},
   "outputs": [],
   "source": [
    "# Save and restore models for additional training\n",
    "# import libraries\n",
    "import tensorflow as tf\n",
    "import pandas as pd\n",
    "import numpy as np\n",
    "from sklearn import preprocessing\n",
    "import sys\n",
    "import datetime\n",
    "import matplotlib.pyplot as plt\n",
    "plt.style.use('ggplot') # use this plot style\n",
    "%matplotlib inline"
   ]
  },
  {
   "cell_type": "code",
   "execution_count": 2,
   "metadata": {},
   "outputs": [
    {
     "name": "stdout",
     "output_type": "stream",
     "text": [
      "Python version 3.6.8 (tags/v3.6.8:3c6b436a57, Dec 24 2018, 00:16:47) [MSC v.1916 64 bit (AMD64)]\n",
      "Tensorflow version 1.13.1\n",
      "Pandas version 0.24.2\n",
      "Numpy version 1.16.2\n"
     ]
    }
   ],
   "source": [
    "print('Python version ' + sys.version)\n",
    "print('Tensorflow version ' + tf.VERSION)\n",
    "print('Pandas version ' + pd.__version__)\n",
    "print('Numpy version ' + np.__version__)"
   ]
  },
  {
   "cell_type": "code",
   "execution_count": 3,
   "metadata": {},
   "outputs": [],
   "source": [
    "def normalize(array):\n",
    "    u = array.mean()\n",
    "    s = array.std()\n",
    "    norm = (array - u) / s\n",
    "    return u, s, norm\n",
    "\n",
    "def min_max(array, min=0, max=1):\n",
    "    X_std = (array - array.min(axis=0)) / (array.max(axis=0) - array.min(axis=0))\n",
    "    X_scaled = X_std * (max - min) + min\n",
    "    return X_scaled"
   ]
  },
  {
   "cell_type": "code",
   "execution_count": 6,
   "metadata": {},
   "outputs": [
    {
     "name": "stdout",
     "output_type": "stream",
     "text": [
      "Testing data points: (150, 1) <class 'numpy.ndarray'>\n",
      "Validation data points: (150, 1)\n",
      "Training data points: (9700, 1)\n"
     ]
    }
   ],
   "source": [
    "# Let's generate 1000 random samples\n",
    "pool = np.random.rand(10000,1).astype(np.float32)\n",
    "# Shuffle the samples\n",
    "np.random.shuffle(pool)\n",
    "# sample size of 15%\n",
    "sample = int(1000 * 0.15)\n",
    "# 15% test\n",
    "test_x = pool[0:sample]\n",
    "# 15% validation\n",
    "valid_x = pool[sample:sample*2]\n",
    "# 70% training\n",
    "train_x = pool[sample*2:]\n",
    "print('Testing data points: ' + str(test_x.shape), type(test_x))\n",
    "print('Validation data points: ' + str(valid_x.shape))\n",
    "print('Training data points: ' + str(train_x.shape))\n",
    "# Let's compute the ouput using 2 for a and 2 for b\n",
    "test_y = 2.0 * test_x**8 + 1.0 * test_x**6\n",
    "valid_y = 2.0 * valid_x**8 + 1.0 * valid_x**6\n",
    "train_y = 2.0 * train_x**8 + 1.0 * train_x**6\n",
    "# scale x and y (I choose to only scale y since x seemed already to be close enough to min=0, max=1)\n",
    "#test_x = min_max(test_x)\n",
    "test_y = min_max(test_y)\n",
    "#valid_x = min_max(valid_x)\n",
    "valid_y = min_max(valid_y)\n",
    "#train_x = min_max(train_x)\n",
    "train_y = min_max(train_y)\n",
    "# Normalize x and y (I choose to only normalize y since x seemed already to be close enough to mean=0, std=1)\n",
    "#u_test_x, s_test_x, test_x = normalize(test_x)\n",
    "u_test_y, s_test_y, test_y = normalize(test_y)\n",
    "#u_valid_x, s_valid_x, valid_x = normalize(valid_x)\n",
    "u_valid_y, s_valid_y, valid_y = normalize(valid_y)\n",
    "#u_train_x, s_train_x, train_x = normalize(train_x)\n",
    "u_train_y, s_train_y, train_y = normalize(train_y)"
   ]
  },
  {
   "cell_type": "code",
   "execution_count": 6,
   "metadata": {},
   "outputs": [
    {
     "data": {
      "text/html": [
       "<div>\n",
       "<style scoped>\n",
       "    .dataframe tbody tr th:only-of-type {\n",
       "        vertical-align: middle;\n",
       "    }\n",
       "\n",
       "    .dataframe tbody tr th {\n",
       "        vertical-align: top;\n",
       "    }\n",
       "\n",
       "    .dataframe thead th {\n",
       "        text-align: right;\n",
       "    }\n",
       "</style>\n",
       "<table border=\"1\" class=\"dataframe\">\n",
       "  <thead>\n",
       "    <tr style=\"text-align: right;\">\n",
       "      <th></th>\n",
       "      <th>train_x</th>\n",
       "      <th>train_y</th>\n",
       "    </tr>\n",
       "  </thead>\n",
       "  <tbody>\n",
       "    <tr>\n",
       "      <th>0</th>\n",
       "      <td>0.732442</td>\n",
       "      <td>-0.080190</td>\n",
       "    </tr>\n",
       "    <tr>\n",
       "      <th>1</th>\n",
       "      <td>0.893564</td>\n",
       "      <td>1.399070</td>\n",
       "    </tr>\n",
       "    <tr>\n",
       "      <th>2</th>\n",
       "      <td>0.154401</td>\n",
       "      <td>-0.552727</td>\n",
       "    </tr>\n",
       "    <tr>\n",
       "      <th>3</th>\n",
       "      <td>0.318130</td>\n",
       "      <td>-0.550908</td>\n",
       "    </tr>\n",
       "    <tr>\n",
       "      <th>4</th>\n",
       "      <td>0.740909</td>\n",
       "      <td>-0.040359</td>\n",
       "    </tr>\n",
       "  </tbody>\n",
       "</table>\n",
       "</div>"
      ],
      "text/plain": [
       "    train_x   train_y\n",
       "0  0.732442 -0.080190\n",
       "1  0.893564  1.399070\n",
       "2  0.154401 -0.552727\n",
       "3  0.318130 -0.550908\n",
       "4  0.740909 -0.040359"
      ]
     },
     "execution_count": 6,
     "metadata": {},
     "output_type": "execute_result"
    }
   ],
   "source": [
    "df = pd.DataFrame({'train_x':train_x[:,0],'train_y':train_y[:,0]})\n",
    "df_valid = pd.DataFrame({'valid_x':valid_x[:,0],'valid_y':valid_y[:,0]})\n",
    "df_test = pd.DataFrame({'test_x':test_x[:,0],'test_y':test_y[:,0]})\n",
    "df.head()"
   ]
  },
  {
   "cell_type": "code",
   "execution_count": 7,
   "metadata": {},
   "outputs": [
    {
     "data": {
      "text/html": [
       "<div>\n",
       "<style scoped>\n",
       "    .dataframe tbody tr th:only-of-type {\n",
       "        vertical-align: middle;\n",
       "    }\n",
       "\n",
       "    .dataframe tbody tr th {\n",
       "        vertical-align: top;\n",
       "    }\n",
       "\n",
       "    .dataframe thead th {\n",
       "        text-align: right;\n",
       "    }\n",
       "</style>\n",
       "<table border=\"1\" class=\"dataframe\">\n",
       "  <thead>\n",
       "    <tr style=\"text-align: right;\">\n",
       "      <th></th>\n",
       "      <th>train_x</th>\n",
       "      <th>train_y</th>\n",
       "    </tr>\n",
       "  </thead>\n",
       "  <tbody>\n",
       "    <tr>\n",
       "      <th>count</th>\n",
       "      <td>9700.000000</td>\n",
       "      <td>9.700000e+03</td>\n",
       "    </tr>\n",
       "    <tr>\n",
       "      <th>mean</th>\n",
       "      <td>0.500683</td>\n",
       "      <td>6.685552e-08</td>\n",
       "    </tr>\n",
       "    <tr>\n",
       "      <th>std</th>\n",
       "      <td>0.291213</td>\n",
       "      <td>1.000051e+00</td>\n",
       "    </tr>\n",
       "    <tr>\n",
       "      <th>min</th>\n",
       "      <td>0.000064</td>\n",
       "      <td>-5.527482e-01</td>\n",
       "    </tr>\n",
       "    <tr>\n",
       "      <th>25%</th>\n",
       "      <td>0.248534</td>\n",
       "      <td>-5.523573e-01</td>\n",
       "    </tr>\n",
       "    <tr>\n",
       "      <th>50%</th>\n",
       "      <td>0.499978</td>\n",
       "      <td>-5.181532e-01</td>\n",
       "    </tr>\n",
       "    <tr>\n",
       "      <th>75%</th>\n",
       "      <td>0.756506</td>\n",
       "      <td>4.078898e-02</td>\n",
       "    </tr>\n",
       "    <tr>\n",
       "      <th>max</th>\n",
       "      <td>0.999974</td>\n",
       "      <td>3.875861e+00</td>\n",
       "    </tr>\n",
       "  </tbody>\n",
       "</table>\n",
       "</div>"
      ],
      "text/plain": [
       "           train_x       train_y\n",
       "count  9700.000000  9.700000e+03\n",
       "mean      0.500683  6.685552e-08\n",
       "std       0.291213  1.000051e+00\n",
       "min       0.000064 -5.527482e-01\n",
       "25%       0.248534 -5.523573e-01\n",
       "50%       0.499978 -5.181532e-01\n",
       "75%       0.756506  4.078898e-02\n",
       "max       0.999974  3.875861e+00"
      ]
     },
     "execution_count": 7,
     "metadata": {},
     "output_type": "execute_result"
    }
   ],
   "source": [
    "df.describe()"
   ]
  },
  {
   "cell_type": "code",
   "execution_count": 8,
   "metadata": {},
   "outputs": [
    {
     "data": {
      "text/plain": [
       "<matplotlib.axes._subplots.AxesSubplot at 0x13828acab38>"
      ]
     },
     "execution_count": 8,
     "metadata": {},
     "output_type": "execute_result"
    },
    {
     "data": {
      "image/png": "[encoded data removed]",
      "text/plain": [
       "<Figure size 1080x360 with 1 Axes>"
      ]
     },
     "metadata": {
      "needs_background": "light"
     },
     "output_type": "display_data"
    }
   ],
   "source": [
    "df.plot.scatter(x='train_x', y='train_y', figsize=(15,5))"
   ]
  },
  {
   "cell_type": "code",
   "execution_count": 9,
   "metadata": {},
   "outputs": [
    {
     "data": {
      "text/plain": [
       "<matplotlib.axes._subplots.AxesSubplot at 0x1382ad76358>"
      ]
     },
     "execution_count": 9,
     "metadata": {},
     "output_type": "execute_result"
    },
    {
     "data": {
      "image/png": "[encoded data removed]",
      "text/plain": [
       "<Figure size 1080x360 with 1 Axes>"
      ]
     },
     "metadata": {
      "needs_background": "light"
     },
     "output_type": "display_data"
    }
   ],
   "source": [
    "df_valid.plot.scatter(x='valid_x', y='valid_y', figsize=(15,5))"
   ]
  },
  {
   "cell_type": "code",
   "execution_count": 10,
   "metadata": {},
   "outputs": [
    {
     "data": {
      "text/plain": [
       "<matplotlib.axes._subplots.AxesSubplot at 0x1382ac0a860>"
      ]
     },
     "execution_count": 10,
     "metadata": {},
     "output_type": "execute_result"
    },
    {
     "data": {
      "image/png": "[encoded data removed]",
      "text/plain": [
       "<Figure size 1080x360 with 1 Axes>"
      ]
     },
     "metadata": {
      "needs_background": "light"
     },
     "output_type": "display_data"
    }
   ],
   "source": [
    "df_test.plot.scatter(x='test_x', y='test_y', figsize=(15,5))"
   ]
  },
  {
   "cell_type": "code",
   "execution_count": 11,
   "metadata": {},
   "outputs": [],
   "source": [
    "def add_layer(inputs, in_size, out_size, activation_function=None):\n",
    "    # tf.random_normal([what is the size of your batches, size of output layer])\n",
    "    Weights = tf.Variable(tf.truncated_normal([in_size, out_size], mean=0.1, stddev=0.1))\n",
    "    # tf.random_normal([size of output layer])\n",
    "    biases = tf.Variable(tf.truncated_normal([out_size], mean=0.1, stddev=0.1))\n",
    "    # shape of pred = [size of your batches, size of output layer]\n",
    "    pred = tf.matmul(inputs, Weights) + biases\n",
    "    if activation_function is None:\n",
    "        outputs = pred\n",
    "    else:\n",
    "        outputs = activation_function(pred)\n",
    "    return outputs"
   ]
  },
  {
   "cell_type": "code",
   "execution_count": 12,
   "metadata": {},
   "outputs": [],
   "source": [
    "# larger batch sizes help you get to the local minimum faster at a cost of more cpu power\n",
    "# The strategy is to use batch_size when you cannot fit the entire dataset into memory\n",
    "# In practice, small to moderate mini-batches (10-500) are generally used\n",
    "batch_size = 100"
   ]
  },
  {
   "cell_type": "code",
   "execution_count": 13,
   "metadata": {},
   "outputs": [
    {
     "name": "stdout",
     "output_type": "stream",
     "text": [
      "shape of x and y:\n",
      "(?, 1) (?, 1)\n"
     ]
    }
   ],
   "source": [
    "# you can adjust the number of neurons in the hidden layers here\n",
    "hidden_size = 10\n",
    "# placeholders\n",
    "# shape=[how many samples do you have, how many input neurons]\n",
    "x = tf.placeholder(tf.float32, shape=[None, 1], name=\"01_x\")\n",
    "y = tf.placeholder(tf.float32, shape=[None, 1], name=\"01_y\")\n",
    "print(\"shape of x and y:\")\n",
    "print(x.get_shape(),y.get_shape())"
   ]
  },
  {
   "cell_type": "code",
   "execution_count": 14,
   "metadata": {},
   "outputs": [],
   "source": [
    "# drop out\n",
    "keep_prob = tf.placeholder(tf.float32)"
   ]
  },
  {
   "cell_type": "code",
   "execution_count": 15,
   "metadata": {},
   "outputs": [
    {
     "name": "stdout",
     "output_type": "stream",
     "text": [
      "WARNING:tensorflow:From c:\\python36\\lib\\site-packages\\tensorflow\\python\\framework\\op_def_library.py:263: colocate_with (from tensorflow.python.framework.ops) is deprecated and will be removed in a future version.\n",
      "Instructions for updating:\n",
      "Colocations handled automatically by placer.\n",
      "WARNING:tensorflow:From <ipython-input-15-9edf4ecb4a01>:5: calling dropout (from tensorflow.python.ops.nn_ops) with keep_prob is deprecated and will be removed in a future version.\n",
      "Instructions for updating:\n",
      "Please use `rate` instead of `keep_prob`. Rate should be set to `rate = 1 - keep_prob`.\n",
      "shape of hidden layers:\n",
      "(?, 10) (?, 10) (?, 10) (?, 10)\n"
     ]
    }
   ],
   "source": [
    "# create your hidden layers!\n",
    "h1 = add_layer(x, 1, hidden_size, tf.nn.relu)\n",
    "\n",
    "# here is where we shoot down some of the neurons\n",
    "h1_drop = tf.nn.dropout(h1, keep_prob)\n",
    "\n",
    "# add a second layer\n",
    "h2 = add_layer(h1_drop, hidden_size, hidden_size, tf.nn.relu)\n",
    "h2_drop = tf.nn.dropout(h2, keep_prob)\n",
    "\n",
    "# add a third layer\n",
    "h3 = add_layer(h2_drop, hidden_size, hidden_size, tf.nn.relu)\n",
    "h3_drop = tf.nn.dropout(h3, keep_prob)\n",
    "\n",
    "# add a fourth layer\n",
    "h4 = add_layer(h3_drop, hidden_size, hidden_size, tf.nn.relu)\n",
    "h4_drop = tf.nn.dropout(h4, keep_prob)\n",
    "\n",
    "print(\"shape of hidden layers:\")\n",
    "print(h1_drop.get_shape(), h2_drop.get_shape(), h3_drop.get_shape(), h4_drop.get_shape())"
   ]
  },
  {
   "cell_type": "code",
   "execution_count": 16,
   "metadata": {},
   "outputs": [
    {
     "name": "stdout",
     "output_type": "stream",
     "text": [
      "shape of output layer:\n",
      "(?, 1)\n"
     ]
    }
   ],
   "source": [
    "# Output Layers\n",
    "pred = add_layer(h4_drop, hidden_size, 1)\n",
    "\n",
    "print(\"shape of output layer:\")\n",
    "print(pred.get_shape())"
   ]
  },
  {
   "cell_type": "code",
   "execution_count": 17,
   "metadata": {},
   "outputs": [],
   "source": [
    "# minimize the mean squared errors.\n",
    "loss = tf.reduce_mean(tf.square(pred - y))\n",
    "# pick optimizer\n",
    "optimizer = tf.train.GradientDescentOptimizer(0.001)\n",
    "train = optimizer.minimize(loss)"
   ]
  },
  {
   "cell_type": "code",
   "execution_count": 73,
   "metadata": {},
   "outputs": [],
   "source": [
    "# Create variable to save and restore all of your variables\n",
    "saver = tf.train.Saver()\n",
    "# path\n",
    "save_path = \"E:/Model/model_\" + datetime.datetime.now().strftime('%Y-%m-%d')"
   ]
  },
  {
   "cell_type": "code",
   "execution_count": 74,
   "metadata": {},
   "outputs": [],
   "source": [
    "# check accuracy of model\n",
    "correct_prediction = tf.equal(tf.round(pred), tf.round(y))\n",
    "accuracy = tf.reduce_mean(tf.cast(correct_prediction, tf.float32))"
   ]
  },
  {
   "cell_type": "code",
   "execution_count": 75,
   "metadata": {},
   "outputs": [],
   "source": [
    "# Best validation accuracy seen so far.\n",
    "best_valid_acc = 0.0\n",
    "# Iteration-number for last improvement to validation accuracy.\n",
    "last_improvement = 0\n",
    "# Stop optimization if no improvement found in this many iterations.\n",
    "require_improvement = 15000"
   ]
  },
  {
   "cell_type": "code",
   "execution_count": 80,
   "metadata": {},
   "outputs": [
    {
     "name": "stdout",
     "output_type": "stream",
     "text": [
      "INFO:tensorflow:Restoring parameters from E:/Model/model_2019-04-12\n",
      "Training loss at step 0: 1.226486 \n",
      "Validation 1.295891\n",
      "Training loss at step 1000: 0.683122 \n",
      "Validation 0.971744\n",
      "Training loss at step 2000: 0.991245 \n",
      "Validation 0.940420\n",
      "Training loss at step 3000: 0.700349 \n",
      "Validation 0.870627\n",
      "Training loss at step 4000: 0.523688 \n",
      "Validation 0.709883\n",
      "Training loss at step 5000: 0.628699 \n",
      "Validation 0.468117\n",
      "Training loss at step 6000: 0.154932 \n",
      "Validation 0.277558\n",
      "Training loss at step 7000: 0.106406 \n",
      "Validation 0.165396\n",
      "Training loss at step 8000: 0.096741 \n",
      "Validation 0.104551\n",
      "Training loss at step 9000: 0.039566 \n",
      "Validation 0.077828\n",
      "Training loss at step 10000: 0.015531 \n",
      "Validation 0.063134\n",
      "Training loss at step 11000: 0.044981 \n",
      "Validation 0.050307\n",
      "Training loss at step 12000: 0.047512 \n",
      "Validation 0.044313\n",
      "Training loss at step 13000: 0.041880 \n",
      "Validation 0.045031\n",
      "Training loss at step 14000: 0.075225 \n",
      "Validation 0.034710\n",
      "Training loss at step 15000: 0.033991 \n",
      "Validation 0.034110\n",
      "Training loss at step 16000: 0.023647 \n",
      "Validation 0.038781\n",
      "Training loss at step 17000: 0.026085 \n",
      "Validation 0.031808\n",
      "Training loss at step 18000: 0.015440 \n",
      "Validation 0.037537\n",
      "Training loss at step 19000: 0.025935 \n",
      "Validation 0.032468\n",
      "Training loss at step 20000: 0.033871 \n",
      "Validation 0.031808\n",
      "Training loss at step 21000: 0.032964 \n",
      "Validation 0.027840\n",
      "Training loss at step 22000: 0.021355 \n",
      "Validation 0.027573\n",
      "Training loss at step 23000: 0.038432 \n",
      "Validation 0.028321\n",
      "Training loss at step 24000: 0.022800 \n",
      "Validation 0.033446\n",
      "Training loss at step 25000: 0.016778 \n",
      "Validation 0.031340\n",
      "Training loss at step 26000: 0.018523 \n",
      "Validation 0.032008\n",
      "Training loss at step 27000: 0.028375 \n",
      "Validation 0.032628\n",
      "Training loss at step 28000: 0.011486 \n",
      "Validation 0.030366\n",
      "Training loss at step 29000: 0.032884 \n",
      "Validation 0.031756\n",
      "Training loss at step 30000: 0.008317 \n",
      "Validation 0.027979\n",
      "No improvement found in a while, stopping optimization.\n",
      "Accuracy on the Training Set: 0.94\n",
      "Accuracy on the Validation Set: 0.87333333\n",
      "Accuracy on the Test Set: 0.8466667\n"
     ]
    }
   ],
   "source": [
    "# initialize the variables\n",
    "init = tf.global_variables_initializer()\n",
    "# hold step and error values\n",
    "t = []\n",
    "# Run your graph\n",
    "with tf.Session() as sess:\n",
    "    \n",
    "    # restore model (no need to initialize variables if restorint model)\n",
    "    saver.restore(sess, save_path=save_path)\n",
    "    \n",
    "    # initialize variables\n",
    "    sess.run(init)\n",
    "\n",
    "    # Fit the function.\n",
    "    for step in range(60000):\n",
    "        # pull batches at random\n",
    "        i = np.random.permutation(train_x.shape[0])[:batch_size]\n",
    "        # get your data\n",
    "        train_data = {x:train_x[i,:], y:train_y[i,:], keep_prob: 0.98}\n",
    "        valid_data = {x:valid_x, y:valid_y, keep_prob: 1.0}\n",
    "        test_data = {x:test_x, y:test_y, keep_prob: 1.0}\n",
    "        \n",
    "        # training in progress...\n",
    "        train_loss, train_pred = sess.run([loss, train], feed_dict=train_data)        \n",
    "        \n",
    "        # print every n iterations\n",
    "        if step%1000==0:\n",
    "           \n",
    "            # capture the step and error for analysis\n",
    "            valid_loss = sess.run(loss, feed_dict=valid_data) \n",
    "            t.append((step, train_loss, valid_loss))    \n",
    "            \n",
    "            # get snapshot of current training and validation accuracy       \n",
    "            train_acc = accuracy.eval(train_data)\n",
    "            valid_acc = accuracy.eval(valid_data)           \n",
    "\n",
    "            # If validation accuracy is an improvement over best-known.\n",
    "            if valid_acc > best_valid_acc:\n",
    "                # Update the best-known validation accuracy.\n",
    "                best_valid_acc = valid_acc\n",
    "                \n",
    "                # Set the iteration for the last improvement to current.\n",
    "                last_improvement = step\n",
    "                \n",
    "                # Save model to disk\n",
    "                saver.save(sess, save_path=save_path)               \n",
    "                # Flag when ever an improvement is found\n",
    "                improved_str = '*'\n",
    "            else:\n",
    "                # An empty string to be printed below.\n",
    "                # Shows that no improvement was found.\n",
    "                improved_str = ''   \n",
    "                \n",
    "            print(\"Training loss at step %d: %f %s\" % (step, train_loss, improved_str))        \n",
    "            print(\"Validation %f\" % (valid_loss))            \n",
    "                \n",
    "            # If no improvement found in the required number of iterations.\n",
    "            if step - last_improvement > require_improvement:\n",
    "                print(\"No improvement found in a while, stopping optimization.\")\n",
    "                # Break out from the for-loop.\n",
    "                break \n",
    "            \n",
    "    # here is where you see how good of a Data Scientist you are        \n",
    "    print(\"Accuracy on the Training Set:\", accuracy.eval(train_data) )\n",
    "    print(\"Accuracy on the Validation Set:\", accuracy.eval(valid_data) ) \n",
    "    print(\"Accuracy on the Test Set:\", accuracy.eval(test_data) )\n",
    "    \n",
    "    # capture predictions on test data \n",
    "    test_results = sess.run(pred, feed_dict={x:test_x, keep_prob: 1.0})  \n",
    "    df_final = pd.DataFrame({'test_x':test_x[:,0], 'pred':test_results[:,0]})\n",
    "    \n",
    "    # capture training and validation loss\n",
    "    df_loss = pd.DataFrame(t, columns=['step', 'train_loss', 'valid_loss'])"
   ]
  },
  {
   "cell_type": "code",
   "execution_count": 77,
   "metadata": {},
   "outputs": [],
   "source": [
    "# check accuracy of model\n",
    "correct_prediction = tf.equal(tf.round(pred), tf.round(y))\n",
    "accuracy = tf.reduce_mean(tf.cast(correct_prediction, tf.float32))"
   ]
  },
  {
   "cell_type": "code",
   "execution_count": 78,
   "metadata": {},
   "outputs": [
    {
     "data": {
      "image/png": "[encoded data removed]",
      "text/plain": [
       "<Figure size 1080x360 with 1 Axes>"
      ]
     },
     "metadata": {
      "needs_background": "light"
     },
     "output_type": "display_data"
    }
   ],
   "source": [
    "fig, axes = plt.subplots(nrows=1, ncols=1, figsize=(15, 5))\n",
    "\n",
    "# Chart 1 - Shows the line we are trying to model\n",
    "df.plot.scatter(x='train_x', y='train_y', ax=axes, color='red')\n",
    "\n",
    "# Chart 2 - Shows the line our trained model came up with\n",
    "df_final.plot.scatter(x='test_x', y='pred', ax=axes, alpha=0.3)\n",
    "\n",
    "# add a little sugar\n",
    "axes.set_title('target vs pred', fontsize=20)\n",
    "axes.set_ylabel('y', fontsize=15)\n",
    "axes.set_xlabel('x', fontsize=15)\n",
    "axes.legend([\"target\", \"pred\"], loc='best');"
   ]
  },
  {
   "cell_type": "code",
   "execution_count": 79,
   "metadata": {},
   "outputs": [
    {
     "data": {
      "text/plain": [
       "<matplotlib.axes._subplots.AxesSubplot at 0x1382ac0a518>"
      ]
     },
     "execution_count": 79,
     "metadata": {},
     "output_type": "execute_result"
    },
    {
     "data": {
      "image/png": "[encoded data removed]",
      "text/plain": [
       "<Figure size 1080x360 with 1 Axes>"
      ]
     },
     "metadata": {
      "needs_background": "light"
     },
     "output_type": "display_data"
    }
   ],
   "source": [
    "df_loss.set_index('step').plot(logy=True, figsize=(15,5))"
   ]
  },
  {
   "cell_type": "code",
   "execution_count": null,
   "metadata": {},
   "outputs": [],
   "source": []
  }
 ],
 "metadata": {
  "kernelspec": {
   "display_name": "Python 3",
   "language": "python",
   "name": "python3"
  },
  "language_info": {
   "codemirror_mode": {
    "name": "ipython",
    "version": 3
   },
   "file_extension": ".py",
   "mimetype": "text/x-python",
   "name": "python",
   "nbconvert_exporter": "python",
   "pygments_lexer": "ipython3",
   "version": "3.6.8"
  }
 },
 "nbformat": 4,
 "nbformat_minor": 2
}
