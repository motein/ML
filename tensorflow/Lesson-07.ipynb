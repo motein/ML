{
 "cells": [
  {
   "cell_type": "code",
   "execution_count": 1,
   "metadata": {},
   "outputs": [
    {
     "name": "stdout",
     "output_type": "stream",
     "text": [
      "Python version 3.6.8 (tags/v3.6.8:3c6b436a57, Dec 24 2018, 00:16:47) [MSC v.1916 64 bit (AMD64)]\n",
      "Tensorflow version 1.13.1\n",
      "Pandas version 0.24.2\n",
      "Numpy version 1.16.2\n"
     ]
    }
   ],
   "source": [
    "# import libraries\n",
    "import tensorflow as tf\n",
    "import pandas as pd\n",
    "import numpy as np\n",
    "import sys\n",
    "import datetime\n",
    "import matplotlib.pyplot as plt\n",
    "plt.style.use('ggplot') # use this plot style\n",
    "%matplotlib inline\n",
    "\n",
    "print('Python version ' + sys.version)\n",
    "print('Tensorflow version ' + tf.VERSION)\n",
    "print('Pandas version ' + pd.__version__)\n",
    "print('Numpy version ' + np.__version__)"
   ]
  },
  {
   "cell_type": "code",
   "execution_count": 2,
   "metadata": {},
   "outputs": [
    {
     "name": "stdout",
     "output_type": "stream",
     "text": [
      "Testing data points: (150, 1)\n",
      "Training data points: (850, 1)\n"
     ]
    }
   ],
   "source": [
    "# Function to Model: y = a * x^2 + b * x + c\n",
    "# Let's generate 1000 random smaples\n",
    "pool = np.random.rand(1000,1).astype(np.float32)\n",
    "# Shuffle the samples\n",
    "np.random.shuffle(pool)\n",
    "# Sample size of 15%\n",
    "sample = int(1000*0.15)\n",
    "# 15% test\n",
    "test_x = pool[0:sample]\n",
    "# 85% training\n",
    "train_x = pool[sample:]\n",
    "print('Testing data points: ' + str(test_x.shape))\n",
    "print('Training data points: ' + str(train_x.shape))\n",
    "# Let's compute the output using 2 for a, 3 for b, and 5 for c\n",
    "test_y = 2.0*test_x**2+3.0*test_x+5\n",
    "train_y = 2.0*train_x**2+3.0*train_x+5"
   ]
  },
  {
   "cell_type": "code",
   "execution_count": 3,
   "metadata": {},
   "outputs": [
    {
     "data": {
      "text/html": [
       "<div>\n",
       "<style scoped>\n",
       "    .dataframe tbody tr th:only-of-type {\n",
       "        vertical-align: middle;\n",
       "    }\n",
       "\n",
       "    .dataframe tbody tr th {\n",
       "        vertical-align: top;\n",
       "    }\n",
       "\n",
       "    .dataframe thead th {\n",
       "        text-align: right;\n",
       "    }\n",
       "</style>\n",
       "<table border=\"1\" class=\"dataframe\">\n",
       "  <thead>\n",
       "    <tr style=\"text-align: right;\">\n",
       "      <th></th>\n",
       "      <th>x</th>\n",
       "      <th>y</th>\n",
       "    </tr>\n",
       "  </thead>\n",
       "  <tbody>\n",
       "    <tr>\n",
       "      <th>0</th>\n",
       "      <td>0.521559</td>\n",
       "      <td>7.108723</td>\n",
       "    </tr>\n",
       "    <tr>\n",
       "      <th>1</th>\n",
       "      <td>0.721422</td>\n",
       "      <td>8.205167</td>\n",
       "    </tr>\n",
       "    <tr>\n",
       "      <th>2</th>\n",
       "      <td>0.561496</td>\n",
       "      <td>7.315041</td>\n",
       "    </tr>\n",
       "    <tr>\n",
       "      <th>3</th>\n",
       "      <td>0.361092</td>\n",
       "      <td>6.344051</td>\n",
       "    </tr>\n",
       "    <tr>\n",
       "      <th>4</th>\n",
       "      <td>0.307883</td>\n",
       "      <td>6.113232</td>\n",
       "    </tr>\n",
       "  </tbody>\n",
       "</table>\n",
       "</div>"
      ],
      "text/plain": [
       "          x         y\n",
       "0  0.521559  7.108723\n",
       "1  0.721422  8.205167\n",
       "2  0.561496  7.315041\n",
       "3  0.361092  6.344051\n",
       "4  0.307883  6.113232"
      ]
     },
     "execution_count": 3,
     "metadata": {},
     "output_type": "execute_result"
    }
   ],
   "source": [
    "df = pd.DataFrame({'x':train_x[:,0], 'y':train_y[:,0]})\n",
    "df.head()"
   ]
  },
  {
   "cell_type": "code",
   "execution_count": 4,
   "metadata": {},
   "outputs": [
    {
     "data": {
      "text/html": [
       "<div>\n",
       "<style scoped>\n",
       "    .dataframe tbody tr th:only-of-type {\n",
       "        vertical-align: middle;\n",
       "    }\n",
       "\n",
       "    .dataframe tbody tr th {\n",
       "        vertical-align: top;\n",
       "    }\n",
       "\n",
       "    .dataframe thead th {\n",
       "        text-align: right;\n",
       "    }\n",
       "</style>\n",
       "<table border=\"1\" class=\"dataframe\">\n",
       "  <thead>\n",
       "    <tr style=\"text-align: right;\">\n",
       "      <th></th>\n",
       "      <th>x</th>\n",
       "      <th>y</th>\n",
       "    </tr>\n",
       "  </thead>\n",
       "  <tbody>\n",
       "    <tr>\n",
       "      <th>count</th>\n",
       "      <td>850.000000</td>\n",
       "      <td>850.000000</td>\n",
       "    </tr>\n",
       "    <tr>\n",
       "      <th>mean</th>\n",
       "      <td>0.492460</td>\n",
       "      <td>7.116602</td>\n",
       "    </tr>\n",
       "    <tr>\n",
       "      <th>std</th>\n",
       "      <td>0.277823</td>\n",
       "      <td>1.390473</td>\n",
       "    </tr>\n",
       "    <tr>\n",
       "      <th>min</th>\n",
       "      <td>0.001100</td>\n",
       "      <td>5.003303</td>\n",
       "    </tr>\n",
       "    <tr>\n",
       "      <th>25%</th>\n",
       "      <td>0.258248</td>\n",
       "      <td>5.908128</td>\n",
       "    </tr>\n",
       "    <tr>\n",
       "      <th>50%</th>\n",
       "      <td>0.489387</td>\n",
       "      <td>6.947158</td>\n",
       "    </tr>\n",
       "    <tr>\n",
       "      <th>75%</th>\n",
       "      <td>0.728211</td>\n",
       "      <td>8.245218</td>\n",
       "    </tr>\n",
       "    <tr>\n",
       "      <th>max</th>\n",
       "      <td>0.997320</td>\n",
       "      <td>9.981256</td>\n",
       "    </tr>\n",
       "  </tbody>\n",
       "</table>\n",
       "</div>"
      ],
      "text/plain": [
       "                x           y\n",
       "count  850.000000  850.000000\n",
       "mean     0.492460    7.116602\n",
       "std      0.277823    1.390473\n",
       "min      0.001100    5.003303\n",
       "25%      0.258248    5.908128\n",
       "50%      0.489387    6.947158\n",
       "75%      0.728211    8.245218\n",
       "max      0.997320    9.981256"
      ]
     },
     "execution_count": 4,
     "metadata": {},
     "output_type": "execute_result"
    }
   ],
   "source": [
    "df.describe()"
   ]
  },
  {
   "cell_type": "code",
   "execution_count": 5,
   "metadata": {},
   "outputs": [
    {
     "data": {
      "text/plain": [
       "<matplotlib.axes._subplots.AxesSubplot at 0x28b06991278>"
      ]
     },
     "execution_count": 5,
     "metadata": {},
     "output_type": "execute_result"
    },
    {
     "data": {
      "image/png": "[encoded data removed]",
      "text/plain": [
       "<Figure size 1080x360 with 1 Axes>"
      ]
     },
     "metadata": {
      "needs_background": "light"
     },
     "output_type": "display_data"
    }
   ],
   "source": [
    "df.plot.scatter(x='x',y='y',figsize=(15,5))"
   ]
  },
  {
   "cell_type": "code",
   "execution_count": 6,
   "metadata": {},
   "outputs": [
    {
     "name": "stdout",
     "output_type": "stream",
     "text": [
      "shape of x and y:\n",
      "(?, 1) (?, 1)\n"
     ]
    }
   ],
   "source": [
    "# Model your Graph\n",
    "# you can adjust the number of neurons in the hidden layer here\n",
    "hidden_size = 1\n",
    "# placeholders\n",
    "# shape=[how many samples do you have, how many input neurons]\n",
    "x = tf.placeholder(tf.float32, shape=[None, 1], name=\"01_x\")\n",
    "y = tf.placeholder(tf.float32, shape=[None, 1], name=\"01_y\")\n",
    "print(\"shape of x and y:\")\n",
    "print(x.get_shape(), y.get_shape())"
   ]
  },
  {
   "cell_type": "code",
   "execution_count": 7,
   "metadata": {},
   "outputs": [
    {
     "name": "stdout",
     "output_type": "stream",
     "text": [
      "WARNING:tensorflow:From c:\\python36\\lib\\site-packages\\tensorflow\\python\\framework\\op_def_library.py:263: colocate_with (from tensorflow.python.framework.ops) is deprecated and will be removed in a future version.\n",
      "Instructions for updating:\n",
      "Colocations handled automatically by placer.\n",
      "shape of hidden layer\n",
      "(?, 1)\n"
     ]
    }
   ],
   "source": [
    "# create your first hidden layer!\n",
    "# tf.truncated_normal ([how many samples do you have, size of output layer])\n",
    "W1 = tf.Variable(tf.truncated_normal([1, hidden_size], mean=0.1, stddev=0.1), name='w1')\n",
    "# tf.truncated_normal ([size of output layer])\n",
    "b1 = tf.Variable(tf.truncated_normal([hidden_size], mean=0.1, stddev=0.1), name=\"b1\")\n",
    "# shape of h1 = [size of your sample, size of output layer]\n",
    "h1 = tf.nn.relu(tf.matmul(x,W1) + b1, name='h1')\n",
    "print(\"shape of hidden layer\")\n",
    "print(h1.get_shape())"
   ]
  },
  {
   "cell_type": "code",
   "execution_count": 11,
   "metadata": {},
   "outputs": [
    {
     "name": "stdout",
     "output_type": "stream",
     "text": [
      "shape of output layer:\n",
      "(?, 1)\n"
     ]
    }
   ],
   "source": [
    "# Output Layer\n",
    "W = tf.Variable(tf.truncated_normal([hidden_size, 1], mean=0.1, stddev=0.1), name=\"w\")\n",
    "b = tf.Variable(tf.truncated_normal([1], mean=0.1, stddev=0.1), name=\"b\")\n",
    "# note that the input comes from our hidden layer h1\n",
    "pred = tf.nn.relu(tf.matmul(h1, W) + b)\n",
    "print(\"shape of output layer:\")\n",
    "print(pred.get_shape())"
   ]
  },
  {
   "cell_type": "code",
   "execution_count": 12,
   "metadata": {},
   "outputs": [],
   "source": [
    "# minimize the mean squared errors.\n",
    "loss = tf.reduce_mean(tf.square(pred - y))\n",
    "# pick optimizer\n",
    "optimizer = tf.train.GradientDescentOptimizer(0.09)\n",
    "train = optimizer.minimize(loss)"
   ]
  },
  {
   "cell_type": "code",
   "execution_count": 13,
   "metadata": {},
   "outputs": [],
   "source": [
    "# check accuracy of model\n",
    "correct_prediction = tf.equal(tf.round(pred), tf.round(y))\n",
    "accuracy = tf.reduce_mean(tf.cast(correct_prediction, tf.float32))"
   ]
  },
  {
   "cell_type": "code",
   "execution_count": 14,
   "metadata": {},
   "outputs": [
    {
     "name": "stdout",
     "output_type": "stream",
     "text": [
      "Training loss at step 0: 50.469429\n",
      "Training loss at step 50: 0.023100\n",
      "Training loss at step 100: 0.020358\n",
      "Training loss at step 150: 0.020357\n",
      "Training loss at step 200: 0.020357\n",
      "Accuracy on the Training Set: 0.87764704\n",
      "Accuracy on the Test Set: 0.87333333\n"
     ]
    }
   ],
   "source": [
    "# initialize the variables\n",
    "init = tf.global_variables_initializer()\n",
    "# hold step and error values\n",
    "t = []\n",
    "# Run your graph\n",
    "with tf.Session() as sess:\n",
    "    # initialize variables\n",
    "    sess.run(init)\n",
    "    # Fit the function.\n",
    "    for step in range(250):\n",
    "        # get your data\n",
    "        train_data = {x:train_x, y:train_y}\n",
    "        test_data = {x:test_x, y:test_y}\n",
    "        # training in progress...\n",
    "        train_loss, train_pred = sess.run([loss, train], feed_dict=train_data)        \n",
    "        # print every n iterations\n",
    "        if step%50==0:\n",
    "            # capture the step and error for analysis\n",
    "            t.append((step, train_loss))    \n",
    "            # get snapshot of current training accuracy       \n",
    "            train_acc = accuracy.eval(train_data)            \n",
    "            print(\"Training loss at step %d: %f\" % (step, train_loss))                       \n",
    "    # here is where you see how good of a Data Scientist you are        \n",
    "    print(\"Accuracy on the Training Set:\", accuracy.eval(train_data) )\n",
    "    print(\"Accuracy on the Test Set:\", accuracy.eval(test_data))\n",
    "    # capture predictions on test data \n",
    "    test_results = sess.run(pred, feed_dict={x:test_x})  \n",
    "    df_final = pd.DataFrame({'test_x':test_x[:,0], 'pred':test_results[:,0]})\n",
    "    \n",
    "    # capture training and validation loss\n",
    "    df_loss = pd.DataFrame(t, columns=['step', 'train_loss'])  "
   ]
  },
  {
   "cell_type": "code",
   "execution_count": 15,
   "metadata": {},
   "outputs": [
    {
     "data": {
      "image/png": "[encoded data removed]",
      "text/plain": [
       "<Figure size 1080x360 with 1 Axes>"
      ]
     },
     "metadata": {
      "needs_background": "light"
     },
     "output_type": "display_data"
    }
   ],
   "source": [
    "fig, axes = plt.subplots(nrows=1, ncols=1, figsize=(15, 5))\n",
    "# Chart 1 - Shows the line we are trying to model\n",
    "df.plot.scatter(x='x', y='y', ax=axes, color='red')\n",
    "# Chart 2 - Shows the line our trained model came up with\n",
    "df_final.plot.scatter(x='test_x', y='pred', ax=axes, alpha=0.3)\n",
    "# add a little sugar\n",
    "axes.set_title('target vs pred', fontsize=20)\n",
    "axes.set_ylabel('y', fontsize=15)\n",
    "axes.set_xlabel('x', fontsize=15)\n",
    "axes.legend([\"target\", \"pred\"], loc='best');"
   ]
  },
  {
   "cell_type": "code",
   "execution_count": null,
   "metadata": {},
   "outputs": [],
   "source": []
  }
 ],
 "metadata": {
  "kernelspec": {
   "display_name": "Python 3",
   "language": "python",
   "name": "python3"
  },
  "language_info": {
   "codemirror_mode": {
    "name": "ipython",
    "version": 3
   },
   "file_extension": ".py",
   "mimetype": "text/x-python",
   "name": "python",
   "nbconvert_exporter": "python",
   "pygments_lexer": "ipython3",
   "version": "3.6.8"
  }
 },
 "nbformat": 4,
 "nbformat_minor": 2
}
