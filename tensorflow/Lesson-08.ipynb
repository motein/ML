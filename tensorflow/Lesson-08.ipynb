{
 "cells": [
  {
   "cell_type": "code",
   "execution_count": 1,
   "metadata": {},
   "outputs": [],
   "source": [
    "# import libraries\n",
    "import tensorflow as tf\n",
    "import pandas as pd\n",
    "import numpy as np\n",
    "import sys\n",
    "import datetime\n",
    "import matplotlib.pyplot as plt\n",
    "plt.style.use('ggplot') # use this plot style\n",
    "%matplotlib inline"
   ]
  },
  {
   "cell_type": "code",
   "execution_count": 2,
   "metadata": {},
   "outputs": [
    {
     "name": "stdout",
     "output_type": "stream",
     "text": [
      "Python version 3.6.8 (tags/v3.6.8:3c6b436a57, Dec 24 2018, 00:16:47) [MSC v.1916 64 bit (AMD64)]\n",
      "Tensorflow version 1.13.1\n",
      "Pandas version 0.24.2\n",
      "Numpy version 1.16.2\n"
     ]
    }
   ],
   "source": [
    "print('Python version ' + sys.version)\n",
    "print('Tensorflow version ' + tf.VERSION)\n",
    "print('Pandas version ' + pd.__version__)\n",
    "print('Numpy version ' + np.__version__)"
   ]
  },
  {
   "cell_type": "code",
   "execution_count": 3,
   "metadata": {},
   "outputs": [
    {
     "name": "stdout",
     "output_type": "stream",
     "text": [
      "Testing data points: (150, 1)\n",
      "Training data points: (850, 1)\n"
     ]
    }
   ],
   "source": [
    "# Function to model\n",
    "# Let's generate 1000 random samples\n",
    "pool = np.random.rand(1000,1).astype(np.float32)\n",
    "# Shuffle the sample\n",
    "np.random.shuffle(pool)\n",
    "# sample size of 15%\n",
    "sample = int(1000 * 0.15)\n",
    "# 15% test\n",
    "test_x = pool[0:sample]\n",
    "# 85% training\n",
    "train_x = pool[sample:]\n",
    "print('Testing data points: ' + str(test_x.shape))\n",
    "print('Training data points: ' + str(train_x.shape))\n",
    "# Let's compute the ouput using 2 for a, 3 for b, and 5 for c\n",
    "test_y = 2.0 * test_x**2 + 3.0 * test_x + 5\n",
    "train_y = 2.0 * train_x**2 + 3.0 * train_x + 5"
   ]
  },
  {
   "cell_type": "code",
   "execution_count": 5,
   "metadata": {},
   "outputs": [
    {
     "data": {
      "text/html": [
       "<div>\n",
       "<style scoped>\n",
       "    .dataframe tbody tr th:only-of-type {\n",
       "        vertical-align: middle;\n",
       "    }\n",
       "\n",
       "    .dataframe tbody tr th {\n",
       "        vertical-align: top;\n",
       "    }\n",
       "\n",
       "    .dataframe thead th {\n",
       "        text-align: right;\n",
       "    }\n",
       "</style>\n",
       "<table border=\"1\" class=\"dataframe\">\n",
       "  <thead>\n",
       "    <tr style=\"text-align: right;\">\n",
       "      <th></th>\n",
       "      <th>x</th>\n",
       "      <th>y</th>\n",
       "    </tr>\n",
       "  </thead>\n",
       "  <tbody>\n",
       "    <tr>\n",
       "      <th>0</th>\n",
       "      <td>0.394440</td>\n",
       "      <td>6.494484</td>\n",
       "    </tr>\n",
       "    <tr>\n",
       "      <th>1</th>\n",
       "      <td>0.133082</td>\n",
       "      <td>5.434669</td>\n",
       "    </tr>\n",
       "    <tr>\n",
       "      <th>2</th>\n",
       "      <td>0.022280</td>\n",
       "      <td>5.067834</td>\n",
       "    </tr>\n",
       "    <tr>\n",
       "      <th>3</th>\n",
       "      <td>0.158921</td>\n",
       "      <td>5.527274</td>\n",
       "    </tr>\n",
       "    <tr>\n",
       "      <th>4</th>\n",
       "      <td>0.296963</td>\n",
       "      <td>6.067261</td>\n",
       "    </tr>\n",
       "  </tbody>\n",
       "</table>\n",
       "</div>"
      ],
      "text/plain": [
       "          x         y\n",
       "0  0.394440  6.494484\n",
       "1  0.133082  5.434669\n",
       "2  0.022280  5.067834\n",
       "3  0.158921  5.527274\n",
       "4  0.296963  6.067261"
      ]
     },
     "execution_count": 5,
     "metadata": {},
     "output_type": "execute_result"
    }
   ],
   "source": [
    "df = pd.DataFrame({'x':train_x[:,0], 'y':train_y[:,0]})\n",
    "df.head()"
   ]
  },
  {
   "cell_type": "code",
   "execution_count": 6,
   "metadata": {},
   "outputs": [
    {
     "data": {
      "text/html": [
       "<div>\n",
       "<style scoped>\n",
       "    .dataframe tbody tr th:only-of-type {\n",
       "        vertical-align: middle;\n",
       "    }\n",
       "\n",
       "    .dataframe tbody tr th {\n",
       "        vertical-align: top;\n",
       "    }\n",
       "\n",
       "    .dataframe thead th {\n",
       "        text-align: right;\n",
       "    }\n",
       "</style>\n",
       "<table border=\"1\" class=\"dataframe\">\n",
       "  <thead>\n",
       "    <tr style=\"text-align: right;\">\n",
       "      <th></th>\n",
       "      <th>x</th>\n",
       "      <th>y</th>\n",
       "    </tr>\n",
       "  </thead>\n",
       "  <tbody>\n",
       "    <tr>\n",
       "      <th>count</th>\n",
       "      <td>850.000000</td>\n",
       "      <td>850.000000</td>\n",
       "    </tr>\n",
       "    <tr>\n",
       "      <th>mean</th>\n",
       "      <td>0.501135</td>\n",
       "      <td>7.173580</td>\n",
       "    </tr>\n",
       "    <tr>\n",
       "      <th>std</th>\n",
       "      <td>0.289915</td>\n",
       "      <td>1.450583</td>\n",
       "    </tr>\n",
       "    <tr>\n",
       "      <th>min</th>\n",
       "      <td>0.001199</td>\n",
       "      <td>5.003599</td>\n",
       "    </tr>\n",
       "    <tr>\n",
       "      <th>25%</th>\n",
       "      <td>0.270532</td>\n",
       "      <td>5.957970</td>\n",
       "    </tr>\n",
       "    <tr>\n",
       "      <th>50%</th>\n",
       "      <td>0.500681</td>\n",
       "      <td>7.003406</td>\n",
       "    </tr>\n",
       "    <tr>\n",
       "      <th>75%</th>\n",
       "      <td>0.755381</td>\n",
       "      <td>8.407343</td>\n",
       "    </tr>\n",
       "    <tr>\n",
       "      <th>max</th>\n",
       "      <td>0.999048</td>\n",
       "      <td>9.993340</td>\n",
       "    </tr>\n",
       "  </tbody>\n",
       "</table>\n",
       "</div>"
      ],
      "text/plain": [
       "                x           y\n",
       "count  850.000000  850.000000\n",
       "mean     0.501135    7.173580\n",
       "std      0.289915    1.450583\n",
       "min      0.001199    5.003599\n",
       "25%      0.270532    5.957970\n",
       "50%      0.500681    7.003406\n",
       "75%      0.755381    8.407343\n",
       "max      0.999048    9.993340"
      ]
     },
     "execution_count": 6,
     "metadata": {},
     "output_type": "execute_result"
    }
   ],
   "source": [
    "df.describe()"
   ]
  },
  {
   "cell_type": "code",
   "execution_count": 7,
   "metadata": {},
   "outputs": [
    {
     "data": {
      "text/plain": [
       "<matplotlib.axes._subplots.AxesSubplot at 0x23554f63c18>"
      ]
     },
     "execution_count": 7,
     "metadata": {},
     "output_type": "execute_result"
    },
    {
     "data": {
      "image/png": "[encoded data removed]",
      "text/plain": [
       "<Figure size 1080x360 with 1 Axes>"
      ]
     },
     "metadata": {
      "needs_background": "light"
     },
     "output_type": "display_data"
    }
   ],
   "source": [
    "df.plot.scatter(x='x',y='y',figsize=(15,5))"
   ]
  },
  {
   "cell_type": "code",
   "execution_count": 16,
   "metadata": {},
   "outputs": [],
   "source": [
    "# Helper Functions\n",
    "def add_layer(inputs, in_size, out_size, activation_function=None):\n",
    "    # tf.random_normal([what is the size of your batches, size of output layer])\n",
    "    Weights = tf.Variable(tf.truncated_normal([in_size, out_size], mean=0.1, stddev=0.1))\n",
    "    # tf.random_normal([size of output layer])\n",
    "    biases = tf.Variable(tf.truncated_normal([out_size], mean=0.1, stddev=0.1))\n",
    "    # shape of pred = [size of your batches, size of output layer]\n",
    "    pred = tf.matmul(inputs, Weights) + biases\n",
    "    if activation_function is None:\n",
    "        outputs = pred # Linear\n",
    "    else:\n",
    "        outputs = activation_function(pred) # Non-linear\n",
    "    return outputs"
   ]
  },
  {
   "cell_type": "code",
   "execution_count": 17,
   "metadata": {},
   "outputs": [
    {
     "name": "stdout",
     "output_type": "stream",
     "text": [
      "shape of x and y:\n",
      "(?, 1) (?, 1)\n"
     ]
    }
   ],
   "source": [
    "# you can adjust the number of neurons in the hidden layers here\n",
    "hidden_size = 100\n",
    "# placeholders\n",
    "# shape=[how many samples do you have, how many input neurons]\n",
    "x = tf.placeholder(tf.float32, shape=[None, 1], name=\"01_x\")\n",
    "y = tf.placeholder(tf.float32, shape=[None, 1], name=\"01_y\")\n",
    "print(\"shape of x and y:\")\n",
    "print(x.get_shape(),y.get_shape())"
   ]
  },
  {
   "cell_type": "code",
   "execution_count": 18,
   "metadata": {},
   "outputs": [
    {
     "name": "stdout",
     "output_type": "stream",
     "text": [
      "shape of hidden layers:\n",
      "(?, 100) (?, 100)\n"
     ]
    }
   ],
   "source": [
    "# create your hidden layers!\n",
    "h1 = add_layer(x, 1, hidden_size, tf.nn.relu)\n",
    "h2 = add_layer(h1, hidden_size, hidden_size, tf.nn.relu)\n",
    "\n",
    "print(\"shape of hidden layers:\")\n",
    "print(h1.get_shape(), h2.get_shape())"
   ]
  },
  {
   "cell_type": "code",
   "execution_count": 20,
   "metadata": {},
   "outputs": [
    {
     "name": "stdout",
     "output_type": "stream",
     "text": [
      "shape of output layer:\n",
      "(?, 1)\n"
     ]
    }
   ],
   "source": [
    "# Output Layers\n",
    "pred = add_layer(h2, hidden_size, 1)\n",
    "print(\"shape of output layer:\")\n",
    "print(pred.get_shape())"
   ]
  },
  {
   "cell_type": "code",
   "execution_count": 21,
   "metadata": {},
   "outputs": [],
   "source": [
    "# minimize the mean squared errors.\n",
    "loss = tf.reduce_mean(tf.square(pred - y))\n",
    "# pick optimizer\n",
    "optimizer = tf.train.GradientDescentOptimizer(0.003)\n",
    "train = optimizer.minimize(loss)"
   ]
  },
  {
   "cell_type": "code",
   "execution_count": 22,
   "metadata": {},
   "outputs": [],
   "source": [
    "# check accuracy of model\n",
    "correct_prediction = tf.equal(tf.round(pred), tf.round(y))\n",
    "accuracy = tf.reduce_mean(tf.cast(correct_prediction, tf.float32))"
   ]
  },
  {
   "cell_type": "code",
   "execution_count": 23,
   "metadata": {},
   "outputs": [
    {
     "name": "stdout",
     "output_type": "stream",
     "text": [
      "Training loss at step 0: 172.544022\n",
      "Training loss at step 200: 0.000447\n",
      "Training loss at step 400: 0.000370\n",
      "Training loss at step 600: 0.000321\n",
      "Training loss at step 800: 0.000284\n",
      "Training loss at step 1000: 0.000254\n",
      "Training loss at step 1200: 0.000230\n",
      "Training loss at step 1400: 0.000210\n",
      "Training loss at step 1600: 0.000192\n",
      "Training loss at step 1800: 0.000177\n",
      "Training loss at step 2000: 0.000164\n",
      "Training loss at step 2200: 0.000152\n",
      "Training loss at step 2400: 0.000142\n",
      "Training loss at step 2600: 0.000133\n",
      "Training loss at step 2800: 0.000125\n",
      "Accuracy on the Training Set: 0.9952941\n",
      "Accuracy on the Test Set: 0.9866667\n"
     ]
    }
   ],
   "source": [
    "# Training Time\n",
    "# initialize the variables\n",
    "init = tf.global_variables_initializer()\n",
    "# hold step and error values\n",
    "t = []\n",
    "# Run your graph\n",
    "with tf.Session() as sess:\n",
    "    # initialize variables\n",
    "    sess.run(init)\n",
    "    # Fit the function.\n",
    "    for step in range(3000):\n",
    "        # get your data\n",
    "        train_data = {x:train_x, y:train_y}\n",
    "        test_data = {x:test_x, y:test_y}\n",
    "        # training in progress...\n",
    "        train_loss, train_pred = sess.run([loss, train], feed_dict=train_data)        \n",
    "        \n",
    "        # print every n iterations\n",
    "        if step%200==0:\n",
    "            # capture the step and error for analysis\n",
    "            t.append((step, train_loss))    \n",
    "            # get snapshot of current training accuracy       \n",
    "            train_acc = accuracy.eval(train_data)            \n",
    "            print(\"Training loss at step %d: %f\" % (step, train_loss))                              \n",
    "    # here is where you see how good of a Data Scientist you are        \n",
    "    print(\"Accuracy on the Training Set:\", accuracy.eval(train_data) )\n",
    "    print(\"Accuracy on the Test Set:\", accuracy.eval(test_data) )\n",
    "    \n",
    "    # capture predictions on test data \n",
    "    test_results = sess.run(pred, feed_dict={x:test_x})  \n",
    "    df_final = pd.DataFrame({'test_x':test_x[:,0], 'pred':test_results[:,0]})\n",
    "    # capture training and validation loss\n",
    "    df_loss = pd.DataFrame(t, columns=['step', 'train_loss'])  \n"
   ]
  },
  {
   "cell_type": "code",
   "execution_count": 24,
   "metadata": {},
   "outputs": [
    {
     "data": {
      "image/png": "[encoded data removed]",
      "text/plain": [
       "<Figure size 1080x360 with 1 Axes>"
      ]
     },
     "metadata": {
      "needs_background": "light"
     },
     "output_type": "display_data"
    }
   ],
   "source": [
    "fig, axes = plt.subplots(nrows=1, ncols=1, figsize=(15, 5))\n",
    "# Chart 1 - Shows the line we are trying to model\n",
    "df.plot.scatter(x='x', y='y', ax=axes, color='red')\n",
    "# Chart 2 - Shows the line our trained model came up with\n",
    "df_final.plot.scatter(x='test_x', y='pred', ax=axes, alpha=0.3)\n",
    "# add a little sugar\n",
    "axes.set_title('target vs pred', fontsize=20)\n",
    "axes.set_ylabel('y', fontsize=15)\n",
    "axes.set_xlabel('x', fontsize=15)\n",
    "axes.legend([\"target\", \"pred\"], loc='best');"
   ]
  },
  {
   "cell_type": "code",
   "execution_count": 27,
   "metadata": {},
   "outputs": [
    {
     "data": {
      "text/html": [
       "<div>\n",
       "<style scoped>\n",
       "    .dataframe tbody tr th:only-of-type {\n",
       "        vertical-align: middle;\n",
       "    }\n",
       "\n",
       "    .dataframe tbody tr th {\n",
       "        vertical-align: top;\n",
       "    }\n",
       "\n",
       "    .dataframe thead th {\n",
       "        text-align: right;\n",
       "    }\n",
       "</style>\n",
       "<table border=\"1\" class=\"dataframe\">\n",
       "  <thead>\n",
       "    <tr style=\"text-align: right;\">\n",
       "      <th></th>\n",
       "      <th>step</th>\n",
       "      <th>train_loss</th>\n",
       "    </tr>\n",
       "  </thead>\n",
       "  <tbody>\n",
       "    <tr>\n",
       "      <th>0</th>\n",
       "      <td>0</td>\n",
       "      <td>172.544022</td>\n",
       "    </tr>\n",
       "    <tr>\n",
       "      <th>1</th>\n",
       "      <td>200</td>\n",
       "      <td>0.000447</td>\n",
       "    </tr>\n",
       "    <tr>\n",
       "      <th>2</th>\n",
       "      <td>400</td>\n",
       "      <td>0.000370</td>\n",
       "    </tr>\n",
       "    <tr>\n",
       "      <th>3</th>\n",
       "      <td>600</td>\n",
       "      <td>0.000321</td>\n",
       "    </tr>\n",
       "    <tr>\n",
       "      <th>4</th>\n",
       "      <td>800</td>\n",
       "      <td>0.000284</td>\n",
       "    </tr>\n",
       "    <tr>\n",
       "      <th>5</th>\n",
       "      <td>1000</td>\n",
       "      <td>0.000254</td>\n",
       "    </tr>\n",
       "    <tr>\n",
       "      <th>6</th>\n",
       "      <td>1200</td>\n",
       "      <td>0.000230</td>\n",
       "    </tr>\n",
       "    <tr>\n",
       "      <th>7</th>\n",
       "      <td>1400</td>\n",
       "      <td>0.000210</td>\n",
       "    </tr>\n",
       "    <tr>\n",
       "      <th>8</th>\n",
       "      <td>1600</td>\n",
       "      <td>0.000192</td>\n",
       "    </tr>\n",
       "    <tr>\n",
       "      <th>9</th>\n",
       "      <td>1800</td>\n",
       "      <td>0.000177</td>\n",
       "    </tr>\n",
       "    <tr>\n",
       "      <th>10</th>\n",
       "      <td>2000</td>\n",
       "      <td>0.000164</td>\n",
       "    </tr>\n",
       "    <tr>\n",
       "      <th>11</th>\n",
       "      <td>2200</td>\n",
       "      <td>0.000152</td>\n",
       "    </tr>\n",
       "    <tr>\n",
       "      <th>12</th>\n",
       "      <td>2400</td>\n",
       "      <td>0.000142</td>\n",
       "    </tr>\n",
       "    <tr>\n",
       "      <th>13</th>\n",
       "      <td>2600</td>\n",
       "      <td>0.000133</td>\n",
       "    </tr>\n",
       "    <tr>\n",
       "      <th>14</th>\n",
       "      <td>2800</td>\n",
       "      <td>0.000125</td>\n",
       "    </tr>\n",
       "  </tbody>\n",
       "</table>\n",
       "</div>"
      ],
      "text/plain": [
       "    step  train_loss\n",
       "0      0  172.544022\n",
       "1    200    0.000447\n",
       "2    400    0.000370\n",
       "3    600    0.000321\n",
       "4    800    0.000284\n",
       "5   1000    0.000254\n",
       "6   1200    0.000230\n",
       "7   1400    0.000210\n",
       "8   1600    0.000192\n",
       "9   1800    0.000177\n",
       "10  2000    0.000164\n",
       "11  2200    0.000152\n",
       "12  2400    0.000142\n",
       "13  2600    0.000133\n",
       "14  2800    0.000125"
      ]
     },
     "execution_count": 27,
     "metadata": {},
     "output_type": "execute_result"
    }
   ],
   "source": [
    "df_loss\n",
    "# df_loss.set_index('step').plot(logy=True, figsize=(15,5));"
   ]
  },
  {
   "cell_type": "code",
   "execution_count": 28,
   "metadata": {},
   "outputs": [
    {
     "data": {
      "image/png": "[encoded data removed]",
      "text/plain": [
       "<Figure size 1080x360 with 1 Axes>"
      ]
     },
     "metadata": {
      "needs_background": "light"
     },
     "output_type": "display_data"
    }
   ],
   "source": [
    "df_loss.set_index('step').plot(logy=True, figsize=(15,5));"
   ]
  },
  {
   "cell_type": "code",
   "execution_count": null,
   "metadata": {},
   "outputs": [],
   "source": []
  }
 ],
 "metadata": {
  "kernelspec": {
   "display_name": "Python 3",
   "language": "python",
   "name": "python3"
  },
  "language_info": {
   "codemirror_mode": {
    "name": "ipython",
    "version": 3
   },
   "file_extension": ".py",
   "mimetype": "text/x-python",
   "name": "python",
   "nbconvert_exporter": "python",
   "pygments_lexer": "ipython3",
   "version": "3.6.8"
  }
 },
 "nbformat": 4,
 "nbformat_minor": 2
}
