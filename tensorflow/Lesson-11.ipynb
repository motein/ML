{
 "cells": [
  {
   "cell_type": "code",
   "execution_count": 1,
   "metadata": {},
   "outputs": [],
   "source": [
    "# Train our NN in batches\n",
    "# smaller samples but better resutls\n",
    "# No enough memory\n",
    "\n",
    "# import libraries\n",
    "import tensorflow as tf\n",
    "import pandas as pd\n",
    "import numpy as np\n",
    "import sys\n",
    "import datetime\n",
    "import matplotlib.pyplot as plt\n",
    "plt.style.use('ggplot') # use this plot style\n",
    "%matplotlib inline"
   ]
  },
  {
   "cell_type": "code",
   "execution_count": 2,
   "metadata": {},
   "outputs": [
    {
     "name": "stdout",
     "output_type": "stream",
     "text": [
      "Python version 3.6.8 (tags/v3.6.8:3c6b436a57, Dec 24 2018, 00:16:47) [MSC v.1916 64 bit (AMD64)]\n",
      "Tensorflow version 1.13.1\n",
      "Pandas version 0.24.2\n",
      "Numpy version 1.16.2\n"
     ]
    }
   ],
   "source": [
    "print('Python version ' + sys.version)\n",
    "print('Tensorflow version ' + tf.VERSION)\n",
    "print('Pandas version ' + pd.__version__)\n",
    "print('Numpy version ' + np.__version__)"
   ]
  },
  {
   "cell_type": "code",
   "execution_count": 3,
   "metadata": {},
   "outputs": [
    {
     "name": "stdout",
     "output_type": "stream",
     "text": [
      "Testing data points: (150, 1)\n",
      "Validation data points: (150, 1)\n",
      "Training data points: (700, 1)\n"
     ]
    }
   ],
   "source": [
    "# Function to Model\n",
    "\n",
    "# Let's generate 1000 random samples\n",
    "pool = np.random.rand(1000,1).astype(np.float32)\n",
    "# Shuffle the samples\n",
    "np.random.shuffle(pool)\n",
    "# sample size of 15%\n",
    "sample = int(1000 * 0.15)\n",
    "# 15% test\n",
    "test_x = pool[0:sample]\n",
    "# 15% validation\n",
    "valid_x = pool[sample:sample*2]\n",
    "# 70% training\n",
    "train_x = pool[sample*2:]\n",
    "print('Testing data points: ' + str(test_x.shape))\n",
    "print('Validation data points: ' + str(valid_x.shape))\n",
    "print('Training data points: ' + str(train_x.shape))\n",
    "# Let's compute the ouput using 2 for a, 5 for b\n",
    "test_y = 2.0 * test_x**4 + 5\n",
    "valid_y = 2.0 * valid_x**4 + 5\n",
    "train_y = 2.0 * train_x**4 + 5"
   ]
  },
  {
   "cell_type": "code",
   "execution_count": 4,
   "metadata": {},
   "outputs": [
    {
     "data": {
      "text/html": [
       "<div>\n",
       "<style scoped>\n",
       "    .dataframe tbody tr th:only-of-type {\n",
       "        vertical-align: middle;\n",
       "    }\n",
       "\n",
       "    .dataframe tbody tr th {\n",
       "        vertical-align: top;\n",
       "    }\n",
       "\n",
       "    .dataframe thead th {\n",
       "        text-align: right;\n",
       "    }\n",
       "</style>\n",
       "<table border=\"1\" class=\"dataframe\">\n",
       "  <thead>\n",
       "    <tr style=\"text-align: right;\">\n",
       "      <th></th>\n",
       "      <th>x</th>\n",
       "      <th>y</th>\n",
       "    </tr>\n",
       "  </thead>\n",
       "  <tbody>\n",
       "    <tr>\n",
       "      <th>0</th>\n",
       "      <td>0.786905</td>\n",
       "      <td>5.766864</td>\n",
       "    </tr>\n",
       "    <tr>\n",
       "      <th>1</th>\n",
       "      <td>0.090237</td>\n",
       "      <td>5.000133</td>\n",
       "    </tr>\n",
       "    <tr>\n",
       "      <th>2</th>\n",
       "      <td>0.376246</td>\n",
       "      <td>5.040079</td>\n",
       "    </tr>\n",
       "    <tr>\n",
       "      <th>3</th>\n",
       "      <td>0.558890</td>\n",
       "      <td>5.195135</td>\n",
       "    </tr>\n",
       "    <tr>\n",
       "      <th>4</th>\n",
       "      <td>0.665524</td>\n",
       "      <td>5.392359</td>\n",
       "    </tr>\n",
       "  </tbody>\n",
       "</table>\n",
       "</div>"
      ],
      "text/plain": [
       "          x         y\n",
       "0  0.786905  5.766864\n",
       "1  0.090237  5.000133\n",
       "2  0.376246  5.040079\n",
       "3  0.558890  5.195135\n",
       "4  0.665524  5.392359"
      ]
     },
     "execution_count": 4,
     "metadata": {},
     "output_type": "execute_result"
    }
   ],
   "source": [
    "df = pd.DataFrame({'x':train_x[:,0],'y':train_y[:,0]})\n",
    "df.head()"
   ]
  },
  {
   "cell_type": "code",
   "execution_count": 5,
   "metadata": {},
   "outputs": [
    {
     "data": {
      "text/html": [
       "<div>\n",
       "<style scoped>\n",
       "    .dataframe tbody tr th:only-of-type {\n",
       "        vertical-align: middle;\n",
       "    }\n",
       "\n",
       "    .dataframe tbody tr th {\n",
       "        vertical-align: top;\n",
       "    }\n",
       "\n",
       "    .dataframe thead th {\n",
       "        text-align: right;\n",
       "    }\n",
       "</style>\n",
       "<table border=\"1\" class=\"dataframe\">\n",
       "  <thead>\n",
       "    <tr style=\"text-align: right;\">\n",
       "      <th></th>\n",
       "      <th>x</th>\n",
       "      <th>y</th>\n",
       "    </tr>\n",
       "  </thead>\n",
       "  <tbody>\n",
       "    <tr>\n",
       "      <th>count</th>\n",
       "      <td>700.000000</td>\n",
       "      <td>700.000000</td>\n",
       "    </tr>\n",
       "    <tr>\n",
       "      <th>mean</th>\n",
       "      <td>0.505117</td>\n",
       "      <td>5.409761</td>\n",
       "    </tr>\n",
       "    <tr>\n",
       "      <th>std</th>\n",
       "      <td>0.288139</td>\n",
       "      <td>0.539687</td>\n",
       "    </tr>\n",
       "    <tr>\n",
       "      <th>min</th>\n",
       "      <td>0.002056</td>\n",
       "      <td>5.000000</td>\n",
       "    </tr>\n",
       "    <tr>\n",
       "      <th>25%</th>\n",
       "      <td>0.264117</td>\n",
       "      <td>5.009732</td>\n",
       "    </tr>\n",
       "    <tr>\n",
       "      <th>50%</th>\n",
       "      <td>0.499612</td>\n",
       "      <td>5.124612</td>\n",
       "    </tr>\n",
       "    <tr>\n",
       "      <th>75%</th>\n",
       "      <td>0.763174</td>\n",
       "      <td>5.678462</td>\n",
       "    </tr>\n",
       "    <tr>\n",
       "      <th>max</th>\n",
       "      <td>0.999882</td>\n",
       "      <td>6.999056</td>\n",
       "    </tr>\n",
       "  </tbody>\n",
       "</table>\n",
       "</div>"
      ],
      "text/plain": [
       "                x           y\n",
       "count  700.000000  700.000000\n",
       "mean     0.505117    5.409761\n",
       "std      0.288139    0.539687\n",
       "min      0.002056    5.000000\n",
       "25%      0.264117    5.009732\n",
       "50%      0.499612    5.124612\n",
       "75%      0.763174    5.678462\n",
       "max      0.999882    6.999056"
      ]
     },
     "execution_count": 5,
     "metadata": {},
     "output_type": "execute_result"
    }
   ],
   "source": [
    "df.describe()"
   ]
  },
  {
   "cell_type": "code",
   "execution_count": 6,
   "metadata": {},
   "outputs": [
    {
     "data": {
      "text/plain": [
       "<matplotlib.axes._subplots.AxesSubplot at 0x15f03a40320>"
      ]
     },
     "execution_count": 6,
     "metadata": {},
     "output_type": "execute_result"
    },
    {
     "data": {
      "image/png": "[encoded data removed]",
      "text/plain": [
       "<Figure size 1080x360 with 1 Axes>"
      ]
     },
     "metadata": {
      "needs_background": "light"
     },
     "output_type": "display_data"
    }
   ],
   "source": [
    "df.plot.scatter(x='x', y='y', figsize=(15,5))"
   ]
  },
  {
   "cell_type": "code",
   "execution_count": 7,
   "metadata": {},
   "outputs": [],
   "source": [
    "# Helper Functins\n",
    "def add_layer(inputs, in_size, out_size, activation_function=None):\n",
    "    # tf.random_normal([what is the size of your batches, size of output layer])\n",
    "    Weights = tf.Variable(tf.truncated_normal([in_size, out_size], mean=0.1, stddev=0.1))\n",
    "    # tf.random_normal([size of output layer])\n",
    "    biases = tf.Variable(tf.truncated_normal([out_size], mean=0.1, stddev=0.1))\n",
    "    # shape of pred = [size of your batches, size of output layer]\n",
    "    pred = tf.matmul(inputs, Weights) + biases\n",
    "    if activation_function is None:\n",
    "        outputs = pred\n",
    "    else:\n",
    "        outputs = activation_function(pred)\n",
    "    return outputs"
   ]
  },
  {
   "cell_type": "code",
   "execution_count": 8,
   "metadata": {},
   "outputs": [],
   "source": [
    "# larger batch sizes help you get to the local minimum faster at a cost of more cpu power\n",
    "# The strategy is to use batch_size when you cannot fit the entire dataset into memory\n",
    "# In practice, small to moderate mini-batches (10-500) are generally used\n",
    "batch_size = 10"
   ]
  },
  {
   "cell_type": "code",
   "execution_count": 9,
   "metadata": {},
   "outputs": [
    {
     "name": "stdout",
     "output_type": "stream",
     "text": [
      "shape of x and y:\n",
      "(?, 1) (?, 1)\n"
     ]
    }
   ],
   "source": [
    "# you can adjust the number of neurons in the hidden layers here\n",
    "hidden_size = 10\n",
    "# placeholders\n",
    "# shape=[how many samples do you have, how many input neurons]\n",
    "x = tf.placeholder(tf.float32, shape=[None, 1], name=\"01_x\")\n",
    "y = tf.placeholder(tf.float32, shape=[None, 1], name=\"01_y\")\n",
    "print(\"shape of x and y:\")\n",
    "print(x.get_shape(),y.get_shape())"
   ]
  },
  {
   "cell_type": "code",
   "execution_count": 10,
   "metadata": {},
   "outputs": [],
   "source": [
    "# drop out\n",
    "keep_prob = tf.placeholder(tf.float32)"
   ]
  },
  {
   "cell_type": "code",
   "execution_count": 12,
   "metadata": {},
   "outputs": [
    {
     "name": "stdout",
     "output_type": "stream",
     "text": [
      "shape of hidden layers:\n",
      "(?, 10) (?, 10) (?, 10) (?, 10)\n"
     ]
    }
   ],
   "source": [
    "# create your hidden layers!\n",
    "h1 = add_layer(x, 1, hidden_size, tf.nn.relu)\n",
    "# here is where we shoot down some of the neurons\n",
    "h1_drop = tf.nn.dropout(h1, keep_prob)\n",
    "# add a second layer\n",
    "h2 = add_layer(h1_drop, hidden_size, hidden_size, tf.nn.relu)\n",
    "h2_drop = tf.nn.dropout(h2, keep_prob)\n",
    "# add a third layer\n",
    "h3 = add_layer(h2_drop, hidden_size, hidden_size, tf.nn.relu)\n",
    "h3_drop = tf.nn.dropout(h3, keep_prob)\n",
    "# add a fourth layer\n",
    "h4 = add_layer(h3_drop, hidden_size, hidden_size, tf.nn.relu)\n",
    "h4_drop = tf.nn.dropout(h4, keep_prob)\n",
    "print(\"shape of hidden layers:\")\n",
    "print(h1_drop.get_shape(), h2_drop.get_shape(), h3_drop.get_shape(), h4_drop.get_shape())"
   ]
  },
  {
   "cell_type": "code",
   "execution_count": 13,
   "metadata": {},
   "outputs": [
    {
     "name": "stdout",
     "output_type": "stream",
     "text": [
      "shape of output layer:\n",
      "(?, 1)\n"
     ]
    }
   ],
   "source": [
    "# Output Layers\n",
    "pred = add_layer(h4_drop, hidden_size, 1)\n",
    "print(\"shape of output layer:\")\n",
    "print(pred.get_shape())"
   ]
  },
  {
   "cell_type": "code",
   "execution_count": 14,
   "metadata": {},
   "outputs": [],
   "source": [
    "# minimize the mean squared errors.\n",
    "loss = tf.reduce_mean(tf.square(pred - y))\n",
    "# pick optimizer\n",
    "optimizer = tf.train.GradientDescentOptimizer(0.0099)\n",
    "train = optimizer.minimize(loss)"
   ]
  },
  {
   "cell_type": "code",
   "execution_count": 15,
   "metadata": {},
   "outputs": [],
   "source": [
    "# check accuracy of model\n",
    "correct_prediction = tf.equal(tf.round(pred), tf.round(y))\n",
    "accuracy = tf.reduce_mean(tf.cast(correct_prediction, tf.float32))"
   ]
  },
  {
   "cell_type": "code",
   "execution_count": 26,
   "metadata": {},
   "outputs": [
    {
     "data": {
      "text/plain": [
       "array([[0.22739796],\n",
       "       [0.67424506],\n",
       "       [0.3744832 ],\n",
       "       [0.84408665],\n",
       "       [0.15722436],\n",
       "       [0.8046506 ],\n",
       "       [0.1541609 ],\n",
       "       [0.7770536 ],\n",
       "       [0.26674312],\n",
       "       [0.3014815 ]], dtype=float32)"
      ]
     },
     "execution_count": 26,
     "metadata": {},
     "output_type": "execute_result"
    }
   ],
   "source": [
    "# Best validation accuracy seen so far.\n",
    "best_valid_acc = 0.0\n",
    "# Iteration-number for last improvement to validation accuracy.\n",
    "last_improvement = 0\n",
    "# Stop optimization if no improvement found in this many iterations.\n",
    "require_improvement = 1500\n",
    "\n",
    "i=np.random.permutation(train_x.shape[0])[:batch_size]\n",
    "train_x[i,:]"
   ]
  },
  {
   "cell_type": "code",
   "execution_count": 27,
   "metadata": {},
   "outputs": [
    {
     "name": "stdout",
     "output_type": "stream",
     "text": [
      "Training loss at step 0: 21.174509 \n",
      "Validation 19.540268\n",
      "Training loss at step 100: 0.219759 *\n",
      "Validation 0.083166\n",
      "Training loss at step 200: 0.772694 \n",
      "Validation 0.185907\n",
      "Training loss at step 300: 0.221538 \n",
      "Validation 0.073066\n",
      "Training loss at step 400: 0.551944 \n",
      "Validation 0.090477\n",
      "Training loss at step 500: 0.177311 \n",
      "Validation 0.063111\n",
      "Training loss at step 600: 0.496045 \n",
      "Validation 0.103321\n",
      "Training loss at step 700: 0.256880 \n",
      "Validation 0.066417\n",
      "Training loss at step 800: 0.184872 \n",
      "Validation 0.108555\n",
      "Training loss at step 900: 0.143647 *\n",
      "Validation 0.084358\n",
      "Training loss at step 1000: 0.580239 \n",
      "Validation 0.102263\n",
      "Training loss at step 1100: 0.242704 \n",
      "Validation 0.047067\n",
      "Training loss at step 1200: 0.297976 \n",
      "Validation 0.036251\n",
      "Training loss at step 1300: 0.087521 \n",
      "Validation 0.031241\n",
      "Training loss at step 1400: 0.083972 \n",
      "Validation 0.025047\n",
      "Training loss at step 1500: 0.058346 \n",
      "Validation 0.033389\n",
      "Training loss at step 1600: 0.060577 \n",
      "Validation 0.021768\n",
      "Training loss at step 1700: 0.051153 \n",
      "Validation 0.011744\n",
      "Training loss at step 1800: 0.040767 \n",
      "Validation 0.010002\n",
      "Training loss at step 1900: 0.085994 \n",
      "Validation 0.010244\n",
      "Training loss at step 2000: 0.132283 \n",
      "Validation 0.010609\n",
      "Training loss at step 2100: 0.061382 \n",
      "Validation 0.016931\n",
      "Training loss at step 2200: 0.045733 *\n",
      "Validation 0.004908\n",
      "Training loss at step 2300: 0.181724 \n",
      "Validation 0.004488\n",
      "Training loss at step 2400: 0.066406 *\n",
      "Validation 0.004211\n",
      "Training loss at step 2500: 0.050437 *\n",
      "Validation 0.003253\n",
      "Training loss at step 2600: 0.076047 \n",
      "Validation 0.002164\n",
      "Training loss at step 2700: 0.019854 \n",
      "Validation 0.007402\n",
      "Training loss at step 2800: 0.011106 \n",
      "Validation 0.005270\n",
      "Training loss at step 2900: 0.058972 \n",
      "Validation 0.006385\n",
      "Training loss at step 3000: 0.068374 \n",
      "Validation 0.002701\n",
      "Training loss at step 3100: 0.029987 \n",
      "Validation 0.001629\n",
      "Training loss at step 3200: 0.154950 \n",
      "Validation 0.015869\n",
      "Training loss at step 3300: 0.042772 \n",
      "Validation 0.005021\n",
      "Training loss at step 3400: 0.070531 \n",
      "Validation 0.002212\n",
      "Training loss at step 3500: 0.065984 \n",
      "Validation 0.002419\n",
      "Training loss at step 3600: 0.042021 *\n",
      "Validation 0.001118\n",
      "Training loss at step 3700: 0.028166 \n",
      "Validation 0.001125\n",
      "Training loss at step 3800: 0.066027 \n",
      "Validation 0.001336\n",
      "Training loss at step 3900: 0.007162 \n",
      "Validation 0.004638\n",
      "Training loss at step 4000: 0.026667 \n",
      "Validation 0.009023\n",
      "Training loss at step 4100: 0.032848 \n",
      "Validation 0.002938\n",
      "Training loss at step 4200: 0.021373 \n",
      "Validation 0.000807\n",
      "Training loss at step 4300: 0.072826 \n",
      "Validation 0.004617\n",
      "Training loss at step 4400: 0.032629 \n",
      "Validation 0.001324\n",
      "Training loss at step 4500: 0.014888 \n",
      "Validation 0.001343\n",
      "Training loss at step 4600: 0.019152 \n",
      "Validation 0.001354\n",
      "Training loss at step 4700: 0.026612 \n",
      "Validation 0.001633\n",
      "Training loss at step 4800: 0.083351 \n",
      "Validation 0.004270\n",
      "Training loss at step 4900: 0.051552 \n",
      "Validation 0.002542\n",
      "Training loss at step 5000: 0.008207 \n",
      "Validation 0.001072\n",
      "Training loss at step 5100: 0.028776 \n",
      "Validation 0.003088\n",
      "Training loss at step 5200: 0.052352 \n",
      "Validation 0.001512\n",
      "No improvement found in a while, stopping optimization.\n",
      "Accuracy on the Training Set: 1.0\n",
      "Accuracy on the Validation Set: 0.98\n",
      "Accuracy on the Test Set: 0.96666664\n"
     ]
    }
   ],
   "source": [
    "# initialize the variables\n",
    "init = tf.global_variables_initializer()\n",
    "# hold step and error values\n",
    "t = []\n",
    "# Run your graph\n",
    "with tf.Session() as sess:\n",
    "    # initialize variables\n",
    "    sess.run(init)\n",
    "    # Fit the function.\n",
    "    for step in range(6000):\n",
    "        # pull batches at random\n",
    "        i = np.random.permutation(train_x.shape[0])[:batch_size]\n",
    "        # get your data\n",
    "        train_data = {x:train_x[i,:], y:train_y[i,:], keep_prob: 0.975}\n",
    "        valid_data = {x:valid_x, y:valid_y, keep_prob: 1.0}\n",
    "        test_data = {x:test_x, y:test_y, keep_prob: 1.0}\n",
    "        # training in progress...\n",
    "        train_loss, train_pred = sess.run([loss, train], feed_dict=train_data)\n",
    "        # print every n iterations\n",
    "        if step%100==0:\n",
    "            # capture the step and error for analysis\n",
    "            valid_loss = sess.run(loss, feed_dict=valid_data) \n",
    "            t.append((step, train_loss, valid_loss))\n",
    "            # get snapshot of current training and validation accuracy       \n",
    "            train_acc = accuracy.eval(train_data)\n",
    "            valid_acc = accuracy.eval(valid_data) \n",
    "            # If validation accuracy is an improvement over best-known.\n",
    "            if valid_acc > best_valid_acc:\n",
    "                # Update the best-known validation accuracy.\n",
    "                best_valid_acc = valid_acc\n",
    "                # Set the iteration for the last improvement to current.\n",
    "                last_improvement = step\n",
    "                # Flag when ever an improvement is found\n",
    "                improved_str = '*'\n",
    "            else:\n",
    "                # An empty string to be printed below.\n",
    "                # Shows that no improvement was found.\n",
    "                improved_str = ''   \n",
    "                \n",
    "            print(\"Training loss at step %d: %f %s\" % (step, train_loss, improved_str))        \n",
    "            print(\"Validation %f\" % (valid_loss))            \n",
    "                \n",
    "            # If no improvement found in the required number of iterations.\n",
    "            if step - last_improvement > require_improvement:\n",
    "                print(\"No improvement found in a while, stopping optimization.\")\n",
    "                # Break out from the for-loop.\n",
    "                break\n",
    "            \n",
    "    # here is where you see how good of a Data Scientist you are        \n",
    "    print(\"Accuracy on the Training Set:\", accuracy.eval(train_data) )\n",
    "    print(\"Accuracy on the Validation Set:\", accuracy.eval(valid_data) ) \n",
    "    print(\"Accuracy on the Test Set:\", accuracy.eval(test_data) )\n",
    "    # capture predictions on test data \n",
    "    test_results = sess.run(pred, feed_dict={x:test_x, keep_prob: 1.0})  \n",
    "    df_final = pd.DataFrame({'test_x':test_x[:,0], 'pred':test_results[:,0]})\n",
    "    # capture training and validation loss\n",
    "    df_loss = pd.DataFrame(t, columns=['step', 'train_loss', 'valid_loss'])"
   ]
  },
  {
   "cell_type": "code",
   "execution_count": 28,
   "metadata": {},
   "outputs": [
    {
     "data": {
      "image/png": "[encoded data removed]",
      "text/plain": [
       "<Figure size 1080x360 with 1 Axes>"
      ]
     },
     "metadata": {
      "needs_background": "light"
     },
     "output_type": "display_data"
    }
   ],
   "source": [
    "fig, axes = plt.subplots(nrows=1, ncols=1, figsize=(15, 5))\n",
    "# Chart 1 - Shows the line we are trying to model\n",
    "df.plot.scatter(x='x', y='y', ax=axes, color='red')\n",
    "# Chart 2 - Shows the line our trained model came up with\n",
    "df_final.plot.scatter(x='test_x', y='pred', ax=axes, alpha=0.3)\n",
    "# add a little sugar\n",
    "axes.set_title('target vs pred', fontsize=20)\n",
    "axes.set_ylabel('y', fontsize=15)\n",
    "axes.set_xlabel('x', fontsize=15)\n",
    "axes.legend([\"target\", \"pred\"], loc='best');"
   ]
  },
  {
   "cell_type": "code",
   "execution_count": 29,
   "metadata": {},
   "outputs": [
    {
     "data": {
      "text/plain": [
       "<matplotlib.axes._subplots.AxesSubplot at 0x15f050f1c18>"
      ]
     },
     "execution_count": 29,
     "metadata": {},
     "output_type": "execute_result"
    },
    {
     "data": {
      "image/png": "[encoded data removed]",
      "text/plain": [
       "<Figure size 1080x360 with 1 Axes>"
      ]
     },
     "metadata": {
      "needs_background": "light"
     },
     "output_type": "display_data"
    }
   ],
   "source": [
    "df_loss.set_index('step').plot(logy=True, figsize=(15,5))"
   ]
  },
  {
   "cell_type": "code",
   "execution_count": null,
   "metadata": {},
   "outputs": [],
   "source": []
  }
 ],
 "metadata": {
  "kernelspec": {
   "display_name": "Python 3",
   "language": "python",
   "name": "python3"
  },
  "language_info": {
   "codemirror_mode": {
    "name": "ipython",
    "version": 3
   },
   "file_extension": ".py",
   "mimetype": "text/x-python",
   "name": "python",
   "nbconvert_exporter": "python",
   "pygments_lexer": "ipython3",
   "version": "3.6.8"
  }
 },
 "nbformat": 4,
 "nbformat_minor": 2
}
