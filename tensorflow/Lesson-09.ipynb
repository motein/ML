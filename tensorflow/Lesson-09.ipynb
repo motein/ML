{
 "cells": [
  {
   "cell_type": "code",
   "execution_count": 1,
   "metadata": {},
   "outputs": [],
   "source": [
    "# A Validation Set during training\n",
    "# Solve overfitting (early stopping)\n",
    "# Training Error down, but Validation Error up\n",
    "\n",
    "# import libraries\n",
    "import tensorflow as tf\n",
    "import pandas as pd\n",
    "import numpy as np\n",
    "import sys\n",
    "import datetime\n",
    "import matplotlib.pyplot as plt\n",
    "plt.style.use('ggplot') # use this plot style\n",
    "%matplotlib inline"
   ]
  },
  {
   "cell_type": "code",
   "execution_count": 2,
   "metadata": {},
   "outputs": [
    {
     "name": "stdout",
     "output_type": "stream",
     "text": [
      "Python version 3.6.8 (tags/v3.6.8:3c6b436a57, Dec 24 2018, 00:16:47) [MSC v.1916 64 bit (AMD64)]\n",
      "Tensorflow version 1.13.1\n",
      "Pandas version 0.24.2\n",
      "Numpy version 1.16.2\n"
     ]
    }
   ],
   "source": [
    "print('Python version ' + sys.version)\n",
    "print('Tensorflow version ' + tf.VERSION)\n",
    "print('Pandas version ' + pd.__version__)\n",
    "print('Numpy version ' + np.__version__)"
   ]
  },
  {
   "cell_type": "code",
   "execution_count": 4,
   "metadata": {},
   "outputs": [
    {
     "name": "stdout",
     "output_type": "stream",
     "text": [
      "Testing data points: (150, 1)\n",
      "Validation data points: (150, 1)\n",
      "Training data points: (700, 1)\n"
     ]
    }
   ],
   "source": [
    "# Function to Model\n",
    "# y = a * x^4 + b\n",
    "# Let's generate 1000 random samples\n",
    "pool = np.random.rand(1000,1).astype(np.float32)\n",
    "# Shuffle the samples\n",
    "np.random.shuffle(pool)\n",
    "# sample size of 15%\n",
    "sample = int(1000 * 0.15)\n",
    "# 15% test\n",
    "test_x = pool[0:sample]\n",
    "# 15% validation\n",
    "valid_x = pool[sample:sample*2]\n",
    "# 70% training\n",
    "train_x = pool[sample*2:]\n",
    "print('Testing data points: ' + str(test_x.shape))\n",
    "print('Validation data points: ' + str(valid_x.shape))\n",
    "print('Training data points: ' + str(train_x.shape))\n",
    "# Let's compute the ouput using 2 for a, 5 for b\n",
    "test_y = 2.0 * test_x**4 + 5\n",
    "valid_y = 2.0 * valid_x**4 + 5\n",
    "train_y = 2.0 * train_x**4 + 5"
   ]
  },
  {
   "cell_type": "code",
   "execution_count": 5,
   "metadata": {},
   "outputs": [
    {
     "data": {
      "text/html": [
       "<div>\n",
       "<style scoped>\n",
       "    .dataframe tbody tr th:only-of-type {\n",
       "        vertical-align: middle;\n",
       "    }\n",
       "\n",
       "    .dataframe tbody tr th {\n",
       "        vertical-align: top;\n",
       "    }\n",
       "\n",
       "    .dataframe thead th {\n",
       "        text-align: right;\n",
       "    }\n",
       "</style>\n",
       "<table border=\"1\" class=\"dataframe\">\n",
       "  <thead>\n",
       "    <tr style=\"text-align: right;\">\n",
       "      <th></th>\n",
       "      <th>x</th>\n",
       "      <th>y</th>\n",
       "    </tr>\n",
       "  </thead>\n",
       "  <tbody>\n",
       "    <tr>\n",
       "      <th>0</th>\n",
       "      <td>0.548229</td>\n",
       "      <td>5.180667</td>\n",
       "    </tr>\n",
       "    <tr>\n",
       "      <th>1</th>\n",
       "      <td>0.040867</td>\n",
       "      <td>5.000006</td>\n",
       "    </tr>\n",
       "    <tr>\n",
       "      <th>2</th>\n",
       "      <td>0.261794</td>\n",
       "      <td>5.009394</td>\n",
       "    </tr>\n",
       "    <tr>\n",
       "      <th>3</th>\n",
       "      <td>0.036003</td>\n",
       "      <td>5.000003</td>\n",
       "    </tr>\n",
       "    <tr>\n",
       "      <th>4</th>\n",
       "      <td>0.361197</td>\n",
       "      <td>5.034041</td>\n",
       "    </tr>\n",
       "  </tbody>\n",
       "</table>\n",
       "</div>"
      ],
      "text/plain": [
       "          x         y\n",
       "0  0.548229  5.180667\n",
       "1  0.040867  5.000006\n",
       "2  0.261794  5.009394\n",
       "3  0.036003  5.000003\n",
       "4  0.361197  5.034041"
      ]
     },
     "execution_count": 5,
     "metadata": {},
     "output_type": "execute_result"
    }
   ],
   "source": [
    "df = pd.DataFrame({'x':train_x[:,0],'y':train_y[:,0]})\n",
    "df.head()"
   ]
  },
  {
   "cell_type": "code",
   "execution_count": 6,
   "metadata": {},
   "outputs": [
    {
     "data": {
      "text/html": [
       "<div>\n",
       "<style scoped>\n",
       "    .dataframe tbody tr th:only-of-type {\n",
       "        vertical-align: middle;\n",
       "    }\n",
       "\n",
       "    .dataframe tbody tr th {\n",
       "        vertical-align: top;\n",
       "    }\n",
       "\n",
       "    .dataframe thead th {\n",
       "        text-align: right;\n",
       "    }\n",
       "</style>\n",
       "<table border=\"1\" class=\"dataframe\">\n",
       "  <thead>\n",
       "    <tr style=\"text-align: right;\">\n",
       "      <th></th>\n",
       "      <th>x</th>\n",
       "      <th>y</th>\n",
       "    </tr>\n",
       "  </thead>\n",
       "  <tbody>\n",
       "    <tr>\n",
       "      <th>count</th>\n",
       "      <td>700.000000</td>\n",
       "      <td>700.000000</td>\n",
       "    </tr>\n",
       "    <tr>\n",
       "      <th>mean</th>\n",
       "      <td>0.491436</td>\n",
       "      <td>5.390879</td>\n",
       "    </tr>\n",
       "    <tr>\n",
       "      <th>std</th>\n",
       "      <td>0.289726</td>\n",
       "      <td>0.534863</td>\n",
       "    </tr>\n",
       "    <tr>\n",
       "      <th>min</th>\n",
       "      <td>0.001313</td>\n",
       "      <td>5.000000</td>\n",
       "    </tr>\n",
       "    <tr>\n",
       "      <th>25%</th>\n",
       "      <td>0.252377</td>\n",
       "      <td>5.008115</td>\n",
       "    </tr>\n",
       "    <tr>\n",
       "      <th>50%</th>\n",
       "      <td>0.465265</td>\n",
       "      <td>5.093720</td>\n",
       "    </tr>\n",
       "    <tr>\n",
       "      <th>75%</th>\n",
       "      <td>0.747711</td>\n",
       "      <td>5.625123</td>\n",
       "    </tr>\n",
       "    <tr>\n",
       "      <th>max</th>\n",
       "      <td>0.999622</td>\n",
       "      <td>6.996976</td>\n",
       "    </tr>\n",
       "  </tbody>\n",
       "</table>\n",
       "</div>"
      ],
      "text/plain": [
       "                x           y\n",
       "count  700.000000  700.000000\n",
       "mean     0.491436    5.390879\n",
       "std      0.289726    0.534863\n",
       "min      0.001313    5.000000\n",
       "25%      0.252377    5.008115\n",
       "50%      0.465265    5.093720\n",
       "75%      0.747711    5.625123\n",
       "max      0.999622    6.996976"
      ]
     },
     "execution_count": 6,
     "metadata": {},
     "output_type": "execute_result"
    }
   ],
   "source": [
    "\n",
    "\n",
    "df.describe()\n",
    "\n"
   ]
  },
  {
   "cell_type": "code",
   "execution_count": 9,
   "metadata": {},
   "outputs": [
    {
     "data": {
      "image/png": "[encoded data removed]",
      "text/plain": [
       "<Figure size 1080x360 with 1 Axes>"
      ]
     },
     "metadata": {
      "needs_background": "light"
     },
     "output_type": "display_data"
    }
   ],
   "source": [
    "df.plot.scatter(x='x', y='y', figsize=(15,5));"
   ]
  },
  {
   "cell_type": "code",
   "execution_count": 10,
   "metadata": {},
   "outputs": [],
   "source": [
    "# Helper Function\n",
    "def add_layer(inputs, in_size, out_size, activation_function=None):\n",
    "    # tf.random_normal([what is the size of your batches, size of output layer])\n",
    "    Weights = tf.Variable(tf.truncated_normal([in_size, out_size], mean=0.1, stddev=0.1))\n",
    "    # tf.random_normal([size of output layer])\n",
    "    biases = tf.Variable(tf.truncated_normal([out_size], mean=0.1, stddev=0.1))\n",
    "    # shape of pred = [size of your batches, size of output layer]\n",
    "    pred = tf.matmul(inputs, Weights) + biases\n",
    "    if activation_function is None:\n",
    "        outputs = pred\n",
    "    else:\n",
    "        outputs = activation_function(pred)\n",
    "    return outputs"
   ]
  },
  {
   "cell_type": "code",
   "execution_count": 11,
   "metadata": {},
   "outputs": [
    {
     "name": "stdout",
     "output_type": "stream",
     "text": [
      "shape of x and y:\n",
      "(?, 1) (?, 1)\n"
     ]
    }
   ],
   "source": [
    "# Model your Graph\n",
    "# you can adjust the number of neurons in the hidden layers here\n",
    "hidden_size = 100\n",
    "# placeholders\n",
    "# shape=[how many samples do you have, how many input neurons]\n",
    "x = tf.placeholder(tf.float32, shape=[None, 1], name=\"01_x\")\n",
    "y = tf.placeholder(tf.float32, shape=[None, 1], name=\"01_y\")\n",
    "print(\"shape of x and y:\")\n",
    "print(x.get_shape(),y.get_shape())"
   ]
  },
  {
   "cell_type": "code",
   "execution_count": 12,
   "metadata": {},
   "outputs": [
    {
     "name": "stdout",
     "output_type": "stream",
     "text": [
      "WARNING:tensorflow:From c:\\python36\\lib\\site-packages\\tensorflow\\python\\framework\\op_def_library.py:263: colocate_with (from tensorflow.python.framework.ops) is deprecated and will be removed in a future version.\n",
      "Instructions for updating:\n",
      "Colocations handled automatically by placer.\n",
      "shape of hidden layers:\n",
      "(?, 100) (?, 100)\n"
     ]
    }
   ],
   "source": [
    "# create your hidden layers!\n",
    "h1 = add_layer(x, 1, hidden_size, tf.nn.relu)\n",
    "h2 = add_layer(h1, hidden_size, hidden_size, tf.nn.relu)\n",
    "\n",
    "print(\"shape of hidden layers:\")\n",
    "print(h1.get_shape(), h2.get_shape())"
   ]
  },
  {
   "cell_type": "code",
   "execution_count": 13,
   "metadata": {},
   "outputs": [
    {
     "name": "stdout",
     "output_type": "stream",
     "text": [
      "shape of output layer:\n",
      "(?, 1)\n"
     ]
    }
   ],
   "source": [
    "# Output Layers\n",
    "pred = add_layer(h2, hidden_size, 1)\n",
    "print(\"shape of output layer:\")\n",
    "print(pred.get_shape())"
   ]
  },
  {
   "cell_type": "code",
   "execution_count": 14,
   "metadata": {},
   "outputs": [],
   "source": [
    "# minimize the mean squared errors.\n",
    "loss = tf.reduce_mean(tf.square(pred - y))\n",
    "# pick optimizer\n",
    "optimizer = tf.train.GradientDescentOptimizer(0.005)\n",
    "train = optimizer.minimize(loss)"
   ]
  },
  {
   "cell_type": "code",
   "execution_count": 15,
   "metadata": {},
   "outputs": [],
   "source": [
    "# check accuracy of model\n",
    "correct_prediction = tf.equal(tf.round(pred), tf.round(y))\n",
    "accuracy = tf.reduce_mean(tf.cast(correct_prediction, tf.float32))"
   ]
  },
  {
   "cell_type": "code",
   "execution_count": 16,
   "metadata": {},
   "outputs": [],
   "source": [
    "# Set Up Your Early Stoppage Variables\n",
    "# Best validation accuracy seen so far.\n",
    "best_valid_acc = 0.0\n",
    "# Iteration-number for last improvement to validation accuracy.\n",
    "last_improvement = 0\n",
    "# Stop optimization if no improvement found in this many iterations.\n",
    "require_improvement = 1500"
   ]
  },
  {
   "cell_type": "code",
   "execution_count": 17,
   "metadata": {},
   "outputs": [
    {
     "name": "stdout",
     "output_type": "stream",
     "text": [
      "Training loss at step 0: 104.408836 \n",
      "Validation 126.645142\n",
      "Training loss at step 100: 0.041361 *\n",
      "Validation 0.047990\n",
      "Training loss at step 200: 0.031978 *\n",
      "Validation 0.037155\n",
      "Training loss at step 300: 0.028016 \n",
      "Validation 0.032565\n",
      "Training loss at step 400: 0.025359 \n",
      "Validation 0.029523\n",
      "Training loss at step 500: 0.023507 \n",
      "Validation 0.027351\n",
      "Training loss at step 600: 0.021949 \n",
      "Validation 0.025542\n",
      "Training loss at step 700: 0.020526 \n",
      "Validation 0.023907\n",
      "Training loss at step 800: 0.019194 \n",
      "Validation 0.022393\n",
      "Training loss at step 900: 0.017944 \n",
      "Validation 0.020978\n",
      "Training loss at step 1000: 0.016774 \n",
      "Validation 0.019651\n",
      "Training loss at step 1100: 0.015679 *\n",
      "Validation 0.018407\n",
      "Training loss at step 1200: 0.014660 *\n",
      "Validation 0.017245\n",
      "Training loss at step 1300: 0.013713 *\n",
      "Validation 0.016164\n",
      "Training loss at step 1400: 0.012837 *\n",
      "Validation 0.015159\n",
      "Training loss at step 1500: 0.012026 \n",
      "Validation 0.014227\n",
      "Training loss at step 1600: 0.011278 *\n",
      "Validation 0.013365\n",
      "Training loss at step 1700: 0.010589 \n",
      "Validation 0.012568\n",
      "Training loss at step 1800: 0.009939 *\n",
      "Validation 0.011817\n",
      "Training loss at step 1900: 0.009286 *\n",
      "Validation 0.011070\n",
      "Training loss at step 2000: 0.008572 \n",
      "Validation 0.010261\n",
      "Training loss at step 2100: 0.007815 *\n",
      "Validation 0.009393\n",
      "Training loss at step 2200: 0.007107 \n",
      "Validation 0.008578\n",
      "Training loss at step 2300: 0.006509 *\n",
      "Validation 0.007883\n",
      "Training loss at step 2400: 0.006009 *\n",
      "Validation 0.007287\n",
      "Training loss at step 2500: 0.005582 \n",
      "Validation 0.006766\n",
      "Training loss at step 2600: 0.005213 *\n",
      "Validation 0.006308\n",
      "Training loss at step 2700: 0.004882 *\n",
      "Validation 0.005893\n",
      "Training loss at step 2800: 0.004571 \n",
      "Validation 0.005503\n",
      "Training loss at step 2900: 0.004287 \n",
      "Validation 0.005149\n",
      "Training loss at step 3000: 0.004042 \n",
      "Validation 0.004842\n",
      "Training loss at step 3100: 0.003828 \n",
      "Validation 0.004573\n",
      "Training loss at step 3200: 0.003635 *\n",
      "Validation 0.004332\n",
      "Training loss at step 3300: 0.003458 *\n",
      "Validation 0.004115\n",
      "Training loss at step 3400: 0.003297 *\n",
      "Validation 0.003918\n",
      "Training loss at step 3500: 0.003148 \n",
      "Validation 0.003736\n",
      "Training loss at step 3600: 0.003010 \n",
      "Validation 0.003569\n",
      "Training loss at step 3700: 0.002881 \n",
      "Validation 0.003413\n",
      "Training loss at step 3800: 0.002760 \n",
      "Validation 0.003268\n",
      "Training loss at step 3900: 0.002647 \n",
      "Validation 0.003132\n",
      "Training loss at step 4000: 0.002541 \n",
      "Validation 0.003005\n",
      "Training loss at step 4100: 0.002441 \n",
      "Validation 0.002886\n",
      "Training loss at step 4200: 0.002348 \n",
      "Validation 0.002774\n",
      "Training loss at step 4300: 0.002259 \n",
      "Validation 0.002669\n",
      "Training loss at step 4400: 0.002176 \n",
      "Validation 0.002570\n",
      "Training loss at step 4500: 0.002098 \n",
      "Validation 0.002476\n",
      "Training loss at step 4600: 0.002023 \n",
      "Validation 0.002387\n",
      "Training loss at step 4700: 0.001953 \n",
      "Validation 0.002303\n",
      "Training loss at step 4800: 0.001887 \n",
      "Validation 0.002223\n",
      "Training loss at step 4900: 0.001824 *\n",
      "Validation 0.002148\n",
      "Training loss at step 5000: 0.001763 \n",
      "Validation 0.002076\n",
      "Training loss at step 5100: 0.001706 \n",
      "Validation 0.002007\n",
      "Training loss at step 5200: 0.001652 \n",
      "Validation 0.001942\n",
      "Training loss at step 5300: 0.001600 \n",
      "Validation 0.001879\n",
      "Training loss at step 5400: 0.001550 \n",
      "Validation 0.001819\n",
      "Training loss at step 5500: 0.001503 \n",
      "Validation 0.001762\n",
      "Training loss at step 5600: 0.001457 \n",
      "Validation 0.001707\n",
      "Training loss at step 5700: 0.001404 \n",
      "Validation 0.001643\n",
      "Training loss at step 5800: 0.001297 \n",
      "Validation 0.001511\n",
      "Training loss at step 5900: 0.001258 \n",
      "Validation 0.001463\n",
      "Accuracy on the Training Set: 0.99714285\n",
      "Accuracy on the Validation Set: 1.0\n",
      "Accuracy on the Test Set: 0.9866667\n"
     ]
    }
   ],
   "source": [
    "# initialize the variables\n",
    "init = tf.global_variables_initializer()\n",
    "# hold step and error values\n",
    "t = []\n",
    "# Run your graph\n",
    "with tf.Session() as sess:\n",
    "    # initialize variables\n",
    "    sess.run(init)\n",
    "    # Fit the function.\n",
    "    for step in range(6000):\n",
    "        # get your data\n",
    "        train_data = {x:train_x, y:train_y}\n",
    "        valid_data = {x:valid_x, y:valid_y}\n",
    "        test_data = {x:test_x, y:test_y}\n",
    "        # training in progress...\n",
    "        train_loss, train_pred = sess.run([loss, train], feed_dict=train_data)        \n",
    "        # print every n iterations\n",
    "        if step%100==0:\n",
    "            # capture the step and error for analysis\n",
    "            valid_loss = sess.run(loss, feed_dict=valid_data) \n",
    "            t.append((step, train_loss, valid_loss))    \n",
    "            # get snapshot of current training and validation accuracy       \n",
    "            train_acc = accuracy.eval(train_data)\n",
    "            valid_acc = accuracy.eval(valid_data)           \n",
    "            # If validation accuracy is an improvement over best-known.\n",
    "            if valid_acc > best_valid_acc:\n",
    "                # Update the best-known validation accuracy.\n",
    "                best_valid_acc = valid_acc\n",
    "                # Set the iteration for the last improvement to current.\n",
    "                last_improvement = step\n",
    "                # Flag when ever an improvement is found\n",
    "                improved_str = '*'\n",
    "            else:\n",
    "                # An empty string to be printed below.\n",
    "                # Shows that no improvement was found.\n",
    "                improved_str = ''   \n",
    "            print(\"Training loss at step %d: %f %s\" % (step, train_loss, improved_str))        \n",
    "            print(\"Validation %f\" % (valid_loss))            \n",
    "            # If no improvement found in the required number of iterations.\n",
    "            if step - last_improvement > require_improvement:\n",
    "                print(\"No improvement found in a while, stopping optimization.\")\n",
    "                # Break out from the for-loop.\n",
    "                break                \n",
    "    # here is where you see how good of a Data Scientist you are        \n",
    "    print(\"Accuracy on the Training Set:\", accuracy.eval(train_data) )\n",
    "    print(\"Accuracy on the Validation Set:\", accuracy.eval(valid_data) ) \n",
    "    print(\"Accuracy on the Test Set:\", accuracy.eval(test_data) )\n",
    "    # capture predictions on test data \n",
    "    test_results = sess.run(pred, feed_dict={x:test_x})  \n",
    "    df_final = pd.DataFrame({'test_x':test_x[:,0], 'pred':test_results[:,0]})\n",
    "    # capture training and validation loss\n",
    "    df_loss = pd.DataFrame(t, columns=['step', 'train_loss', 'valid_loss'])"
   ]
  },
  {
   "cell_type": "code",
   "execution_count": 18,
   "metadata": {},
   "outputs": [
    {
     "data": {
      "image/png": "[encoded data removed]",
      "text/plain": [
       "<Figure size 1080x360 with 1 Axes>"
      ]
     },
     "metadata": {
      "needs_background": "light"
     },
     "output_type": "display_data"
    }
   ],
   "source": [
    "fig, axes = plt.subplots(nrows=1, ncols=1, figsize=(15, 5))\n",
    "# Chart 1 - Shows the line we are trying to model\n",
    "df.plot.scatter(x='x', y='y', ax=axes, color='red')\n",
    "# Chart 2 - Shows the line our trained model came up with\n",
    "df_final.plot.scatter(x='test_x', y='pred', ax=axes, alpha=0.3)\n",
    "# add a little sugar\n",
    "axes.set_title('target vs pred', fontsize=20)\n",
    "axes.set_ylabel('y', fontsize=15)\n",
    "axes.set_xlabel('x', fontsize=15)\n",
    "axes.legend([\"target\", \"pred\"], loc='best');"
   ]
  },
  {
   "cell_type": "code",
   "execution_count": 19,
   "metadata": {},
   "outputs": [
    {
     "data": {
      "image/png": "[encoded data removed]",
      "text/plain": [
       "<Figure size 1080x360 with 1 Axes>"
      ]
     },
     "metadata": {
      "needs_background": "light"
     },
     "output_type": "display_data"
    }
   ],
   "source": [
    "df_loss.set_index('step').plot(logy=True, figsize=(15,5));"
   ]
  },
  {
   "cell_type": "code",
   "execution_count": null,
   "metadata": {},
   "outputs": [],
   "source": []
  }
 ],
 "metadata": {
  "kernelspec": {
   "display_name": "Python 3",
   "language": "python",
   "name": "python3"
  },
  "language_info": {
   "codemirror_mode": {
    "name": "ipython",
    "version": 3
   },
   "file_extension": ".py",
   "mimetype": "text/x-python",
   "name": "python",
   "nbconvert_exporter": "python",
   "pygments_lexer": "ipython3",
   "version": "3.6.8"
  }
 },
 "nbformat": 4,
 "nbformat_minor": 2
}
