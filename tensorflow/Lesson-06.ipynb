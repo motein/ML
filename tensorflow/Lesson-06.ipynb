{
 "cells": [
  {
   "cell_type": "code",
   "execution_count": 2,
   "metadata": {},
   "outputs": [],
   "source": [
    "# import libraries\n",
    "import tensorflow as tf\n",
    "import pandas as pd\n",
    "import numpy as np\n",
    "import sys\n",
    "import math\n",
    "%matplotlib inline"
   ]
  },
  {
   "cell_type": "code",
   "execution_count": 3,
   "metadata": {},
   "outputs": [
    {
     "name": "stdout",
     "output_type": "stream",
     "text": [
      "Python version 3.6.8 (tags/v3.6.8:3c6b436a57, Dec 24 2018, 00:16:47) [MSC v.1916 64 bit (AMD64)]\n",
      "Tensorflow version 1.13.1\n",
      "Pandas version 0.24.2\n",
      "Numpy version 1.16.2\n"
     ]
    }
   ],
   "source": [
    "print('Python version ' + sys.version)\n",
    "print('Tensorflow version ' + tf.VERSION)\n",
    "print('Pandas version ' + pd.__version__)\n",
    "print('Numpy version ' + np.__version__)"
   ]
  },
  {
   "cell_type": "code",
   "execution_count": 4,
   "metadata": {},
   "outputs": [],
   "source": [
    "# Create Test Data\n",
    "# let's generate 100 random samples\n",
    "train_x = np.random.rand(100).astype(np.float32)\n",
    "# let's compute y_data using 0.1 for m and 0.3 for b\n",
    "train_y = 0.1*train_x + 0.3"
   ]
  },
  {
   "cell_type": "code",
   "execution_count": 18,
   "metadata": {},
   "outputs": [],
   "source": [
    "# Pick a Large Learning Rate\n",
    "# placeholders\n",
    "x = tf.placeholder(tf.float32, name='01_x')\n",
    "y = tf.placeholder(tf.float32, name='01_y')\n",
    "\n",
    "# variables\n",
    "W = tf.Variable(np.random.rand())\n",
    "b = tf.Variable(np.random.rand())\n",
    "pred = W * train_x + b\n",
    "\n",
    "# minimize the mean squared errors\n",
    "loss = tf.reduce_mean(tf.square(pred-train_y))\n",
    "optimizer = tf.train.GradientDescentOptimizer(0.001)\n",
    "train = optimizer.minimize(loss)"
   ]
  },
  {
   "cell_type": "code",
   "execution_count": 19,
   "metadata": {},
   "outputs": [],
   "source": [
    "# check accuracy of model\n",
    "correct_prediction = tf.equal(tf.round(pred), tf.round(train_y))\n",
    "accuracy = tf.reduce_mean(tf.cast(correct_prediction, tf.float32))"
   ]
  },
  {
   "cell_type": "code",
   "execution_count": 20,
   "metadata": {},
   "outputs": [
    {
     "name": "stdout",
     "output_type": "stream",
     "text": [
      "Accuracy on the Training Set: 1.0\n"
     ]
    }
   ],
   "source": [
    "# hold step and error values\n",
    "t = []\n",
    "# initialize the variables\n",
    "init = tf.global_variables_initializer()\n",
    "\n",
    "# run your graph\n",
    "with tf.Session() as sess:\n",
    "    sess.run(init)\n",
    "    # fit the function.\n",
    "    for step in range(6000):\n",
    "        # get your data\n",
    "        train_data = {x:train_x, y:train_y}\n",
    "        # training in progress...\n",
    "        sess.run(train, feed_dict=train_data)\n",
    "        \n",
    "        # capture the step and error for analysis\n",
    "        t.append((step, sess.run(loss, feed_dict=train_data)))        \n",
    "    # here is where you see how good of a Data Scientist you are        \n",
    "    print(\"Accuracy on the Training Set:\", accuracy.eval({x: train_x, y: train_y}))"
   ]
  },
  {
   "cell_type": "code",
   "execution_count": 21,
   "metadata": {},
   "outputs": [
    {
     "data": {
      "image/png": "[encoded data removed]",
      "text/plain": [
       "<Figure size 1440x360 with 1 Axes>"
      ]
     },
     "metadata": {
      "needs_background": "light"
     },
     "output_type": "display_data"
    }
   ],
   "source": [
    "pd.DataFrame(t, columns=['step', 'error']).set_index('step').plot(figsize=(20,5));"
   ]
  },
  {
   "cell_type": "code",
   "execution_count": null,
   "metadata": {},
   "outputs": [],
   "source": []
  }
 ],
 "metadata": {
  "kernelspec": {
   "display_name": "Python 3",
   "language": "python",
   "name": "python3"
  },
  "language_info": {
   "codemirror_mode": {
    "name": "ipython",
    "version": 3
   },
   "file_extension": ".py",
   "mimetype": "text/x-python",
   "name": "python",
   "nbconvert_exporter": "python",
   "pygments_lexer": "ipython3",
   "version": "3.6.8"
  }
 },
 "nbformat": 4,
 "nbformat_minor": 2
}
