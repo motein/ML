{
 "cells": [
  {
   "cell_type": "code",
   "execution_count": 2,
   "metadata": {},
   "outputs": [],
   "source": [
    "# import libraries\n",
    "import tensorflow as tf\n",
    "import pandas as pd\n",
    "import numpy as np\n",
    "import matplotlib.pyplot as plt\n",
    "plt.style.use('ggplot') # use this plot style\n",
    "import sys\n",
    "%matplotlib inline"
   ]
  },
  {
   "cell_type": "code",
   "execution_count": 3,
   "metadata": {},
   "outputs": [
    {
     "name": "stdout",
     "output_type": "stream",
     "text": [
      "Python version 3.6.6 (v3.6.6:4cf1f54eb7, Jun 27 2018, 03:37:03) [MSC v.1900 64 bit (AMD64)]\n",
      "Tensorflow version 1.12.0\n",
      "Pandas version 0.23.4\n",
      "Numpy version 1.15.0\n"
     ]
    }
   ],
   "source": [
    "print('Python version ' + sys.version)\n",
    "print('Tensorflow version ' + tf.VERSION)\n",
    "print('Pandas version ' + pd.__version__)\n",
    "print('Numpy version ' + np.__version__)"
   ]
  },
  {
   "cell_type": "code",
   "execution_count": 4,
   "metadata": {},
   "outputs": [],
   "source": [
    "# Create Training Data\n",
    "# y = m*x + b\n",
    "# let's generate 100 random samples\n",
    "train_x = np.random.rand(100).astype(np.float32)\n",
    "# let's compute train_y using 0.1 for m and 0.3 for b\n",
    "train_y = 0.1 * train_x + 0.3"
   ]
  },
  {
   "cell_type": "code",
   "execution_count": 5,
   "metadata": {},
   "outputs": [
    {
     "data": {
      "text/html": [
       "<div>\n",
       "<style scoped>\n",
       "    .dataframe tbody tr th:only-of-type {\n",
       "        vertical-align: middle;\n",
       "    }\n",
       "\n",
       "    .dataframe tbody tr th {\n",
       "        vertical-align: top;\n",
       "    }\n",
       "\n",
       "    .dataframe thead th {\n",
       "        text-align: right;\n",
       "    }\n",
       "</style>\n",
       "<table border=\"1\" class=\"dataframe\">\n",
       "  <thead>\n",
       "    <tr style=\"text-align: right;\">\n",
       "      <th></th>\n",
       "      <th>x</th>\n",
       "      <th>y</th>\n",
       "    </tr>\n",
       "  </thead>\n",
       "  <tbody>\n",
       "    <tr>\n",
       "      <th>0</th>\n",
       "      <td>0.016055</td>\n",
       "      <td>0.301606</td>\n",
       "    </tr>\n",
       "    <tr>\n",
       "      <th>1</th>\n",
       "      <td>0.520240</td>\n",
       "      <td>0.352024</td>\n",
       "    </tr>\n",
       "    <tr>\n",
       "      <th>2</th>\n",
       "      <td>0.763637</td>\n",
       "      <td>0.376364</td>\n",
       "    </tr>\n",
       "    <tr>\n",
       "      <th>3</th>\n",
       "      <td>0.272880</td>\n",
       "      <td>0.327288</td>\n",
       "    </tr>\n",
       "    <tr>\n",
       "      <th>4</th>\n",
       "      <td>0.685748</td>\n",
       "      <td>0.368575</td>\n",
       "    </tr>\n",
       "  </tbody>\n",
       "</table>\n",
       "</div>"
      ],
      "text/plain": [
       "          x         y\n",
       "0  0.016055  0.301606\n",
       "1  0.520240  0.352024\n",
       "2  0.763637  0.376364\n",
       "3  0.272880  0.327288\n",
       "4  0.685748  0.368575"
      ]
     },
     "execution_count": 5,
     "metadata": {},
     "output_type": "execute_result"
    }
   ],
   "source": [
    "df = pd.DataFrame({'x':train_x, 'y': train_y})\n",
    "df.head()"
   ]
  },
  {
   "cell_type": "code",
   "execution_count": 6,
   "metadata": {},
   "outputs": [
    {
     "data": {
      "text/html": [
       "<div>\n",
       "<style scoped>\n",
       "    .dataframe tbody tr th:only-of-type {\n",
       "        vertical-align: middle;\n",
       "    }\n",
       "\n",
       "    .dataframe tbody tr th {\n",
       "        vertical-align: top;\n",
       "    }\n",
       "\n",
       "    .dataframe thead th {\n",
       "        text-align: right;\n",
       "    }\n",
       "</style>\n",
       "<table border=\"1\" class=\"dataframe\">\n",
       "  <thead>\n",
       "    <tr style=\"text-align: right;\">\n",
       "      <th></th>\n",
       "      <th>x</th>\n",
       "      <th>y</th>\n",
       "    </tr>\n",
       "  </thead>\n",
       "  <tbody>\n",
       "    <tr>\n",
       "      <th>count</th>\n",
       "      <td>100.000000</td>\n",
       "      <td>100.000000</td>\n",
       "    </tr>\n",
       "    <tr>\n",
       "      <th>mean</th>\n",
       "      <td>0.472658</td>\n",
       "      <td>0.347266</td>\n",
       "    </tr>\n",
       "    <tr>\n",
       "      <th>std</th>\n",
       "      <td>0.295586</td>\n",
       "      <td>0.029559</td>\n",
       "    </tr>\n",
       "    <tr>\n",
       "      <th>min</th>\n",
       "      <td>0.001845</td>\n",
       "      <td>0.300185</td>\n",
       "    </tr>\n",
       "    <tr>\n",
       "      <th>25%</th>\n",
       "      <td>0.227366</td>\n",
       "      <td>0.322737</td>\n",
       "    </tr>\n",
       "    <tr>\n",
       "      <th>50%</th>\n",
       "      <td>0.483254</td>\n",
       "      <td>0.348325</td>\n",
       "    </tr>\n",
       "    <tr>\n",
       "      <th>75%</th>\n",
       "      <td>0.705917</td>\n",
       "      <td>0.370592</td>\n",
       "    </tr>\n",
       "    <tr>\n",
       "      <th>max</th>\n",
       "      <td>0.990790</td>\n",
       "      <td>0.399079</td>\n",
       "    </tr>\n",
       "  </tbody>\n",
       "</table>\n",
       "</div>"
      ],
      "text/plain": [
       "                x           y\n",
       "count  100.000000  100.000000\n",
       "mean     0.472658    0.347266\n",
       "std      0.295586    0.029559\n",
       "min      0.001845    0.300185\n",
       "25%      0.227366    0.322737\n",
       "50%      0.483254    0.348325\n",
       "75%      0.705917    0.370592\n",
       "max      0.990790    0.399079"
      ]
     },
     "execution_count": 6,
     "metadata": {},
     "output_type": "execute_result"
    }
   ],
   "source": [
    "df.describe()"
   ]
  },
  {
   "cell_type": "code",
   "execution_count": 7,
   "metadata": {},
   "outputs": [
    {
     "data": {
      "text/plain": [
       "<matplotlib.axes._subplots.AxesSubplot at 0x1beb8111710>"
      ]
     },
     "execution_count": 7,
     "metadata": {},
     "output_type": "execute_result"
    },
    {
     "data": {
      "image/png": "[encoded data removed]",
      "text/plain": [
       "<Figure size 1080x360 with 1 Axes>"
      ]
     },
     "metadata": {},
     "output_type": "display_data"
    }
   ],
   "source": [
    "df.plot.scatter(x='x', y='y', figsize=(15,5))"
   ]
  },
  {
   "cell_type": "code",
   "execution_count": 8,
   "metadata": {},
   "outputs": [],
   "source": [
    "# Create Test Data\n",
    "# This is the data we are going to use to make sure our model is generating good predictions\n",
    "test_x = np.random.rand(100).astype(np.float32)"
   ]
  },
  {
   "cell_type": "code",
   "execution_count": 15,
   "metadata": {},
   "outputs": [],
   "source": [
    "# Model your Graph\n",
    "# placeholders\n",
    "x = tf.placeholder(tf.float32, name='01_x')\n",
    "y = tf.placeholder(tf.float32, name='01_y')\n",
    "\n",
    "# variables\n",
    "# Note that np.random.rand() is used to initialize your variable\n",
    "W = tf.Variable(np.random.rand())\n",
    "b = tf.Variable(np.random.rand())\n",
    "pred = tf.multiply(W, x) + b\n",
    "\n",
    "# minimize the mean squared errors\n",
    "# as mentioned above there are other ways to measure the error between train_y and pred\n",
    "loss = tf.reduce_mean(tf.square(pred-y))\n",
    "\n",
    "# we pick our optimizer and a learning rate\n",
    "optimizer = tf.train.GradientDescentOptimizer(0.7)\n",
    "\n",
    "# we train our model by minimizing our loss function\n",
    "train = optimizer.minimize(loss)"
   ]
  },
  {
   "cell_type": "code",
   "execution_count": 16,
   "metadata": {},
   "outputs": [
    {
     "name": "stdout",
     "output_type": "stream",
     "text": [
      "181 0.10000005 0.29999998\n",
      "182 0.10000005 0.29999998\n",
      "183 0.10000005 0.29999998\n",
      "184 0.10000005 0.29999998\n",
      "185 0.10000005 0.29999998\n",
      "186 0.10000005 0.29999998\n",
      "187 0.10000005 0.29999998\n",
      "188 0.10000005 0.29999998\n",
      "189 0.10000005 0.29999998\n",
      "190 0.10000005 0.29999998\n",
      "191 0.10000005 0.29999998\n",
      "192 0.10000005 0.29999998\n",
      "193 0.10000005 0.29999998\n",
      "194 0.10000005 0.29999998\n",
      "195 0.10000005 0.29999998\n",
      "196 0.10000005 0.29999998\n",
      "197 0.10000005 0.29999998\n",
      "198 0.10000005 0.29999998\n",
      "199 0.10000005 0.29999998\n",
      "Training completed: W= 0.10000005 b= 0.29999998\n"
     ]
    }
   ],
   "source": [
    "# Time to Train\n",
    "# initialize the variables\n",
    "init = tf.global_variables_initializer()\n",
    "\n",
    "# run your graph\n",
    "with tf.Session() as sess:\n",
    "    sess.run(init)\n",
    "    \n",
    "    # fit the function\n",
    "    for step in range(200):\n",
    "        # get your data\n",
    "        train_data = {x:train_x, y:train_y}\n",
    "        # training in progress...\n",
    "        sess.run(train, feed_dict=train_data)\n",
    "        # print the last 20 results\n",
    "        if step > 180:\n",
    "            print(step, sess.run(W), sess.run(b))\n",
    "    \n",
    "    # note that W and b match the line we are trying to model (y=0.1x+0.3)\n",
    "    print(\"Training completed:\", \"W=\", sess.run(W), \"b=\", sess.run(b))\n",
    "    \n",
    "    # run your trained model on the test data set\n",
    "    test_results = sess.run(pred, feed_dict={x: test_x})\n",
    "    # capture the predicted results so you can plot them\n",
    "    df_final = pd.DataFrame({'test_x':test_x, 'pred':test_results})"
   ]
  },
  {
   "cell_type": "code",
   "execution_count": 17,
   "metadata": {},
   "outputs": [
    {
     "data": {
      "text/plain": [
       "Text(0.5,0,'x')"
      ]
     },
     "execution_count": 17,
     "metadata": {},
     "output_type": "execute_result"
    },
    {
     "data": {
      "image/png": "[encoded data removed]",
      "text/plain": [
       "<Figure size 1080x360 with 1 Axes>"
      ]
     },
     "metadata": {},
     "output_type": "display_data"
    }
   ],
   "source": [
    "# Plot the Training Data vs the Test Data\n",
    "fig, axes = plt.subplots(nrows=1, ncols=1, figsize=(15,5))\n",
    "# Chart 1 - Shows the line we are trying to model\n",
    "df.plot.scatter(x='x', y='y', ax=axes, color='red')\n",
    "# Chart 2 - Shows the line our trained model came up with\n",
    "df_final.plot.scatter(x='test_x', y='pred', ax=axes, alpha=0.3)\n",
    "# add a little sugar\n",
    "axes.set_title('target vs pred', fontsize=20)\n",
    "axes.set_ylabel('y', fontsize=15)\n",
    "axes.set_xlabel('x', fontsize=15)"
   ]
  },
  {
   "cell_type": "code",
   "execution_count": null,
   "metadata": {},
   "outputs": [],
   "source": []
  }
 ],
 "metadata": {
  "kernelspec": {
   "display_name": "Python 3",
   "language": "python",
   "name": "python3"
  },
  "language_info": {
   "codemirror_mode": {
    "name": "ipython",
    "version": 3
   },
   "file_extension": ".py",
   "mimetype": "text/x-python",
   "name": "python",
   "nbconvert_exporter": "python",
   "pygments_lexer": "ipython3",
   "version": "3.6.8"
  }
 },
 "nbformat": 4,
 "nbformat_minor": 2
}
