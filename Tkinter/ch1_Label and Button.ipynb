{
 "cells": [
  {
   "cell_type": "code",
   "execution_count": 11,
   "metadata": {},
   "outputs": [],
   "source": [
    "import tkinter as tk\n",
    "\n",
    "window = tk.Tk()\n",
    "window.title(\"my window\")\n",
    "window.geometry(\"200x100\")\n",
    "\n",
    "# Add window content here\n",
    "# Add a label\n",
    "# l = tk.Label(window, \n",
    "#     text='OMG! this is TK!', # label content\n",
    "#     bg='green', # bgcolor\n",
    "#     font=('Arial', 12),# font and font size\n",
    "#     width=15, height=2)  # label size\n",
    "# l.pack() # fix its position\n",
    "\n",
    "var = tk.StringVar()\n",
    "l = tk.Label(window, \n",
    "    textvariable=var, # use a variable to replace fixed content\n",
    "    bg='green',\n",
    "    font=('Arial', 12),\n",
    "    width=15, height=2)\n",
    "l.pack()\n",
    "\n",
    "# Define event function\n",
    "on_hit = False # default state: False\n",
    "def hit_me():\n",
    "    global on_hit\n",
    "    if on_hit == False: # from False to True\n",
    "        on_hit = True\n",
    "        var.set('you hit me')# set label content to 'you hit me'\n",
    "    else: # from True to False\n",
    "        on_hit = False\n",
    "        var.set('') # set label conten to empty\n",
    "        \n",
    "# Add a button\n",
    "b = tk.Button(window, \n",
    "    text='hit me', # content in button\n",
    "    width=15, height=2, \n",
    "    command=hit_me)# define command to execute\n",
    "b.pack() # set position\n",
    "\n",
    "window.mainloop()"
   ]
  },
  {
   "cell_type": "code",
   "execution_count": null,
   "metadata": {},
   "outputs": [],
   "source": []
  }
 ],
 "metadata": {
  "kernelspec": {
   "display_name": "Python 3",
   "language": "python",
   "name": "python3"
  },
  "language_info": {
   "codemirror_mode": {
    "name": "ipython",
    "version": 3
   },
   "file_extension": ".py",
   "mimetype": "text/x-python",
   "name": "python",
   "nbconvert_exporter": "python",
   "pygments_lexer": "ipython3",
   "version": "3.6.8"
  }
 },
 "nbformat": 4,
 "nbformat_minor": 2
}
