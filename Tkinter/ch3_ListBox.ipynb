{
 "cells": [
  {
   "cell_type": "code",
   "execution_count": 2,
   "metadata": {},
   "outputs": [],
   "source": [
    "import tkinter as tk\n",
    "\n",
    "window = tk.Tk()\n",
    "window.title(\"my window\")\n",
    "window.geometry(\"200x100\")\n",
    "\n",
    "# Add window content here\n",
    "var1 = tk.StringVar() # creat a variable\n",
    "l =tk.Label(window,bg='yellow',width=4,textvariable=var1)\n",
    "l.pack()\n",
    "\n",
    "def print_selection():\n",
    "    value = lb.get(lb.curselection()) # get the current selection\n",
    "    var1.set(value) # set value to label\n",
    "\n",
    "b1 = tk.Button(window, text='print selection', width=15, height=2, command=print_selection)\n",
    "b1.pack()\n",
    "\n",
    "var2 = tk.StringVar()\n",
    "var2.set((11,22,33,44)) # set variable value\n",
    "\n",
    "# create a list box\n",
    "lb = tk.Listbox(window, listvariable=var2) # set var2 to list box\n",
    "\n",
    "# create a list and recurrently add its value to list box\n",
    "list_items = [1,2,3,4]\n",
    "for item in list_items:\n",
    "    lb.insert('end', item)  # insert from the last position\n",
    "lb.insert(1, 'first')       # insert 'first' at its 1st position\n",
    "lb.insert(2, 'second')      # insert 'second' at its 2nd position\n",
    "lb.delete(2)                # delete the 2nd positon\n",
    "lb.pack()\n",
    "\n",
    "window.mainloop()"
   ]
  },
  {
   "cell_type": "code",
   "execution_count": null,
   "metadata": {},
   "outputs": [],
   "source": []
  }
 ],
 "metadata": {
  "kernelspec": {
   "display_name": "Python 3",
   "language": "python",
   "name": "python3"
  },
  "language_info": {
   "codemirror_mode": {
    "name": "ipython",
    "version": 3
   },
   "file_extension": ".py",
   "mimetype": "text/x-python",
   "name": "python",
   "nbconvert_exporter": "python",
   "pygments_lexer": "ipython3",
   "version": "3.6.8"
  }
 },
 "nbformat": 4,
 "nbformat_minor": 2
}
