{
 "cells": [
  {
   "cell_type": "code",
   "execution_count": null,
   "metadata": {},
   "outputs": [],
   "source": [
    "import tkinter as tk\n",
    "\n",
    "window = tk.Tk()\n",
    "window.title(\"my window\")\n",
    "window.geometry(\"200x100\")\n",
    "\n",
    "# Add window content here\n",
    "var = tk.StringVar()\n",
    "l = tk.Label(window, bg='yellow', width=20, text='empty')\n",
    "l.pack()\n",
    "\n",
    "def print_selection():\n",
    "    l.config(text='you have selected ' + var.get())\n",
    "\n",
    "r1 = tk.Radiobutton(window, text='Option A', variable=var, value='A', command=print_selection)\n",
    "r1.pack()\n",
    "\n",
    "window.mainloop()"
   ]
  },
  {
   "cell_type": "code",
   "execution_count": null,
   "metadata": {},
   "outputs": [],
   "source": []
  }
 ],
 "metadata": {
  "kernelspec": {
   "display_name": "Python 3",
   "language": "python",
   "name": "python3"
  },
  "language_info": {
   "codemirror_mode": {
    "name": "ipython",
    "version": 3
   },
   "file_extension": ".py",
   "mimetype": "text/x-python",
   "name": "python",
   "nbconvert_exporter": "python",
   "pygments_lexer": "ipython3",
   "version": "3.6.8"
  }
 },
 "nbformat": 4,
 "nbformat_minor": 2
}
