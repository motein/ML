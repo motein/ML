{
 "cells": [
  {
   "cell_type": "code",
   "execution_count": 5,
   "metadata": {},
   "outputs": [
    {
     "name": "stdout",
     "output_type": "stream",
     "text": [
      "True\n",
      "False\n",
      "True\n",
      "False\n"
     ]
    }
   ],
   "source": [
    "import tkinter as tk\n",
    "import tkinter.messagebox\n",
    "\n",
    "window = tk.Tk()\n",
    "window.title(\"my window\")\n",
    "window.geometry(\"200x100\")\n",
    "\n",
    "# Add window content here\n",
    "def hit_me():\n",
    "#     tk.messagebox.showinfo(title='Hi', message='hahahaha')   # return 'ok'\n",
    "#     tk.messagebox.showwarning(title='Hi', message='nononono')   # return 'ok'\n",
    "#     tk.messagebox.showerror(title='Hi', message='No!! never')   # return 'ok'\n",
    "#     print(tk.messagebox.askquestion(title='Hi', message='hahahaha'))   # return 'yes' , 'no'\n",
    "#     print(tk.messagebox.askyesno(title='Hi', message='hahahaha'))   # return True, False\n",
    "#     print(tk.messagebox.asktrycancel(title='Hi', message='hahahaha'))   # return True, False\n",
    "    print(tk.messagebox.askokcancel(title='Hi', message='hahahaha'))   # return True, False\n",
    "    print(tk.messagebox.askyesnocancel(title=\"Hi\", message=\"haha\"))     # return, True, False, None\n",
    "\n",
    "tk.Button(window, text='hit me', command=hit_me).pack()\n",
    "\n",
    "window.mainloop()"
   ]
  },
  {
   "cell_type": "code",
   "execution_count": null,
   "metadata": {},
   "outputs": [],
   "source": []
  }
 ],
 "metadata": {
  "kernelspec": {
   "display_name": "Python 3",
   "language": "python",
   "name": "python3"
  },
  "language_info": {
   "codemirror_mode": {
    "name": "ipython",
    "version": 3
   },
   "file_extension": ".py",
   "mimetype": "text/x-python",
   "name": "python",
   "nbconvert_exporter": "python",
   "pygments_lexer": "ipython3",
   "version": "3.6.8"
  }
 },
 "nbformat": 4,
 "nbformat_minor": 2
}
