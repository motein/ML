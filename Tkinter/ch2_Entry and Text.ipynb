{
 "cells": [
  {
   "cell_type": "code",
   "execution_count": 9,
   "metadata": {},
   "outputs": [],
   "source": [
    "import tkinter as tk\n",
    "\n",
    "window = tk.Tk()\n",
    "window.title(\"my window\")\n",
    "window.geometry(\"300x200\")\n",
    "\n",
    "# Add window content here\n",
    "e = tk.Entry(window, show='*') # entry/ input box\n",
    "e.pack()\n",
    "\n",
    "def insert_point():\n",
    "    var = e.get()\n",
    "    t.insert('insert',var)\n",
    "\n",
    "def insert_end():\n",
    "    var = e.get()\n",
    "    t.insert('end',var)\n",
    "\n",
    "# add two buttons\n",
    "b1 = tk.Button(window,text=\"insert point\",width=15,height=2,command=insert_point)\n",
    "b1.pack()\n",
    "\n",
    "b2 = tk.Button(window,text=\"insert end\",width=15,height=2,command=insert_end)\n",
    "b2.pack()\n",
    "\n",
    "t = tk.Text(window, width=20, height=2) # text box\n",
    "t.pack()\n",
    "\n",
    "window.mainloop()"
   ]
  },
  {
   "cell_type": "code",
   "execution_count": null,
   "metadata": {},
   "outputs": [],
   "source": []
  }
 ],
 "metadata": {
  "kernelspec": {
   "display_name": "Python 3",
   "language": "python",
   "name": "python3"
  },
  "language_info": {
   "codemirror_mode": {
    "name": "ipython",
    "version": 3
   },
   "file_extension": ".py",
   "mimetype": "text/x-python",
   "name": "python",
   "nbconvert_exporter": "python",
   "pygments_lexer": "ipython3",
   "version": "3.6.8"
  }
 },
 "nbformat": 4,
 "nbformat_minor": 2
}
