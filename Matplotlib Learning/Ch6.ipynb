{
 "cells": [
  {
   "cell_type": "code",
   "execution_count": 1,
   "metadata": {},
   "outputs": [
    {
     "ename": "SystemExit",
     "evalue": "0",
     "output_type": "error",
     "traceback": [
      "An exception has occurred, use %tb to see the full traceback.\n",
      "\u001b[1;31mSystemExit\u001b[0m\u001b[1;31m:\u001b[0m 0\n"
     ]
    },
    {
     "name": "stderr",
     "output_type": "stream",
     "text": [
      "c:\\python36\\lib\\site-packages\\IPython\\core\\interactiveshell.py:2969: UserWarning: To exit: use 'exit', 'quit', or Ctrl-D.\n",
      "  warn(\"To exit: use 'exit', 'quit', or Ctrl-D.\", stacklevel=1)\n"
     ]
    }
   ],
   "source": [
    "import sys\n",
    "from PySide2 import QtWidgets\n",
    "import numpy as np\n",
    "from matplotlib.figure import Figure\n",
    "from matplotlib.backends.backend_qt5agg import FigureCanvasQTAgg as FigureCanvas\n",
    "\n",
    "class Qt5MplCanvas(FigureCanvas):\n",
    "    def __init__(self):\n",
    "        # Standard Matplotlib code to generate the plot\n",
    "        self.fig = Figure()\n",
    "        self.axes = self.fig.add_subplot(111)\n",
    "        self.x = np.arange(0.0,3.0,0.01)\n",
    "        self.y = np.cos(2*np.pi*self.x)\n",
    "        self.axes.plot(self.x,self.y)\n",
    "        # Initialize the canvas where the Figure renders into\n",
    "        FigureCanvas.__init__(self,self.fig)\n",
    "\n",
    "# Create the GUI application\n",
    "qApp = QtWidgets.QApplication(sys.argv)\n",
    "# Create the Matplotlib widget\n",
    "mpl = Qt5MplCanvas()\n",
    "mpl.show()\n",
    "sys.exit(qApp.exec_())"
   ]
  },
  {
   "cell_type": "code",
   "execution_count": 1,
   "metadata": {},
   "outputs": [
    {
     "ename": "SystemExit",
     "evalue": "0",
     "output_type": "error",
     "traceback": [
      "An exception has occurred, use %tb to see the full traceback.\n",
      "\u001b[1;31mSystemExit\u001b[0m\u001b[1;31m:\u001b[0m 0\n"
     ]
    },
    {
     "name": "stderr",
     "output_type": "stream",
     "text": [
      "c:\\python36\\lib\\site-packages\\IPython\\core\\interactiveshell.py:2969: UserWarning: To exit: use 'exit', 'quit', or Ctrl-D.\n",
      "  warn(\"To exit: use 'exit', 'quit', or Ctrl-D.\", stacklevel=1)\n"
     ]
    }
   ],
   "source": [
    "import sys\n",
    "from PySide2 import QtWidgets\n",
    "import numpy as np\n",
    "from matplotlib.figure import Figure\n",
    "from matplotlib.backends.backend_qt5agg import FigureCanvasQTAgg as FigureCanvas\n",
    "from matplotlib.backends.backend_qt5agg import NavigationToolbar2QT as NavigationToolbar\n",
    "\n",
    "class Qt5MplCanvas(FigureCanvas):\n",
    "    def __init__(self,parent):\n",
    "        # Standard Matplotlib code to generate the plot\n",
    "        self.fig = Figure()\n",
    "        self.axes = self.fig.add_subplot(111)\n",
    "        t = np.arange(0.0,3.0,0.01)\n",
    "        s = np.cos(2*np.pi*t)\n",
    "        self.axes.plot(t,s)\n",
    "        # Initialize the canvas where the Figure renders into\n",
    "        FigureCanvas.__init__(self,self.fig)\n",
    "        self.setParent(parent)\n",
    "        FigureCanvas.setSizePolicy(self,QtWidgets.QSizePolicy.Expanding,QtWidgets.QSizePolicy.Expanding)\n",
    "        FigureCanvas.updateGeometry(self)\n",
    "\n",
    "class ApplicationWindow(QtWidgets.QMainWindow):\n",
    "    def __init__(self):\n",
    "        QtWidgets.QMainWindow.__init__(self)\n",
    "        self.setWindowTitle('Matplotlib Figure in a Qt5 Window With NavigationToolbar')\n",
    "        self.main_widget = QtWidgets.QWidget(self)\n",
    "        vbl = QtWidgets.QVBoxLayout(self.main_widget)\n",
    "        qmc = Qt5MplCanvas(self.main_widget)\n",
    "        ntb = NavigationToolbar(qmc,self.main_widget)\n",
    "        vbl.addWidget(qmc)\n",
    "        vbl.addWidget(ntb)\n",
    "        self.main_widget.setFocus()\n",
    "        self.setCentralWidget(self.main_widget)\n",
    "        \n",
    "# Create the GUI application\n",
    "qApp = QtWidgets.QApplication(sys.argv)\n",
    "aw = ApplicationWindow()\n",
    "aw.show()\n",
    "sys.exit(qApp.exec_())"
   ]
  },
  {
   "cell_type": "code",
   "execution_count": 1,
   "metadata": {},
   "outputs": [
    {
     "name": "stdout",
     "output_type": "stream",
     "text": [
      "[<matplotlib.lines.Line2D object at 0x00000179EEE1BEB8>]\n"
     ]
    },
    {
     "ename": "SystemExit",
     "evalue": "0",
     "output_type": "error",
     "traceback": [
      "An exception has occurred, use %tb to see the full traceback.\n",
      "\u001b[1;31mSystemExit\u001b[0m\u001b[1;31m:\u001b[0m 0\n"
     ]
    },
    {
     "name": "stderr",
     "output_type": "stream",
     "text": [
      "c:\\python36\\lib\\site-packages\\IPython\\core\\interactiveshell.py:2969: UserWarning: To exit: use 'exit', 'quit', or Ctrl-D.\n",
      "  warn(\"To exit: use 'exit', 'quit', or Ctrl-D.\", stacklevel=1)\n"
     ]
    }
   ],
   "source": [
    "import sys\n",
    "from PySide2 import QtWidgets\n",
    "import numpy as np\n",
    "from matplotlib.figure import Figure\n",
    "from matplotlib.backends.backend_qt5agg import FigureCanvasQTAgg as FigureCanvas\n",
    "import psutil as p\n",
    "\n",
    "MAXITERS = 30\n",
    "\n",
    "class CPUMonitor(FigureCanvas):\n",
    "    def __init__(self):\n",
    "        self.before = self.prepare_cpu_usage()\n",
    "        \n",
    "        self.fig = Figure()\n",
    "        self.ax = self.fig.add_subplot(111)\n",
    "        FigureCanvas.__init__(self,self.fig)\n",
    "        self.ax.set_xlim(0,30)\n",
    "        self.ax.set_ylim(0,100)\n",
    "        self.ax.set_autoscale_on(False)\n",
    "        \n",
    "        self.user,self.nice,self.sys,self.idle = [],[],[],[]\n",
    "        self.l_user = self.ax.plot([],self.user,label=\"User %\")\n",
    "        self.l_nice = self.ax.plot([],self.nice,label='Nice %')\n",
    "        self.l_sys = self.ax.plot([],self.sys,label='Sys %')\n",
    "        self.l_idle = self.ax.plot([],self.idle,label='Idle %')\n",
    "        \n",
    "        print(self.l_user)\n",
    "        \n",
    "        self.ax.legend()\n",
    "        self.fig.canvas.draw()\n",
    "        self.cnt = 0\n",
    "        self.timerEvent(None)\n",
    "        self.timer = self.startTimer(1000)\n",
    "        \n",
    "    def prepare_cpu_usage(self):\n",
    "        t = p.cpu_times()\n",
    "        if hasattr(t,'nice'):\n",
    "            return [t.user,t.nice,t.system,t.idle]\n",
    "        else:\n",
    "            return [t.user,0,t.system,t.idle]\n",
    "    \n",
    "    def get_cpu_usage(self):\n",
    "        now = self.prepare_cpu_usage()\n",
    "        delta = [now[i]-self.before[i] for i in range(len(now))]\n",
    "        total = sum(delta)\n",
    "        self.before = now\n",
    "        return [(100.0*dt)/total for dt in delta]\n",
    "    \n",
    "    def timerEvent(self,evt):\n",
    "        result = self.get_cpu_usage()\n",
    "        # Append new data to the datasets\n",
    "        self.user.append(result[0])\n",
    "        self.nice.append(result[1])\n",
    "        self.sys.append(result[2])\n",
    "        self.idle.append(result[3])\n",
    "        # Update lines data using the lists with new data\n",
    "        self.l_user[0].set_data(range(len(self.user)),self.user)\n",
    "        self.l_nice[0].set_data(range(len(self.nice)),self.nice)\n",
    "        self.l_sys[0].set_data(range(len(self.sys)),self.sys)\n",
    "        self.l_idle[0].set_data(range(len(self.idle)),self.idle)\n",
    "        \n",
    "        self.fig.canvas.draw()\n",
    "        if  self.cnt == MAXITERS:\n",
    "            self.killTimer(self.timer)\n",
    "        else:\n",
    "            self.cnt += 1\n",
    "\n",
    "# Create the GUI application\n",
    "qApp = QtWidgets.QApplication(sys.argv)\n",
    "widget = CPUMonitor()\n",
    "widget.setWindowTitle('30 Seconds of CPU Usage Updated in RealTime')\n",
    "widget.show()\n",
    "sys.exit(qApp.exec_())"
   ]
  },
  {
   "cell_type": "code",
   "execution_count": null,
   "metadata": {},
   "outputs": [],
   "source": []
  }
 ],
 "metadata": {
  "kernelspec": {
   "display_name": "Python 3",
   "language": "python",
   "name": "python3"
  },
  "language_info": {
   "codemirror_mode": {
    "name": "ipython",
    "version": 3
   },
   "file_extension": ".py",
   "mimetype": "text/x-python",
   "name": "python",
   "nbconvert_exporter": "python",
   "pygments_lexer": "ipython3",
   "version": "3.6.6"
  }
 },
 "nbformat": 4,
 "nbformat_minor": 2
}
