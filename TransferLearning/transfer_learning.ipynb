{
 "cells": [
  {
   "cell_type": "code",
   "execution_count": 4,
   "metadata": {},
   "outputs": [],
   "source": [
    "from urllib.request import urlretrieve\n",
    "import os\n",
    "import numpy as np\n",
    "import tensorflow as tf\n",
    "import skimage.io\n",
    "import skimage.transform\n",
    "import matplotlib.pyplot as plt"
   ]
  },
  {
   "cell_type": "code",
   "execution_count": 5,
   "metadata": {},
   "outputs": [],
   "source": [
    "def download():     # download tiger and kittycat image\n",
    "    categories = ['tiger', 'kittycat']\n",
    "    for category in categories:\n",
    "        os.makedirs('./for_transfer_learning/data/%s' % category, exist_ok=True)\n",
    "        with open('./for_transfer_learning/imagenet_%s.txt' % category, 'r') as file:\n",
    "            urls = file.readlines()\n",
    "            n_urls = len(urls)\n",
    "            for i, url in enumerate(urls):\n",
    "                try:\n",
    "                    urlretrieve(url.strip(), './for_transfer_learning/data/%s/%s' % (category, url.strip().split('/')[-1]))\n",
    "                    print('%s %i/%i' % (category, i, n_urls))\n",
    "                except:\n",
    "                    print('%s %i/%i' % (category, i, n_urls), 'no image')"
   ]
  },
  {
   "cell_type": "code",
   "execution_count": null,
   "metadata": {},
   "outputs": [
    {
     "name": "stdout",
     "output_type": "stream",
     "text": [
      "tiger 0/1444 no image\n",
      "tiger 1/1444 no image\n",
      "tiger 2/1444 no image\n",
      "tiger 3/1444\n",
      "tiger 4/1444 no image\n",
      "tiger 5/1444\n",
      "tiger 6/1444 no image\n",
      "tiger 7/1444\n",
      "tiger 8/1444\n",
      "tiger 9/1444\n",
      "tiger 10/1444\n",
      "tiger 11/1444\n",
      "tiger 12/1444\n",
      "tiger 13/1444\n",
      "tiger 14/1444 no image\n",
      "tiger 15/1444 no image\n",
      "tiger 16/1444\n",
      "tiger 17/1444 no image\n",
      "tiger 18/1444 no image\n",
      "tiger 19/1444\n",
      "tiger 20/1444\n",
      "tiger 21/1444 no image\n",
      "tiger 22/1444 no image\n",
      "tiger 23/1444 no image\n",
      "tiger 24/1444\n",
      "tiger 25/1444 no image\n",
      "tiger 26/1444 no image\n",
      "tiger 27/1444 no image\n",
      "tiger 28/1444\n",
      "tiger 29/1444 no image\n",
      "tiger 30/1444\n",
      "tiger 31/1444 no image\n",
      "tiger 32/1444\n",
      "tiger 33/1444 no image\n",
      "tiger 34/1444\n"
     ]
    }
   ],
   "source": [
    "download()"
   ]
  },
  {
   "cell_type": "code",
   "execution_count": null,
   "metadata": {},
   "outputs": [],
   "source": []
  }
 ],
 "metadata": {
  "kernelspec": {
   "display_name": "Python 3",
   "language": "python",
   "name": "python3"
  },
  "language_info": {
   "codemirror_mode": {
    "name": "ipython",
    "version": 3
   },
   "file_extension": ".py",
   "mimetype": "text/x-python",
   "name": "python",
   "nbconvert_exporter": "python",
   "pygments_lexer": "ipython3",
   "version": "3.6.8"
  }
 },
 "nbformat": 4,
 "nbformat_minor": 2
}
