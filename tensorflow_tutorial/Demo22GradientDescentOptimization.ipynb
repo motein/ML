{
 "cells": [
  {
   "cell_type": "code",
   "execution_count": 1,
   "metadata": {},
   "outputs": [
    {
     "name": "stdout",
     "output_type": "stream",
     "text": [
      "WARNING:tensorflow:From c:\\python36\\lib\\site-packages\\tensorflow\\python\\framework\\op_def_library.py:263: colocate_with (from tensorflow.python.framework.ops) is deprecated and will be removed in a future version.\n",
      "Instructions for updating:\n",
      "Colocations handled automatically by placer.\n"
     ]
    }
   ],
   "source": [
    "import tensorflow as tf\n",
    "\n",
    "x = tf.Variable(2, name='x', dtype=tf.float32)\n",
    "log_x = tf.log(x)\n",
    "log_x_squared = tf.square(log_x)\n",
    "\n",
    "optimizer = tf.train.GradientDescentOptimizer(0.5)\n",
    "train = optimizer.minimize(log_x_squared)"
   ]
  },
  {
   "cell_type": "code",
   "execution_count": 2,
   "metadata": {},
   "outputs": [
    {
     "name": "stdout",
     "output_type": "stream",
     "text": [
      "WARNING:tensorflow:From c:\\python36\\lib\\site-packages\\tensorflow\\python\\util\\tf_should_use.py:193: initialize_all_variables (from tensorflow.python.ops.variables) is deprecated and will be removed after 2017-03-02.\n",
      "Instructions for updating:\n",
      "Use `tf.global_variables_initializer` instead.\n",
      "starting at x: 2.0 log(x)^2: 0.480453\n",
      "step 0 x: 1.6534264 log(x)^2: 0.25285786\n",
      "step 1 x: 1.3493005 log(x)^2: 0.08975197\n",
      "step 2 x: 1.1272696 log(x)^2: 0.014351669\n",
      "step 3 x: 1.0209966 log(x)^2: 0.0004317743\n",
      "step 4 x: 1.0006447 log(x)^2: 4.1534943e-07\n",
      "step 5 x: 1.0000006 log(x)^2: 3.5527118e-13\n",
      "step 6 x: 1.0 log(x)^2: 0.0\n",
      "step 7 x: 1.0 log(x)^2: 0.0\n",
      "step 8 x: 1.0 log(x)^2: 0.0\n",
      "step 9 x: 1.0 log(x)^2: 0.0\n"
     ]
    }
   ],
   "source": [
    "init = tf.initialize_all_variables()\n",
    "\n",
    "def optimize():\n",
    "    with tf.Session() as session:\n",
    "        session.run(init)\n",
    "        print(\"starting at\", \"x:\", session.run(x), \"log(x)^2:\", session.run(log_x_squared))\n",
    "        for step in range(10):\n",
    "            session.run(train)\n",
    "            print(\"step\", step, \"x:\", session.run(x), \"log(x)^2:\", session.run(log_x_squared))\n",
    "        \n",
    "optimize()"
   ]
  },
  {
   "cell_type": "code",
   "execution_count": null,
   "metadata": {},
   "outputs": [],
   "source": []
  }
 ],
 "metadata": {
  "kernelspec": {
   "display_name": "Python 3",
   "language": "python",
   "name": "python3"
  },
  "language_info": {
   "codemirror_mode": {
    "name": "ipython",
    "version": 3
   },
   "file_extension": ".py",
   "mimetype": "text/x-python",
   "name": "python",
   "nbconvert_exporter": "python",
   "pygments_lexer": "ipython3",
   "version": "3.6.8"
  }
 },
 "nbformat": 4,
 "nbformat_minor": 2
}
