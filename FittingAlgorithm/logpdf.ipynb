{
 "cells": [
  {
   "cell_type": "code",
   "execution_count": 2,
   "metadata": {},
   "outputs": [
    {
     "data": {
      "text/plain": [
       "array([1. , 1.5, 2.5, 3.5, 4.5, 5. ])"
      ]
     },
     "execution_count": 2,
     "metadata": {},
     "output_type": "execute_result"
    }
   ],
   "source": [
    "import numpy as np\n",
    "\n",
    "f = np.array([1, 2, 4, 7, 11, 16], dtype=float)\n",
    "np.gradient(f)"
   ]
  },
  {
   "cell_type": "code",
   "execution_count": 3,
   "metadata": {},
   "outputs": [
    {
     "data": {
      "text/plain": [
       "array([0.5 , 0.75, 1.25, 1.75, 2.25, 2.5 ])"
      ]
     },
     "execution_count": 3,
     "metadata": {},
     "output_type": "execute_result"
    }
   ],
   "source": [
    "np.gradient(f, 2)"
   ]
  },
  {
   "cell_type": "code",
   "execution_count": 4,
   "metadata": {},
   "outputs": [
    {
     "data": {
      "text/plain": [
       "array([1. , 1.5, 2.5, 3.5, 4.5, 5. ])"
      ]
     },
     "execution_count": 4,
     "metadata": {},
     "output_type": "execute_result"
    }
   ],
   "source": [
    "x = np.arange(f.size)\n",
    "np.gradient(f, x)"
   ]
  },
  {
   "cell_type": "code",
   "execution_count": 5,
   "metadata": {},
   "outputs": [],
   "source": [
    "import numpy as np\n",
    "import matplotlib.pyplot as plt\n",
    "import scipy.stats as st"
   ]
  },
  {
   "cell_type": "code",
   "execution_count": 7,
   "metadata": {},
   "outputs": [
    {
     "name": "stdout",
     "output_type": "stream",
     "text": [
      "data: (100, 2)\n",
      "x: (100,)\n",
      "xx: (100, 100) (100, 100)\n",
      "positions: (2, 10000)\n",
      "-3.0\n",
      "-3.0\n",
      "values: (2, 100)\n"
     ]
    }
   ],
   "source": [
    "data = np.random.multivariate_normal((0, 0), [[0.8, 0.05], [0.05, 0.7]], 100)\n",
    "print(\"data:\", np.shape(data))\n",
    "x = data[:, 0]\n",
    "y = data[:, 1]\n",
    "print(\"x:\", np.shape(x))\n",
    "\n",
    "xmin, xmax = -3, 3\n",
    "ymin, ymax = -3, 3\n",
    "\n",
    "xx, yy = np.mgrid[xmin:xmax:100j, ymin:ymax:100j]\n",
    "print(\"xx:\", np.shape(xx), np.shape(yy))\n",
    "# print(xx)\n",
    "\n",
    "positions = np.vstack([xx.ravel(), yy.ravel()])\n",
    "print(\"positions:\", np.shape(positions))\n",
    "print(positions[0][0])\n",
    "print(positions[1][0])\n",
    "\n",
    "values = np.vstack([x, y])\n",
    "print(\"values:\", np.shape(values))\n",
    "\n",
    "kernel = st.gaussian_kde(values)\n",
    "f = np.reshape(kernel(positions).T, xx.shape)"
   ]
  },
  {
   "cell_type": "code",
   "execution_count": 14,
   "metadata": {},
   "outputs": [
    {
     "name": "stdout",
     "output_type": "stream",
     "text": [
      "(2, 100, 100)\n"
     ]
    }
   ],
   "source": [
    "logpdf = np.reshape(kernel.logpdf(positions),xx.shape)\n",
    "gradient = np.gradient(logpdf)\n",
    "print(np.shape(gradient))"
   ]
  },
  {
   "cell_type": "code",
   "execution_count": 18,
   "metadata": {},
   "outputs": [
    {
     "name": "stdout",
     "output_type": "stream",
     "text": [
      "1.1874913794004769\n",
      "-1.0082838387238624\n"
     ]
    }
   ],
   "source": [
    "print(np.max(gradient))\n",
    "print(np.min(gradient))"
   ]
  },
  {
   "cell_type": "code",
   "execution_count": null,
   "metadata": {},
   "outputs": [],
   "source": []
  }
 ],
 "metadata": {
  "kernelspec": {
   "display_name": "Python 3",
   "language": "python",
   "name": "python3"
  },
  "language_info": {
   "codemirror_mode": {
    "name": "ipython",
    "version": 3
   },
   "file_extension": ".py",
   "mimetype": "text/x-python",
   "name": "python",
   "nbconvert_exporter": "python",
   "pygments_lexer": "ipython3",
   "version": "3.6.6"
  }
 },
 "nbformat": 4,
 "nbformat_minor": 2
}
