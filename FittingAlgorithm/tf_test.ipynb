{
 "cells": [
  {
   "cell_type": "code",
   "execution_count": 1,
   "metadata": {},
   "outputs": [
    {
     "name": "stdout",
     "output_type": "stream",
     "text": [
      "WARNING:tensorflow:From c:\\python36\\lib\\site-packages\\tensorflow\\python\\framework\\op_def_library.py:263: colocate_with (from tensorflow.python.framework.ops) is deprecated and will be removed in a future version.\n",
      "Instructions for updating:\n",
      "Colocations handled automatically by placer.\n",
      "(101,) (101,)\n",
      "    0:(sigma,mu)=(    0.9873,     0.0041)\n",
      "  100:(sigma,mu)=(    0.2102,     0.6265)\n",
      "  200:(sigma,mu)=(    0.2049,     0.6397)\n",
      "  300:(sigma,mu)=(    0.2049,     0.6397)\n",
      "  400:(sigma,mu)=(    0.2049,     0.6397)\n",
      "  500:(sigma,mu)=(    0.2049,     0.6397)\n",
      "  600:(sigma,mu)=(    0.2049,     0.6397)\n",
      "  700:(sigma,mu)=(    0.2049,     0.6397)\n",
      "  800:(sigma,mu)=(    0.2049,     0.6397)\n",
      "  900:(sigma,mu)=(    0.2049,     0.6397)\n",
      " 1000:(sigma,mu)=(    0.2049,     0.6397)\n"
     ]
    }
   ],
   "source": [
    "import tensorflow as tf\n",
    "import numpy as np\n",
    "\n",
    "def normal_model(x, sigma, mu):\n",
    "    return 1/(sigma* tf.sqrt(2 * np.pi)) * tf.exp(-(x-mu)**2 / (2*sigma**2))\n",
    "\n",
    "def error_function(prediction, teacher):\n",
    "    print(np.shape(prediction), np.shape(teacher))\n",
    "    return tf.reduce_mean(tf.square(prediction-teacher))\n",
    "\n",
    "sigma = tf.Variable(1.0)\n",
    "mu = tf.Variable(0.)\n",
    "\n",
    "x = tf.placeholder(tf.float32, shape=101)\n",
    "y = tf.placeholder(tf.float32, shape=101)\n",
    "y_hypo = normal_model(x,sigma,mu)\n",
    "\n",
    "# normal_model_wrapper = tf.contrib.eager.py_func(func=normal_model, inp=[x, sigma, mu], Tout=tf.float32)\n",
    "\n",
    "cost = error_function(y_hypo, y)\n",
    "train_step = tf.train.GradientDescentOptimizer(0.01).minimize(cost)\n",
    "\n",
    "# Initializing\n",
    "init = tf.global_variables_initializer()\n",
    "\n",
    "with tf.Session() as sess:\n",
    "    trX = np.linspace(-1, 1, 101)\n",
    "    trY = 2 * trX + 3 + np.random.randn(*trX.shape) * 0.33\n",
    "    \n",
    "    sess.run(init)\n",
    "  # The session executes `log_huber` eagerly. Given the feed values below,\n",
    "  # it will take the first branch, so `y` evaluates to 1.0 and\n",
    "  # `dy_dx` evaluates to 2.0.\n",
    "    for i in range(1001):\n",
    "        sess.run(train_step, feed_dict={x:trX,y:trY})\n",
    "        if i % 100 == 0:\n",
    "            print(\"%5d:(sigma,mu)=(%10.4f, %10.4f)\" % (i, sess.run(sigma), sess.run(mu)))\n",
    "#     print(\"(sigma, mu)=(%10.4f, %10.4f)\" % (sess.run(sigma), sess.run(mu)))\n",
    "#     print(y,dy_dx)"
   ]
  },
  {
   "cell_type": "code",
   "execution_count": 4,
   "metadata": {},
   "outputs": [
    {
     "name": "stdout",
     "output_type": "stream",
     "text": [
      "Result:  Tensor(\"AddN_1:0\", shape=(), dtype=float32)\n"
     ]
    }
   ],
   "source": [
    "\n"
   ]
  },
  {
   "cell_type": "code",
   "execution_count": null,
   "metadata": {},
   "outputs": [],
   "source": []
  }
 ],
 "metadata": {
  "kernelspec": {
   "display_name": "Python 3",
   "language": "python",
   "name": "python3"
  },
  "language_info": {
   "codemirror_mode": {
    "name": "ipython",
    "version": 3
   },
   "file_extension": ".py",
   "mimetype": "text/x-python",
   "name": "python",
   "nbconvert_exporter": "python",
   "pygments_lexer": "ipython3",
   "version": "3.6.6"
  }
 },
 "nbformat": 4,
 "nbformat_minor": 2
}
