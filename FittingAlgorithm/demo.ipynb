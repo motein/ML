{
 "cells": [
  {
   "cell_type": "code",
   "execution_count": 23,
   "metadata": {},
   "outputs": [],
   "source": [
    "import numpy as np\n",
    "N=10000\n",
    "Wafer1 = np.random.normal(loc = 0.0, scale = 1.0, size = N)\n",
    "Wafer2 = np.random.normal(loc = 2.0, scale = 1.0, size = N)"
   ]
  },
  {
   "cell_type": "code",
   "execution_count": 24,
   "metadata": {},
   "outputs": [
    {
     "data": {
      "image/png": "[encoded data removed]",
      "text/plain": [
       "<Figure size 432x288 with 1 Axes>"
      ]
     },
     "metadata": {
      "needs_background": "light"
     },
     "output_type": "display_data"
    }
   ],
   "source": [
    "import matplotlib.pyplot as plt\n",
    "plt.hist(Wafer1,bins=30)\n",
    "plt.hist(Wafer2, bins=30)\n",
    "plt.show()"
   ]
  },
  {
   "cell_type": "code",
   "execution_count": 25,
   "metadata": {},
   "outputs": [
    {
     "data": {
      "image/png": "[encoded data removed]",
      "text/plain": [
       "<Figure size 432x288 with 1 Axes>"
      ]
     },
     "metadata": {
      "needs_background": "light"
     },
     "output_type": "display_data"
    }
   ],
   "source": [
    "from scipy.stats import gaussian_kde\n",
    "pdf1 = gaussian_kde(Wafer1)\n",
    "pdf2 = gaussian_kde(Wafer2)\n",
    "grid1 = np.linspace(min(Wafer1), max(Wafer1), num=1000)\n",
    "grid2 = np.linspace(min(Wafer2), max(Wafer2), num=1000)\n",
    "y1 = pdf1(grid1)\n",
    "y2 = pdf2(grid2)\n",
    "plt.plot(grid1, y1)\n",
    "plt.plot(grid2, y2)\n",
    "plt.show()"
   ]
  },
  {
   "cell_type": "code",
   "execution_count": 29,
   "metadata": {},
   "outputs": [
    {
     "ename": "SystemError",
     "evalue": "<built-in function TFE_Py_TapeWatch> returned a result with an error set",
     "output_type": "error",
     "traceback": [
      "\u001b[1;31m---------------------------------------------------------------------------\u001b[0m",
      "\u001b[1;31mAttributeError\u001b[0m                            Traceback (most recent call last)",
      "\u001b[1;31mAttributeError\u001b[0m: 'RefVariable' object has no attribute '_id'",
      "\nThe above exception was the direct cause of the following exception:\n",
      "\u001b[1;31mSystemError\u001b[0m                               Traceback (most recent call last)",
      "\u001b[1;32m<ipython-input-29-3fcd88cbc53f>\u001b[0m in \u001b[0;36m<module>\u001b[1;34m\u001b[0m\n\u001b[0;32m     29\u001b[0m \u001b[0my_hypo\u001b[0m \u001b[1;33m=\u001b[0m \u001b[0mlin_model\u001b[0m\u001b[1;33m(\u001b[0m\u001b[0mx\u001b[0m\u001b[1;33m,\u001b[0m \u001b[0mw\u001b[0m\u001b[1;33m,\u001b[0m \u001b[0mb\u001b[0m\u001b[1;33m)\u001b[0m\u001b[1;33m\u001b[0m\u001b[1;33m\u001b[0m\u001b[0m\n\u001b[0;32m     30\u001b[0m \u001b[1;32mwith\u001b[0m \u001b[0mtf\u001b[0m\u001b[1;33m.\u001b[0m\u001b[0mGradientTape\u001b[0m\u001b[1;33m(\u001b[0m\u001b[1;33m)\u001b[0m \u001b[1;32mas\u001b[0m \u001b[0mg\u001b[0m\u001b[1;33m:\u001b[0m\u001b[1;33m\u001b[0m\u001b[1;33m\u001b[0m\u001b[0m\n\u001b[1;32m---> 31\u001b[1;33m     \u001b[0mg\u001b[0m\u001b[1;33m.\u001b[0m\u001b[0mwatch\u001b[0m\u001b[1;33m(\u001b[0m\u001b[1;33m[\u001b[0m\u001b[0mw\u001b[0m\u001b[1;33m,\u001b[0m\u001b[0mb\u001b[0m\u001b[1;33m]\u001b[0m\u001b[1;33m)\u001b[0m\u001b[1;33m\u001b[0m\u001b[1;33m\u001b[0m\u001b[0m\n\u001b[0m\u001b[0;32m     32\u001b[0m     \u001b[0mypd_hypo\u001b[0m \u001b[1;33m=\u001b[0m \u001b[0mtf\u001b[0m\u001b[1;33m.\u001b[0m\u001b[0mpy_function\u001b[0m\u001b[1;33m(\u001b[0m\u001b[0mwrap_pdf2\u001b[0m\u001b[1;33m,\u001b[0m \u001b[1;33m[\u001b[0m\u001b[0my_hypo\u001b[0m\u001b[1;33m]\u001b[0m\u001b[1;33m,\u001b[0m \u001b[0mtf\u001b[0m\u001b[1;33m.\u001b[0m\u001b[0mfloat32\u001b[0m\u001b[1;33m)\u001b[0m\u001b[1;33m\u001b[0m\u001b[1;33m\u001b[0m\u001b[0m\n\u001b[0;32m     33\u001b[0m \u001b[0mprint\u001b[0m\u001b[1;33m(\u001b[0m\u001b[0mg\u001b[0m\u001b[1;33m.\u001b[0m\u001b[0mgradient\u001b[0m\u001b[1;33m(\u001b[0m\u001b[0mypd_hypo\u001b[0m\u001b[1;33m,\u001b[0m \u001b[0mb\u001b[0m\u001b[1;33m)\u001b[0m\u001b[1;33m)\u001b[0m\u001b[1;33m\u001b[0m\u001b[1;33m\u001b[0m\u001b[0m\n",
      "\u001b[1;32mc:\\python36\\lib\\site-packages\\tensorflow\\python\\eager\\backprop.py\u001b[0m in \u001b[0;36mwatch\u001b[1;34m(self, tensor)\u001b[0m\n\u001b[0;32m    806\u001b[0m         \u001b[0mtape\u001b[0m\u001b[1;33m.\u001b[0m\u001b[0mwatch_variable\u001b[0m\u001b[1;33m(\u001b[0m\u001b[0mself\u001b[0m\u001b[1;33m.\u001b[0m\u001b[0m_tape\u001b[0m\u001b[1;33m,\u001b[0m \u001b[0mt\u001b[0m\u001b[1;33m)\u001b[0m\u001b[1;33m\u001b[0m\u001b[1;33m\u001b[0m\u001b[0m\n\u001b[0;32m    807\u001b[0m       \u001b[1;32melse\u001b[0m\u001b[1;33m:\u001b[0m\u001b[1;33m\u001b[0m\u001b[1;33m\u001b[0m\u001b[0m\n\u001b[1;32m--> 808\u001b[1;33m         \u001b[0mtape\u001b[0m\u001b[1;33m.\u001b[0m\u001b[0mwatch\u001b[0m\u001b[1;33m(\u001b[0m\u001b[0mself\u001b[0m\u001b[1;33m.\u001b[0m\u001b[0m_tape\u001b[0m\u001b[1;33m,\u001b[0m \u001b[0mt\u001b[0m\u001b[1;33m)\u001b[0m\u001b[1;33m\u001b[0m\u001b[1;33m\u001b[0m\u001b[0m\n\u001b[0m\u001b[0;32m    809\u001b[0m \u001b[1;33m\u001b[0m\u001b[0m\n\u001b[0;32m    810\u001b[0m   \u001b[1;33m@\u001b[0m\u001b[0mtf_contextlib\u001b[0m\u001b[1;33m.\u001b[0m\u001b[0mcontextmanager\u001b[0m\u001b[1;33m\u001b[0m\u001b[1;33m\u001b[0m\u001b[0m\n",
      "\u001b[1;32mc:\\python36\\lib\\site-packages\\tensorflow\\python\\eager\\tape.py\u001b[0m in \u001b[0;36mwatch\u001b[1;34m(tape, tensor)\u001b[0m\n\u001b[0;32m     57\u001b[0m \u001b[1;32mdef\u001b[0m \u001b[0mwatch\u001b[0m\u001b[1;33m(\u001b[0m\u001b[0mtape\u001b[0m\u001b[1;33m,\u001b[0m \u001b[0mtensor\u001b[0m\u001b[1;33m)\u001b[0m\u001b[1;33m:\u001b[0m\u001b[1;33m\u001b[0m\u001b[1;33m\u001b[0m\u001b[0m\n\u001b[0;32m     58\u001b[0m   \u001b[1;34m\"\"\"Marks this tensor to be watched by the given tape.\"\"\"\u001b[0m\u001b[1;33m\u001b[0m\u001b[1;33m\u001b[0m\u001b[0m\n\u001b[1;32m---> 59\u001b[1;33m   \u001b[0mpywrap_tensorflow\u001b[0m\u001b[1;33m.\u001b[0m\u001b[0mTFE_Py_TapeWatch\u001b[0m\u001b[1;33m(\u001b[0m\u001b[0mtape\u001b[0m\u001b[1;33m.\u001b[0m\u001b[0m_tape\u001b[0m\u001b[1;33m,\u001b[0m \u001b[0mtensor\u001b[0m\u001b[1;33m)\u001b[0m  \u001b[1;31m# pylint: disable=protected-access\u001b[0m\u001b[1;33m\u001b[0m\u001b[1;33m\u001b[0m\u001b[0m\n\u001b[0m\u001b[0;32m     60\u001b[0m \u001b[1;33m\u001b[0m\u001b[0m\n\u001b[0;32m     61\u001b[0m \u001b[1;33m\u001b[0m\u001b[0m\n",
      "\u001b[1;31mSystemError\u001b[0m: <built-in function TFE_Py_TapeWatch> returned a result with an error set"
     ]
    }
   ],
   "source": [
    "learning_rate = 0.01\n",
    "\n",
    "import tensorflow as tf\n",
    "from scipy.stats import gaussian_kde\n",
    "\n",
    "def lin_model(X, w, b):\n",
    "    return tf.add(tf.scalar_mul(w, X), b)\n",
    "\n",
    "def error_function(prediction, teacher):\n",
    "    return tf.reduce_mean(tf.square(prediction - teacher))\n",
    "\n",
    "def f(y):\n",
    "    return 2*y+1\n",
    "\n",
    "def wrap_pdf2(y):\n",
    "    yy = 2*(y.numpy())+1.0\n",
    "    t =  tf.convert_to_tensor(yy, dtype=tf.float32)\n",
    "    print(y)\n",
    "    print(t)\n",
    "    return t\n",
    "\n",
    "w = tf.Variable(1.0, name='slope')\n",
    "b = tf.Variable(1.9, name='offset')\n",
    "\n",
    "x = tf.constant(Wafer1, dtype=tf.float32)\n",
    "xpd = tf.constant(pdf1(Wafer1), dtype=tf.float32)\n",
    "#x = tf.placeholder(tf.float32, shape=(N))\n",
    "#xpd = tf.placeholder(tf.float32, shape=(N))\n",
    "y_hypo = lin_model(x, w, b)\n",
    "with tf.GradientTape() as g:\n",
    "    g.watch([w,b])\n",
    "    ypd_hypo = tf.py_function(wrap_pdf2, [y_hypo], tf.float32)\n",
    "print(g.gradient(ypd_hypo, b))"
   ]
  },
  {
   "cell_type": "code",
   "execution_count": 22,
   "metadata": {},
   "outputs": [
    {
     "name": "stdout",
     "output_type": "stream",
     "text": [
      "(10000,) (10000,)\n",
      "(10000,) (10000,)\n",
      "    0:(a,b)=(    0.9803,     0.0397)\n",
      "  100:(a,b)=(    0.1370,     1.7255)\n",
      "  200:(a,b)=(    0.0227,     1.9490)\n",
      "  300:(a,b)=(    0.0072,     1.9787)\n",
      "  400:(a,b)=(    0.0051,     1.9826)\n",
      "  500:(a,b)=(    0.0048,     1.9831)\n",
      "  600:(a,b)=(    0.0047,     1.9832)\n",
      "  700:(a,b)=(    0.0047,     1.9832)\n",
      "  800:(a,b)=(    0.0047,     1.9832)\n",
      "  900:(a,b)=(    0.0047,     1.9832)\n"
     ]
    }
   ],
   "source": [
    "def normal_model(x, sigma, mu):\n",
    "    return 1/(sigma* tf.sqrt(2 * np.pi)) * tf.exp(-(x-mu)**2 / (2*sigma**2))\n",
    "\n",
    "def lin_model(x, a, b):\n",
    "    return tf.add(tf.scalar_mul(a,x),b)\n",
    "#     return pdf2(tf.add(tf.scalar_mul(a,x),b))\n",
    "\n",
    "def error_function(prediction, teacher):\n",
    "    print(np.shape(prediction), np.shape(teacher))\n",
    "    return tf.reduce_mean(tf.square(prediction-teacher))\n",
    "\n",
    "sigma = tf.Variable(1.0)\n",
    "mu = tf.Variable(0.)\n",
    "\n",
    "a = tf.Variable(1.0)\n",
    "b = tf.Variable(0.)\n",
    "\n",
    "x = tf.placeholder(tf.float32, shape=len(Wafer1))\n",
    "y = tf.placeholder(tf.float32, shape=len(Wafer2))\n",
    "# y_hypo = normal_model(x,sigma,mu)\n",
    "y_hypo = lin_model(x,a,b)\n",
    "\n",
    "# normal_model_wrapper = tf.contrib.eager.py_func(func=normal_model, inp=[x, sigma, mu], Tout=tf.float32)\n",
    "\n",
    "cost = error_function(y_hypo, y)\n",
    "train_step = tf.train.GradientDescentOptimizer(0.01).minimize(cost)\n",
    "\n",
    "# Initializing\n",
    "init = tf.global_variables_initializer()\n",
    "trX = Wafer1\n",
    "trY = Wafer2\n",
    "# trY = pdf2(Wafer2)\n",
    "\n",
    "with tf.Session() as sess:\n",
    "    print(np.shape(trX), np.shape(trY))\n",
    "    \n",
    "    sess.run(init)\n",
    "  # The session executes `log_huber` eagerly. Given the feed values below,\n",
    "  # it will take the first branch, so `y` evaluates to 1.0 and\n",
    "  # `dy_dx` evaluates to 2.0.\n",
    "    for i in range(1000):\n",
    "        sess.run(train_step, feed_dict={x:trX,y:trY})\n",
    "        if i % 100 == 0:\n",
    "#             print(\"%5d:(sigma,mu)=(%10.4f, %10.4f)\" % (i, sess.run(sigma), sess.run(mu)))\n",
    "            print(\"%5d:(a,b)=(%10.4f, %10.4f)\" % (i, sess.run(a), sess.run(b)))"
   ]
  },
  {
   "cell_type": "code",
   "execution_count": null,
   "metadata": {},
   "outputs": [],
   "source": []
  },
  {
   "cell_type": "code",
   "execution_count": null,
   "metadata": {},
   "outputs": [],
   "source": []
  }
 ],
 "metadata": {
  "kernelspec": {
   "display_name": "Python 3",
   "language": "python",
   "name": "python3"
  },
  "language_info": {
   "codemirror_mode": {
    "name": "ipython",
    "version": 3
   },
   "file_extension": ".py",
   "mimetype": "text/x-python",
   "name": "python",
   "nbconvert_exporter": "python",
   "pygments_lexer": "ipython3",
   "version": "3.6.8"
  }
 },
 "nbformat": 4,
 "nbformat_minor": 2
}
