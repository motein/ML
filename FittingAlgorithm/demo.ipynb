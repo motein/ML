{
 "cells": [
  {
   "cell_type": "code",
   "execution_count": 1,
   "metadata": {},
   "outputs": [],
   "source": [
    "import tensorflow as tf\n",
    "tf.enable_eager_execution()\n",
    "import numpy as np\n",
    "N=10000\n",
    "Wafer1 = np.random.normal(loc = 0.0, scale = 1.0, size = N)\n",
    "Wafer2 = np.random.normal(loc = 2.0, scale = 1, size = N)"
   ]
  },
  {
   "cell_type": "code",
   "execution_count": 2,
   "metadata": {},
   "outputs": [
    {
     "data": {
      "text/plain": [
       "<Figure size 640x480 with 1 Axes>"
      ]
     },
     "metadata": {},
     "output_type": "display_data"
    }
   ],
   "source": [
    "import matplotlib.pyplot as plt\n",
    "# plt.hist(Wafer1,bins=30)\n",
    "plt.hist(Wafer2, bins=10)\n",
    "plt.show()"
   ]
  },
  {
   "cell_type": "code",
   "execution_count": 3,
   "metadata": {},
   "outputs": [
    {
     "data": {
      "image/png": "[encoded data removed]",
      "text/plain": [
       "<Figure size 432x288 with 1 Axes>"
      ]
     },
     "metadata": {
      "needs_background": "light"
     },
     "output_type": "display_data"
    }
   ],
   "source": [
    "from scipy.stats import gaussian_kde\n",
    "pdf1 = gaussian_kde(Wafer1)\n",
    "pdf2 = gaussian_kde(Wafer2)\n",
    "grid1 = np.linspace(min(Wafer1), max(Wafer1), num=1000)\n",
    "grid2 = np.linspace(min(Wafer2), max(Wafer2), num=1000)\n",
    "y1 = pdf1(grid1)\n",
    "y2 = pdf2(grid2)\n",
    "plt.plot(grid1, y1)\n",
    "plt.plot(grid2, y2)\n",
    "plt.show()"
   ]
  },
  {
   "cell_type": "code",
   "execution_count": 16,
   "metadata": {},
   "outputs": [
    {
     "name": "stdout",
     "output_type": "stream",
     "text": [
      "(10000,)\n",
      "test\n",
      "tf.Tensor([1.703329   1.2633634  1.208173   ... 0.29136133 1.7173179  1.7151895 ], shape=(10000,), dtype=float32)\n",
      "tf.Tensor([4.406658  3.5267267 3.416346  ... 1.5827227 4.434636  4.430379 ], shape=(10000,), dtype=float32)\n",
      "None\n"
     ]
    }
   ],
   "source": [
    "learning_rate = 0.01\n",
    "\n",
    "import tensorflow as tf\n",
    "from scipy.stats import gaussian_kde\n",
    "\n",
    "def lin_model(X, w, b):\n",
    "    print(np.shape(X))\n",
    "    return tf.add(tf.scalar_mul(w, X), b)\n",
    "\n",
    "def error_function(prediction, teacher):\n",
    "    return tf.reduce_mean(tf.square(prediction - teacher))\n",
    "\n",
    "def f(y):\n",
    "    return 2*y+1\n",
    "\n",
    "def wrap_pdf2(y):\n",
    "    print(\"test\")\n",
    "    yy = 2*(y.numpy())+1.0\n",
    "    t =  tf.convert_to_tensor(yy, dtype=tf.float32)\n",
    "    print(y)\n",
    "    print(t)\n",
    "    return t\n",
    "\n",
    "w = tf.Variable(1.0, name='slope')\n",
    "b = tf.Variable(1.9, name='offset')\n",
    "\n",
    "x = tf.constant(Wafer1, dtype=tf.float32)\n",
    "xpd = tf.constant(pdf1(Wafer1), dtype=tf.float32)\n",
    "#x = tf.placeholder(tf.float32, shape=(N))\n",
    "#xpd = tf.placeholder(tf.float32, shape=(N))\n",
    "y_hypo = lin_model(x, w, b)\n",
    "\n",
    "with tf.GradientTape() as g:\n",
    "    g.watch([w,b])\n",
    "    ypd_hypo = tf.py_function(wrap_pdf2, [y_hypo], tf.float32)\n",
    "    print(g.gradient(ypd_hypo, b))"
   ]
  },
  {
   "cell_type": "code",
   "execution_count": 22,
   "metadata": {},
   "outputs": [
    {
     "name": "stdout",
     "output_type": "stream",
     "text": [
      "(10000,) (10000,)\n",
      "(10000,) (10000,)\n",
      "    0:(a,b)=(    0.9803,     0.0397)\n",
      "  100:(a,b)=(    0.1370,     1.7255)\n",
      "  200:(a,b)=(    0.0227,     1.9490)\n",
      "  300:(a,b)=(    0.0072,     1.9787)\n",
      "  400:(a,b)=(    0.0051,     1.9826)\n",
      "  500:(a,b)=(    0.0048,     1.9831)\n",
      "  600:(a,b)=(    0.0047,     1.9832)\n",
      "  700:(a,b)=(    0.0047,     1.9832)\n",
      "  800:(a,b)=(    0.0047,     1.9832)\n",
      "  900:(a,b)=(    0.0047,     1.9832)\n"
     ]
    }
   ],
   "source": [
    "def normal_model(x, sigma, mu):\n",
    "    return 1/(sigma* tf.sqrt(2 * np.pi)) * tf.exp(-(x-mu)**2 / (2*sigma**2))\n",
    "\n",
    "def lin_model(x, a, b):\n",
    "    return tf.add(tf.scalar_mul(a,x),b)\n",
    "#     return pdf2(tf.add(tf.scalar_mul(a,x),b))\n",
    "\n",
    "def error_function(prediction, teacher):\n",
    "    print(np.shape(prediction), np.shape(teacher))\n",
    "    return tf.reduce_mean(tf.square(prediction-teacher))\n",
    "\n",
    "sigma = tf.Variable(1.0)\n",
    "mu = tf.Variable(0.)\n",
    "\n",
    "a = tf.Variable(1.0)\n",
    "b = tf.Variable(0.)\n",
    "\n",
    "x = tf.placeholder(tf.float32, shape=len(Wafer1))\n",
    "y = tf.placeholder(tf.float32, shape=len(Wafer2))\n",
    "# y_hypo = normal_model(x,sigma,mu)\n",
    "y_hypo = lin_model(x,a,b)\n",
    "\n",
    "# normal_model_wrapper = tf.contrib.eager.py_func(func=normal_model, inp=[x, sigma, mu], Tout=tf.float32)\n",
    "\n",
    "cost = error_function(y_hypo, y)\n",
    "train_step = tf.train.GradientDescentOptimizer(0.01).minimize(cost)\n",
    "\n",
    "# Initializing\n",
    "init = tf.global_variables_initializer()\n",
    "trX = Wafer1\n",
    "trY = Wafer2\n",
    "# trY = pdf2(Wafer2)\n",
    "\n",
    "with tf.Session() as sess:\n",
    "    print(np.shape(trX), np.shape(trY))\n",
    "    \n",
    "    sess.run(init)\n",
    "  # The session executes `log_huber` eagerly. Given the feed values below,\n",
    "  # it will take the first branch, so `y` evaluates to 1.0 and\n",
    "  # `dy_dx` evaluates to 2.0.\n",
    "    for i in range(1000):\n",
    "        sess.run(train_step, feed_dict={x:trX,y:trY})\n",
    "        if i % 100 == 0:\n",
    "#             print(\"%5d:(sigma,mu)=(%10.4f, %10.4f)\" % (i, sess.run(sigma), sess.run(mu)))\n",
    "            print(\"%5d:(a,b)=(%10.4f, %10.4f)\" % (i, sess.run(a), sess.run(b)))"
   ]
  },
  {
   "cell_type": "code",
   "execution_count": null,
   "metadata": {},
   "outputs": [],
   "source": []
  },
  {
   "cell_type": "code",
   "execution_count": null,
   "metadata": {},
   "outputs": [],
   "source": []
  }
 ],
 "metadata": {
  "kernelspec": {
   "display_name": "Python 3",
   "language": "python",
   "name": "python3"
  },
  "language_info": {
   "codemirror_mode": {
    "name": "ipython",
    "version": 3
   },
   "file_extension": ".py",
   "mimetype": "text/x-python",
   "name": "python",
   "nbconvert_exporter": "python",
   "pygments_lexer": "ipython3",
   "version": "3.6.8"
  }
 },
 "nbformat": 4,
 "nbformat_minor": 2
}
