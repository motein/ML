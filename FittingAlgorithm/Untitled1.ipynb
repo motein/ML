{
 "cells": [
  {
   "cell_type": "code",
   "execution_count": null,
   "metadata": {},
   "outputs": [],
   "source": [
    "import pandas as pd\n",
    "\n",
    "x = pd.read_excel('data.xlsx')\n",
    "x = x.iloc[:,1:].T\n",
    "\n",
    "# mean\n",
    "x_mean = x.mean(axis=1)\n",
    "for i in range(x.index.size):\n",
    "    x.iloc[i,:] = x.iloc[i, :] / x_mean[i]"
   ]
  }
 ],
 "metadata": {
  "kernelspec": {
   "display_name": "Python 3",
   "language": "python",
   "name": "python3"
  },
  "language_info": {
   "codemirror_mode": {
    "name": "ipython",
    "version": 3
   },
   "file_extension": ".py",
   "mimetype": "text/x-python",
   "name": "python",
   "nbconvert_exporter": "python",
   "pygments_lexer": "ipython3",
   "version": "3.6.8"
  }
 },
 "nbformat": 4,
 "nbformat_minor": 2
}
