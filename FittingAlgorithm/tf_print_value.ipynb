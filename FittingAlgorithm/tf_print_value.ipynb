{
 "cells": [
  {
   "cell_type": "code",
   "execution_count": 2,
   "metadata": {},
   "outputs": [
    {
     "name": "stdout",
     "output_type": "stream",
     "text": [
      "[2. 6.] <class 'tensorflow.python.framework.ops.Tensor'>\n"
     ]
    }
   ],
   "source": [
    "import tensorflow as tf\n",
    "import numpy as np\n",
    "\n",
    "sess = tf.InteractiveSession()\n",
    "\n",
    "a = tf.constant([1.0, 3.0])\n",
    "b = tf.add(a, a)\n",
    "print(b.eval(), type(b))\n",
    "\n",
    "sess.close()"
   ]
  },
  {
   "cell_type": "code",
   "execution_count": 3,
   "metadata": {},
   "outputs": [
    {
     "name": "stdout",
     "output_type": "stream",
     "text": [
      "6.0 <class 'tensorflow.python.framework.ops.Tensor'>\n"
     ]
    }
   ],
   "source": [
    "import sys\n",
    "\n",
    "sess = tf.InteractiveSession()\n",
    "\n",
    "x = tf.constant(3.0)\n",
    "with tf.GradientTape() as g:\n",
    "    g.watch(x)\n",
    "    y = x * x\n",
    "dy_dx = g.gradient(y, x) # Will compute to 6.0\n",
    "tf.print(dy_dx, output_stream=sys.stderr)\n",
    "print(dy_dx.eval(), type(dy_dx))\n",
    "\n",
    "sess.close()"
   ]
  },
  {
   "cell_type": "code",
   "execution_count": 4,
   "metadata": {},
   "outputs": [
    {
     "name": "stdout",
     "output_type": "stream",
     "text": [
      "0:00:00.005004\n",
      "0:00:00.538428\n"
     ]
    }
   ],
   "source": [
    "from datetime import datetime\n",
    "dim = 7000\n",
    "\n",
    "startTime = datetime.now()\n",
    "m1 = tf.truncated_normal([dim, dim], mean=0.0, stddev=0.02, dtype=tf.float32, seed=1)\n",
    "print(datetime.now() - startTime)\n",
    "\n",
    "startTime = datetime.now()\n",
    "m1 = tf.truncated_normal([dim, dim], mean=0.0, stddev=0.02, dtype=tf.float32, seed=1)\n",
    "sess = tf.Session()\n",
    "sess.run(m1)\n",
    "print(datetime.now() - startTime)"
   ]
  },
  {
   "cell_type": "markdown",
   "metadata": {},
   "source": [
    "sess = tf.InteractiveSession()\n",
    "\n",
    "matrix1 = tf.constant([[3., 3.]])\n",
    "matrix2 = tf.constant([[2.],[2.]])\n",
    "product = tf.matmul(matrix1, matrix2)\n",
    "\n",
    "#print the product\n",
    "print(product.eval())\n",
    "\n",
    "#close the session to release resources\n",
    "sess.close()"
   ]
  },
  {
   "cell_type": "code",
   "execution_count": 5,
   "metadata": {},
   "outputs": [
    {
     "name": "stdout",
     "output_type": "stream",
     "text": [
      "[[0.21194157 0.5761169  0.21194157]\n",
      " [0.33333334 0.33333334 0.33333334]]\n"
     ]
    }
   ],
   "source": [
    "sess = tf.InteractiveSession()\n",
    "x = [[1.,2.,1.],[1.,1.,1.]]    # a 2D matrix as input to softmax\n",
    "y = tf.nn.softmax(x)           # this is the softmax function\n",
    "                               # you can have anything you like here\n",
    "u = y.eval()\n",
    "print(u)\n",
    "sess.close()"
   ]
  },
  {
   "cell_type": "code",
   "execution_count": 6,
   "metadata": {},
   "outputs": [
    {
     "name": "stdout",
     "output_type": "stream",
     "text": [
      "2.0\n"
     ]
    }
   ],
   "source": [
    "def log_huber(x, m):\n",
    "    if tf.abs(x) <= m:\n",
    "        return x**2\n",
    "    else:\n",
    "        return m**2 * (1 - 2 * tf.log(m) + tf.log(x**2))\n",
    "\n",
    "x = tf.placeholder(tf.float32)\n",
    "m = tf.placeholder(tf.float32)\n",
    "\n",
    "y = tf.py_function(func=log_huber, inp=[x, m], Tout=tf.float32)\n",
    "dy_dx = tf.gradients(y, x)[0]\n",
    "\n",
    "with tf.Session() as sess:\n",
    "    # The session executes `log_huber` eagerly. Given the feed values below,\n",
    "    # it will take the first branch, so `y` evaluates to 1.0 and\n",
    "    # `dy_dx` evaluates to 2.0.\n",
    "    y, dy_dx = sess.run([y, dy_dx], feed_dict={x: 1.0, m: 2.0})\n",
    "    print(dy_dx)"
   ]
  },
  {
   "cell_type": "code",
   "execution_count": 1,
   "metadata": {},
   "outputs": [],
   "source": [
    "import tensorflow as tf\n",
    "\n",
    "tf.enable_eager_execution()\n",
    "\n",
    "x = tf.ones((2, 2))\n",
    "with tf.GradientTape() as t:\n",
    "    t.watch(x)\n",
    "    y = tf.reduce_sum(x)\n",
    "    z = tf.multiply(y, y)\n",
    "\n",
    "# Use the tape to compute the derivative of z with respect to the\n",
    "# intermediate value y.\n",
    "dz_dy = t.gradient(z, y)\n",
    "assert dz_dy.numpy() == 8.0"
   ]
  },
  {
   "cell_type": "code",
   "execution_count": 1,
   "metadata": {},
   "outputs": [
    {
     "name": "stdout",
     "output_type": "stream",
     "text": [
      "WARNING:tensorflow:From c:\\python36\\lib\\site-packages\\tensorflow\\python\\framework\\op_def_library.py:263: colocate_with (from tensorflow.python.framework.ops) is deprecated and will be removed in a future version.\n",
      "Instructions for updating:\n",
      "Colocations handled automatically by placer.\n",
      "WARNING:tensorflow:From c:\\python36\\lib\\site-packages\\tensorflow\\python\\util\\tf_should_use.py:193: initialize_all_variables (from tensorflow.python.ops.variables) is deprecated and will be removed after 2017-03-02.\n",
      "Instructions for updating:\n",
      "Use `tf.global_variables_initializer` instead.\n",
      "tfc:\n",
      " [[1. 2.]\n",
      " [3. 4.]]\n",
      "npc:\n",
      " [[1. 2.]\n",
      " [3. 4.]]\n",
      "modified tfc:\n",
      " [[1.1 2.2]\n",
      " [3.1 4.2]]\n",
      "modified npc:\n",
      " [[1.1 2.2]\n",
      " [3.1 4.2]]\n"
     ]
    }
   ],
   "source": [
    "import numpy as np\n",
    "import tensorflow as tf\n",
    "\n",
    "npc = np.array([[1.,2.],[3.,4.]])\n",
    "tfc = tf.Variable(npc) # Use variable \n",
    "\n",
    "row = np.array([[.1,.2]])\n",
    "\n",
    "with tf.Session() as sess:   \n",
    "    tf.initialize_all_variables().run() # need to initialize all variables\n",
    "\n",
    "    print('tfc:\\n', tfc.eval())\n",
    "    print('npc:\\n', npc)\n",
    "    for i in range(2):\n",
    "        for j in range(2):\n",
    "            npc[i,j] += row[0,j]\n",
    "    tfc.assign(npc).eval() # assign_sub/assign_add is also available.\n",
    "    print('modified tfc:\\n', tfc.eval())\n",
    "    print('modified npc:\\n', npc)"
   ]
  },
  {
   "cell_type": "code",
   "execution_count": 9,
   "metadata": {},
   "outputs": [
    {
     "name": "stdout",
     "output_type": "stream",
     "text": [
      "[[0. 1. 2.]\n",
      " [3. 4. 5.]\n",
      " [6. 7. 8.]]\n",
      "[0. 1. 2.]\n"
     ]
    },
    {
     "data": {
      "text/plain": [
       "array([[ 0.,  1.,  4.],\n",
       "       [ 0.,  4., 10.],\n",
       "       [ 0.,  7., 16.]])"
      ]
     },
     "execution_count": 9,
     "metadata": {},
     "output_type": "execute_result"
    }
   ],
   "source": [
    "x1 = np.arange(9.0).reshape((3, 3))\n",
    "x2 = np.arange(3.0)\n",
    "print(x1)\n",
    "print(x2)\n",
    "np.multiply(x1, x2)"
   ]
  },
  {
   "cell_type": "code",
   "execution_count": 11,
   "metadata": {},
   "outputs": [
    {
     "data": {
      "text/plain": [
       "array([16., 19., 22.])"
      ]
     },
     "execution_count": 11,
     "metadata": {},
     "output_type": "execute_result"
    }
   ],
   "source": [
    "# x2 = x2.reshape(1,3)\n",
    "# print(x2)\n",
    "a = np.matmul(x2, x1)\n",
    "a + 1"
   ]
  },
  {
   "cell_type": "code",
   "execution_count": null,
   "metadata": {},
   "outputs": [],
   "source": []
  }
 ],
 "metadata": {
  "kernelspec": {
   "display_name": "Python 3",
   "language": "python",
   "name": "python3"
  },
  "language_info": {
   "codemirror_mode": {
    "name": "ipython",
    "version": 3
   },
   "file_extension": ".py",
   "mimetype": "text/x-python",
   "name": "python",
   "nbconvert_exporter": "python",
   "pygments_lexer": "ipython3",
   "version": "3.6.6"
  }
 },
 "nbformat": 4,
 "nbformat_minor": 2
}
