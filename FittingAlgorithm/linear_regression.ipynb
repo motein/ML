{
 "cells": [
  {
   "cell_type": "code",
   "execution_count": 7,
   "metadata": {},
   "outputs": [],
   "source": [
    "from sklearn.linear_model import ElasticNet\n",
    "import pandas as pd\n",
    "import numpy as np\n",
    "import matplotlib.pyplot as plt\n",
    "\n",
    "def elastic_net_regression(X, y, alpha=0.5,random_state=0):\n",
    "    elastic_object = ElasticNet(alpha=alpha, random_state=random_state, l1_ratio=0.7)\n",
    "    mode = elastic_object.fit(X, y)\n",
    "    predicted = mode.predict(X)\n",
    "    return mode, predicted\n",
    "\n",
    "def elasticNet_regression2(X, y, alpha=0.5, power=15, random_state=0):\n",
    "    data = pd.DataFrame(np.column_stack([X]),columns=['x'])\n",
    "    predictors = ['x']\n",
    "    if power > 1:\n",
    "        for i in range(2, power+1):\n",
    "            col_name = 'x_%d'%i\n",
    "            data[col_name] = data['x']**i\n",
    "            predictors.extend([col_name])\n",
    "    elif power < 1:\n",
    "        return None, None\n",
    "    elastic_object = ElasticNet(alpha=alpha, max_iter = 1000, random_state=random_state, l1_ratio=0.5, normalize=True)\n",
    "    mode = elastic_object.fit(data[predictors], y)\n",
    "    predicted = mode.predict(data[predictors])\n",
    "    return mode, predicted"
   ]
  },
  {
   "cell_type": "code",
   "execution_count": 8,
   "metadata": {},
   "outputs": [],
   "source": [
    "def get_test_data2():\n",
    "    X = np.sort(5 * np.random.rand(40, 1), axis=0)\n",
    "    y = np.sin(X).ravel()\n",
    "    # Add noise to targets\n",
    "    y[::5] += 3 * (0.5 - np.random.rand(8))\n",
    "    return X, y\n",
    "\n",
    "def get_test_data3():\n",
    "    X = np.array([i*np.pi/180 for i in range(60,300,4)])\n",
    "    np.random.seed(10)\n",
    "    y = np.sin(X) + np.random.normal(0,0.15,len(X))\n",
    "    return X, y\n",
    "\n",
    "def plot_data1(X, y, predicted,show=True):\n",
    "    plt.scatter(X, y, marker='x')\n",
    "    plt.plot(X, predicted, c='r')\n",
    "    plt.xlabel('x')\n",
    "    plt.ylabel('y')\n",
    "    if show:\n",
    "        plt.show()"
   ]
  },
  {
   "cell_type": "code",
   "execution_count": 9,
   "metadata": {},
   "outputs": [
    {
     "data": {
      "image/png": "[encoded data removed]",
      "text/plain": [
       "<Figure size 432x288 with 1 Axes>"
      ]
     },
     "metadata": {
      "needs_background": "light"
     },
     "output_type": "display_data"
    }
   ],
   "source": [
    "# test_lasso2\n",
    "alpha_ridge = [1e-15, 1e-10, 1e-8, 1e-4, 1e-3,1e-2, 1, 5, 10, 20]\n",
    "X, y = get_test_data3()\n",
    "mode, predicted = elasticNet_regression2(X, y, alpha_ridge[4])\n",
    "plot_data1(X, y, predicted)"
   ]
  },
  {
   "cell_type": "code",
   "execution_count": 10,
   "metadata": {},
   "outputs": [
    {
     "data": {
      "image/png": "[encoded data removed]",
      "text/plain": [
       "<Figure size 432x288 with 1 Axes>"
      ]
     },
     "metadata": {
      "needs_background": "light"
     },
     "output_type": "display_data"
    }
   ],
   "source": [
    "# test_svr1():\n",
    "from sklearn.svm import SVR\n",
    "def svr_algorithm(X, y, alg_type=0):\n",
    "    svr_object = None\n",
    "    if alg_type == 0:\n",
    "        svr_object = SVR(kernel='rbf', C=1e3, gamma=0.1)\n",
    "    elif alg_type == 1:\n",
    "        svr_object = SVR(kernel='linear', C=1e3)\n",
    "    elif alg_type == 2:\n",
    "        svr_object = SVR(kernel='poly', C=1e3, degree=2)\n",
    "        \n",
    "    if svr_object is not None:\n",
    "        mode = svr_object.fit(X, y)\n",
    "        predicted = mode.predict(X)\n",
    "        return mode, predicted\n",
    "    \n",
    "    return None, None\n",
    "\n",
    "X,y = get_test_data2()\n",
    "mode, predicted = svr_algorithm(X, y)\n",
    "plot_data1(X, y, predicted, False)\n",
    "plot_data1(X, y, predicted+0.1, True)"
   ]
  },
  {
   "cell_type": "code",
   "execution_count": null,
   "metadata": {},
   "outputs": [],
   "source": [
    "# test_xgboost():\n",
    "import xgboost as xgb\n",
    "import numpy as np\n",
    "import pandas as pd\n",
    "from sklearn.metrics import mean_absolute_error\n",
    "\n",
    "def get_test_data5():\n",
    "    X = np.array([i*np.pi/180 for i in np.arange(0, 200, 1)])\n",
    "    np.random.seed(10)\n",
    "    y = np.sin(X) + np.random.normal(0,0.15,len(X))\n",
    "    return X, y\n",
    "\n",
    "def get_param():\n",
    "    param = {\n",
    "        'seed': 0,\n",
    "        'eta': 0.1,\n",
    "        'colsample_bytree': 0.5,\n",
    "        'silent': 1,\n",
    "        'objective': 'reg:linear',\n",
    "        'max_depth': 5,\n",
    "        'min_child_weight': 3,\n",
    "        'nthread': 4,\n",
    "        'eval_metric': 'rmse'\n",
    "    }\n",
    "    \n",
    "    return param\n",
    "\n",
    "def xg_eval_mae(yhat, dtrain):\n",
    "    y = dtrain.get_label()\n",
    "    return 'mae', mean_absolute_error(np.exp(y), np.exp(yhat))\n",
    "\n",
    "def xgboost_algorithm(X, y, param=None, num_boost_round=10, maglify=1.0):\n",
    "    y = np.multiply(y, maglify)\n",
    "    real_param = param\n",
    "    if param is None:\n",
    "        real_param = get_param()\n",
    "    data = pd.DataFrame(np.column_stack([X]),columns=['x'])\n",
    "    label = pd.DataFrame(np.column_stack([y]))\n",
    "    print(data.head())\n",
    "    print(label.head())\n",
    "    dtrain = xgb.DMatrix(data, label=label)\n",
    "    print(3)\n",
    "    mode = xgb.train(real_param, dtrain=dtrain, num_boost_round=num_boost_round, feval=xg_eval_mae, maximize=False)\n",
    "    dtest = xgb.DMatrix(data)\n",
    "    print(2)\n",
    "    predicted = mode.predict(dtest)\n",
    "    predicted = np.divide(predicted, maglify)\n",
    "    return mode, predicted\n",
    "\n",
    "X, y = get_test_data5()\n",
    "print(np.shape(X), type(X), np.shape(y), type(y))\n",
    "mode, predicted = xgboost_algorithm(X, y)\n",
    "plot_data1(X, y, predicted)\n",
    "print(np.shape(np.array([1,2,3])))"
   ]
  },
  {
   "cell_type": "code",
   "execution_count": null,
   "metadata": {},
   "outputs": [],
   "source": []
  }
 ],
 "metadata": {
  "kernelspec": {
   "display_name": "Python 3",
   "language": "python",
   "name": "python3"
  },
  "language_info": {
   "codemirror_mode": {
    "name": "ipython",
    "version": 3
   },
   "file_extension": ".py",
   "mimetype": "text/x-python",
   "name": "python",
   "nbconvert_exporter": "python",
   "pygments_lexer": "ipython3",
   "version": "3.6.8"
  }
 },
 "nbformat": 4,
 "nbformat_minor": 2
}
