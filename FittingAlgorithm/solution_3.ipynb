{
 "cells": [
  {
   "cell_type": "code",
   "execution_count": 3,
   "metadata": {},
   "outputs": [
    {
     "name": "stdout",
     "output_type": "stream",
     "text": [
      "(1000,)\n"
     ]
    }
   ],
   "source": [
    "import numpy as np\n",
    "np.random.seed(1)\n",
    "N=1000\n",
    "def generate_experiment_data(size=N):\n",
    "    d1 = np.random.normal(loc = 0.0, scale = 1.0, size = N) + np.random.randn(N) * 0.1\n",
    "    d2 = np.random.normal(loc = 2.0, scale = 1.0, size = N) + np.random.randn(N) * 0.1\n",
    "    return d1,d2\n",
    "Wafer1, Wafer2 = generate_experiment_data(size=N)\n",
    "print(np.shape(Wafer1))"
   ]
  },
  {
   "cell_type": "code",
   "execution_count": 5,
   "metadata": {},
   "outputs": [
    {
     "data": {
      "image/png": "[encoded data removed]",
      "text/plain": [
       "<Figure size 432x288 with 1 Axes>"
      ]
     },
     "metadata": {
      "needs_background": "light"
     },
     "output_type": "display_data"
    }
   ],
   "source": [
    "import matplotlib.pyplot as plt\n",
    "plt.hist(Wafer1,bins=30)\n",
    "plt.hist(Wafer2, bins=30)\n",
    "plt.show()"
   ]
  },
  {
   "cell_type": "code",
   "execution_count": 6,
   "metadata": {},
   "outputs": [],
   "source": [
    "import xgboost as xgb\n",
    "import numpy as np\n",
    "import pandas as pd\n",
    "from sklearn.metrics import mean_absolute_error\n",
    "\n",
    "def get_param():\n",
    "    param = {\n",
    "        'seed': 0,\n",
    "        'eta': 0.1,\n",
    "        'colsample_bytree': 0.5,\n",
    "        'silent': 1,\n",
    "        'objective': 'reg:linear',\n",
    "        'max_depth': 5,\n",
    "        'min_child_weight': 3,\n",
    "        'nthread': 4,\n",
    "        'eval_metric': 'rmse'\n",
    "    }\n",
    "    \n",
    "    return param\n",
    "\n",
    "def xg_eval_mae(yhat, dtrain):\n",
    "    y = dtrain.get_label()\n",
    "    return 'mae', mean_absolute_error(np.exp(y), np.exp(yhat))\n",
    "\n",
    "def xgboost_algorithm(X, y, param=None, num_boost_round=100, maglify=1.0):\n",
    "    y = np.multiply(y, maglify)\n",
    "    real_param = param\n",
    "    if param is None:\n",
    "        real_param = get_param()\n",
    "    data = pd.DataFrame(np.column_stack([X]),columns=['x'])\n",
    "    label = pd.DataFrame(np.column_stack([y]))\n",
    "    print(data.head())\n",
    "    print(label.head())\n",
    "    dtrain = xgb.DMatrix(data, label=label)\n",
    "    print(real_param)\n",
    "    mode = xgb.train(real_param, dtrain=dtrain, num_boost_round=num_boost_round, feval=xg_eval_mae, maximize=False)\n",
    "    dtest = xgb.DMatrix(data)\n",
    "    print(2)\n",
    "    predicted = mode.predict(dtest)\n",
    "    predicted = np.divide(predicted, maglify)\n",
    "    return mode, predicted"
   ]
  },
  {
   "cell_type": "code",
   "execution_count": 7,
   "metadata": {},
   "outputs": [
    {
     "name": "stdout",
     "output_type": "stream",
     "text": [
      "(1000,) <class 'numpy.ndarray'> (1000,) <class 'numpy.ndarray'>\n",
      "          x\n",
      "0 -1.179379\n",
      "1 -0.623449\n",
      "2 -0.613936\n",
      "3 -0.576855\n",
      "4 -0.434991\n",
      "          0\n",
      "0 -3.069788\n",
      "1 -2.825254\n",
      "2 -2.790464\n",
      "3 -2.768219\n",
      "4 -2.755595\n",
      "{'seed': 0, 'eta': 0.1, 'colsample_bytree': 0.5, 'silent': 1, 'objective': 'reg:linear', 'max_depth': 5, 'min_child_weight': 3, 'nthread': 4, 'eval_metric': 'rmse'}\n",
      "2\n"
     ]
    },
    {
     "data": {
      "image/png": "[encoded data removed]",
      "text/plain": [
       "<Figure size 432x288 with 1 Axes>"
      ]
     },
     "metadata": {
      "needs_background": "light"
     },
     "output_type": "display_data"
    },
    {
     "data": {
      "text/plain": [
       "(array([ 5.,  2.,  3.,  5.,  6.,  8.,  9., 12., 18., 21., 19., 39., 35.,\n",
       "        52., 51., 52., 67., 81., 59., 49., 65., 66., 50., 55., 41., 24.,\n",
       "        28., 21., 15., 12., 13.,  6.,  4.,  3.,  1.,  0.,  0.,  0.,  0.,\n",
       "         3.]),\n",
       " array([-2.8932495 , -2.733439  , -2.5736284 , -2.413818  , -2.2540076 ,\n",
       "        -2.094197  , -1.9343865 , -1.774576  , -1.6147654 , -1.454955  ,\n",
       "        -1.2951444 , -1.1353339 , -0.9755234 , -0.8157129 , -0.6559024 ,\n",
       "        -0.4960919 , -0.3362814 , -0.17647089, -0.01666038,  0.14315012,\n",
       "         0.30296063,  0.46277115,  0.62258166,  0.78239214,  0.9422027 ,\n",
       "         1.1020131 ,  1.2618237 ,  1.4216342 ,  1.5814447 ,  1.7412552 ,\n",
       "         1.9010657 ,  2.0608761 ,  2.2206867 ,  2.3804972 ,  2.5403078 ,\n",
       "         2.7001183 ,  2.8599288 ,  3.0197392 ,  3.1795497 ,  3.3393602 ,\n",
       "         3.4991708 ], dtype=float32),\n",
       " <a list of 40 Patch objects>)"
      ]
     },
     "execution_count": 7,
     "metadata": {},
     "output_type": "execute_result"
    },
    {
     "data": {
      "image/png": "[encoded data removed]",
      "text/plain": [
       "<Figure size 432x288 with 1 Axes>"
      ]
     },
     "metadata": {
      "needs_background": "light"
     },
     "output_type": "display_data"
    }
   ],
   "source": [
    "def plot_data(X, y, predicted):\n",
    "    plt.scatter(X, y, marker='x')\n",
    "    plt.plot(X, predicted, c='r')\n",
    "    plt.xlabel('x')\n",
    "    plt.ylabel('y')\n",
    "    plt.show()\n",
    "    \n",
    "X = np.sort(Wafer2)\n",
    "y = np.sort(Wafer1)\n",
    "print(np.shape(X), type(X), np.shape(y), type(y))\n",
    "mode, predicted = xgboost_algorithm(X, y)\n",
    "plot_data(X, y, predicted)\n",
    "plt.hist(y,bins=40)\n",
    "plt.hist(predicted,bins=40)"
   ]
  },
  {
   "cell_type": "code",
   "execution_count": 8,
   "metadata": {},
   "outputs": [],
   "source": [
    "def compare_equal(data1, data2, precision=0.01):\n",
    "    delta = abs(data1)*precision\n",
    "    if data2 > data1 - delta and data2 < data1 + delta:\n",
    "        return True\n",
    "    else:\n",
    "        return False\n",
    "    \n",
    "def compute_accuracy(Data1, Data2, sort=True, precision=0.01):\n",
    "    X1 = Data1\n",
    "    X2 = Data2\n",
    "    if sort:\n",
    "        X1 = np.sort(Data1)\n",
    "        X2 = np.sort(Data2)\n",
    "    correct_prediction = 0\n",
    "    TotalCount = len(X1)\n",
    "    for i in range(0, TotalCount):\n",
    "        if compare_equal(X1[i], X2[i], precision):\n",
    "            correct_prediction +=1\n",
    "    \n",
    "    accuracy = correct_prediction/TotalCount\n",
    "    return accuracy"
   ]
  },
  {
   "cell_type": "code",
   "execution_count": 9,
   "metadata": {},
   "outputs": [
    {
     "name": "stdout",
     "output_type": "stream",
     "text": [
      "0.867\n"
     ]
    }
   ],
   "source": [
    "accuracy = compute_accuracy(predicted, y, sort=True, precision=0.01)\n",
    "print(accuracy)"
   ]
  },
  {
   "cell_type": "code",
   "execution_count": 10,
   "metadata": {},
   "outputs": [
    {
     "data": {
      "image/png": "[encoded data removed]",
      "text/plain": [
       "<Figure size 432x288 with 1 Axes>"
      ]
     },
     "metadata": {
      "needs_background": "light"
     },
     "output_type": "display_data"
    },
    {
     "name": "stdout",
     "output_type": "stream",
     "text": [
      "0.989\n"
     ]
    }
   ],
   "source": [
    "precisions = np.arange(0.1, 0.001, -0.001)\n",
    "accuracies = [compute_accuracy(predicted, y, sort=True, precision=i) for i in precisions]\n",
    "import matplotlib.pyplot as plt\n",
    "plt.plot(precisions, accuracies)\n",
    "plt.xlabel('Precision')\n",
    "plt.ylabel('Accuracy')\n",
    "plt.show()\n",
    "print(np.max(accuracies))"
   ]
  },
  {
   "cell_type": "code",
   "execution_count": 11,
   "metadata": {},
   "outputs": [
    {
     "name": "stdout",
     "output_type": "stream",
     "text": [
      "(1000,) <class 'numpy.ndarray'> (1000,) <class 'numpy.ndarray'>\n",
      "          x\n",
      "0 -0.999014\n",
      "1 -0.859162\n",
      "2 -0.759062\n",
      "3 -0.689734\n",
      "4 -0.667248\n",
      "          0\n",
      "0 -3.177404\n",
      "1 -2.929788\n",
      "2 -2.820242\n",
      "3 -2.655683\n",
      "4 -2.646224\n",
      "{'seed': 0, 'eta': 0.1, 'colsample_bytree': 0.5, 'silent': 1, 'objective': 'reg:linear', 'max_depth': 5, 'min_child_weight': 3, 'nthread': 4, 'eval_metric': 'rmse'}\n",
      "2\n",
      "(1000,) <class 'numpy.ndarray'> (1000,) <class 'numpy.ndarray'>\n",
      "          x\n",
      "0 -1.386857\n",
      "1 -1.250787\n",
      "2 -0.741395\n",
      "3 -0.740233\n",
      "4 -0.671646\n",
      "          0\n",
      "0 -3.122435\n",
      "1 -2.833868\n",
      "2 -2.690956\n",
      "3 -2.639927\n",
      "4 -2.396069\n",
      "{'seed': 0, 'eta': 0.1, 'colsample_bytree': 0.5, 'silent': 1, 'objective': 'reg:linear', 'max_depth': 5, 'min_child_weight': 3, 'nthread': 4, 'eval_metric': 'rmse'}\n",
      "2\n",
      "(1000,) <class 'numpy.ndarray'> (1000,) <class 'numpy.ndarray'>\n",
      "          x\n",
      "0 -1.271917\n",
      "1 -1.051372\n",
      "2 -0.875147\n",
      "3 -0.649278\n",
      "4 -0.512006\n",
      "          0\n",
      "0 -3.307825\n",
      "1 -3.282543\n",
      "2 -2.937965\n",
      "3 -2.853842\n",
      "4 -2.424908\n",
      "{'seed': 0, 'eta': 0.1, 'colsample_bytree': 0.5, 'silent': 1, 'objective': 'reg:linear', 'max_depth': 5, 'min_child_weight': 3, 'nthread': 4, 'eval_metric': 'rmse'}\n",
      "2\n",
      "(1000,) <class 'numpy.ndarray'> (1000,) <class 'numpy.ndarray'>\n",
      "          x\n",
      "0 -1.222298\n",
      "1 -1.159225\n",
      "2 -0.876951\n",
      "3 -0.595117\n",
      "4 -0.501618\n",
      "          0\n",
      "0 -3.117968\n",
      "1 -2.950465\n",
      "2 -2.757930\n",
      "3 -2.640423\n",
      "4 -2.628615\n",
      "{'seed': 0, 'eta': 0.1, 'colsample_bytree': 0.5, 'silent': 1, 'objective': 'reg:linear', 'max_depth': 5, 'min_child_weight': 3, 'nthread': 4, 'eval_metric': 'rmse'}\n",
      "2\n",
      "(1000,) <class 'numpy.ndarray'> (1000,) <class 'numpy.ndarray'>\n",
      "          x\n",
      "0 -1.105614\n",
      "1 -0.575040\n",
      "2 -0.559085\n",
      "3 -0.370800\n",
      "4 -0.355609\n",
      "          0\n",
      "0 -3.948704\n",
      "1 -3.159062\n",
      "2 -2.951070\n",
      "3 -2.778021\n",
      "4 -2.681919\n",
      "{'seed': 0, 'eta': 0.1, 'colsample_bytree': 0.5, 'silent': 1, 'objective': 'reg:linear', 'max_depth': 5, 'min_child_weight': 3, 'nthread': 4, 'eval_metric': 'rmse'}\n",
      "2\n",
      "(1000,) <class 'numpy.ndarray'> (1000,) <class 'numpy.ndarray'>\n",
      "          x\n",
      "0 -2.295113\n",
      "1 -1.207938\n",
      "2 -1.144546\n",
      "3 -1.003040\n",
      "4 -0.992620\n",
      "          0\n",
      "0 -3.353696\n",
      "1 -2.971774\n",
      "2 -2.871423\n",
      "3 -2.860842\n",
      "4 -2.749839\n",
      "{'seed': 0, 'eta': 0.1, 'colsample_bytree': 0.5, 'silent': 1, 'objective': 'reg:linear', 'max_depth': 5, 'min_child_weight': 3, 'nthread': 4, 'eval_metric': 'rmse'}\n",
      "2\n",
      "(1000,) <class 'numpy.ndarray'> (1000,) <class 'numpy.ndarray'>\n",
      "          x\n",
      "0 -0.977938\n",
      "1 -0.812626\n",
      "2 -0.730369\n",
      "3 -0.645686\n",
      "4 -0.508908\n",
      "          0\n",
      "0 -3.422173\n",
      "1 -2.819089\n",
      "2 -2.818087\n",
      "3 -2.668436\n",
      "4 -2.549575\n",
      "{'seed': 0, 'eta': 0.1, 'colsample_bytree': 0.5, 'silent': 1, 'objective': 'reg:linear', 'max_depth': 5, 'min_child_weight': 3, 'nthread': 4, 'eval_metric': 'rmse'}\n",
      "2\n",
      "(1000,) <class 'numpy.ndarray'> (1000,) <class 'numpy.ndarray'>\n",
      "          x\n",
      "0 -1.053105\n",
      "1 -1.041032\n",
      "2 -0.877765\n",
      "3 -0.776727\n",
      "4 -0.673173\n",
      "          0\n",
      "0 -3.653260\n",
      "1 -3.298877\n",
      "2 -3.036835\n",
      "3 -2.922096\n",
      "4 -2.901076\n",
      "{'seed': 0, 'eta': 0.1, 'colsample_bytree': 0.5, 'silent': 1, 'objective': 'reg:linear', 'max_depth': 5, 'min_child_weight': 3, 'nthread': 4, 'eval_metric': 'rmse'}\n",
      "2\n",
      "(1000,) <class 'numpy.ndarray'> (1000,) <class 'numpy.ndarray'>\n",
      "          x\n",
      "0 -1.163536\n",
      "1 -0.563249\n",
      "2 -0.553633\n",
      "3 -0.495971\n",
      "4 -0.477901\n",
      "          0\n",
      "0 -3.327918\n",
      "1 -3.237263\n",
      "2 -3.114025\n",
      "3 -2.829656\n",
      "4 -2.702927\n",
      "{'seed': 0, 'eta': 0.1, 'colsample_bytree': 0.5, 'silent': 1, 'objective': 'reg:linear', 'max_depth': 5, 'min_child_weight': 3, 'nthread': 4, 'eval_metric': 'rmse'}\n",
      "2\n",
      "(1000,) <class 'numpy.ndarray'> (1000,) <class 'numpy.ndarray'>\n",
      "          x\n",
      "0 -1.695984\n",
      "1 -1.576533\n",
      "2 -0.825292\n",
      "3 -0.717101\n",
      "4 -0.608697\n",
      "          0\n",
      "0 -3.449750\n",
      "1 -2.639525\n",
      "2 -2.608991\n",
      "3 -2.391614\n",
      "4 -2.375218\n",
      "{'seed': 0, 'eta': 0.1, 'colsample_bytree': 0.5, 'silent': 1, 'objective': 'reg:linear', 'max_depth': 5, 'min_child_weight': 3, 'nthread': 4, 'eval_metric': 'rmse'}\n",
      "2\n"
     ]
    }
   ],
   "source": [
    "def compute_accuracy_with_size(size_list, precision=0.01):\n",
    "    accuracies = []\n",
    "    for i in size_list:\n",
    "        Wafer1, Wafer2 = generate_experiment_data(i)\n",
    "        X = np.sort(Wafer2)\n",
    "        y = np.sort(Wafer1)\n",
    "        print(np.shape(X), type(X), np.shape(y), type(y))\n",
    "        mode, predicted = xgboost_algorithm(X, y)\n",
    "#         print(np.shape(Wafer1), np.shape(wafer))\n",
    "        accuracy = compute_accuracy(y, predicted, sort=True, precision=precision)\n",
    "#         print(\"Hehe\", accuracy)\n",
    "        accuracies.append(accuracy)\n",
    "        \n",
    "    return accuracies\n",
    "        \n",
    "size_list = [i for i in range(100, 10000, 1000)]\n",
    "# size_list = [100,10000]\n",
    "accuracies = compute_accuracy_with_size(size_list, 0.05)"
   ]
  },
  {
   "cell_type": "code",
   "execution_count": 12,
   "metadata": {},
   "outputs": [
    {
     "name": "stdout",
     "output_type": "stream",
     "text": [
      "[100, 1100, 2100, 3100, 4100, 5100, 6100, 7100, 8100, 9100] 0.98\n"
     ]
    },
    {
     "data": {
      "image/png": "[encoded data removed]",
      "text/plain": [
       "<Figure size 432x288 with 1 Axes>"
      ]
     },
     "metadata": {
      "needs_background": "light"
     },
     "output_type": "display_data"
    },
    {
     "name": "stdout",
     "output_type": "stream",
     "text": [
      "0.9746\n"
     ]
    }
   ],
   "source": [
    "print(size_list, np.max(accuracies))\n",
    "plt.plot(size_list, accuracies)\n",
    "plt.xlabel('Size')\n",
    "plt.ylabel('Accuracy')\n",
    "plt.show()\n",
    "print(np.average(accuracies))"
   ]
  },
  {
   "cell_type": "code",
   "execution_count": null,
   "metadata": {},
   "outputs": [],
   "source": []
  }
 ],
 "metadata": {
  "kernelspec": {
   "display_name": "Python 3",
   "language": "python",
   "name": "python3"
  },
  "language_info": {
   "codemirror_mode": {
    "name": "ipython",
    "version": 3
   },
   "file_extension": ".py",
   "mimetype": "text/x-python",
   "name": "python",
   "nbconvert_exporter": "python",
   "pygments_lexer": "ipython3",
   "version": "3.6.8"
  }
 },
 "nbformat": 4,
 "nbformat_minor": 2
}
