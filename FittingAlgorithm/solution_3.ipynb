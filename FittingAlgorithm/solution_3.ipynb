{
 "cells": [
  {
   "cell_type": "code",
   "execution_count": 9,
   "metadata": {},
   "outputs": [
    {
     "name": "stdout",
     "output_type": "stream",
     "text": [
      "(1000,)\n"
     ]
    }
   ],
   "source": [
    "import tensorflow as tf\n",
    "tf.enable_eager_execution()\n",
    "import numpy as np\n",
    "np.random.seed(1)\n",
    "N=1000\n",
    "def generate_experiment_data(size=N):\n",
    "    d1 = np.random.normal(loc = 0.0, scale = 1.0, size = N)\n",
    "    d2 = np.random.normal(loc = 2.0, scale = 1.0, size = N)\n",
    "    return d1,d2\n",
    "Wafer1, Wafer2 = generate_experiment_data(size=N)\n",
    "print(np.shape(Wafer1))"
   ]
  },
  {
   "cell_type": "code",
   "execution_count": 10,
   "metadata": {},
   "outputs": [
    {
     "data": {
      "image/png": "[encoded data removed]",
      "text/plain": [
       "<Figure size 432x288 with 1 Axes>"
      ]
     },
     "metadata": {
      "needs_background": "light"
     },
     "output_type": "display_data"
    }
   ],
   "source": [
    "import matplotlib.pyplot as plt\n",
    "plt.hist(Wafer1,bins=30)\n",
    "plt.hist(Wafer2, bins=30)\n",
    "plt.show()"
   ]
  },
  {
   "cell_type": "code",
   "execution_count": 3,
   "metadata": {},
   "outputs": [],
   "source": [
    "import xgboost as xgb\n",
    "import numpy as np\n",
    "import pandas as pd\n",
    "from sklearn.metrics import mean_absolute_error\n",
    "\n",
    "def get_param():\n",
    "    param = {\n",
    "        'seed': 0,\n",
    "        'eta': 0.1,\n",
    "        'colsample_bytree': 0.5,\n",
    "        'silent': 1,\n",
    "        'objective': 'reg:linear',\n",
    "        'max_depth': 5,\n",
    "        'min_child_weight': 3,\n",
    "        'nthread': 4,\n",
    "        'eval_metric': 'rmse'\n",
    "    }\n",
    "    \n",
    "    return param\n",
    "\n",
    "def xg_eval_mae(yhat, dtrain):\n",
    "    y = dtrain.get_label()\n",
    "    return 'mae', mean_absolute_error(np.exp(y), np.exp(yhat))\n",
    "\n",
    "def xgboost_algorithm(X, y, param=None, num_boost_round=100, maglify=1.0):\n",
    "    y = np.multiply(y, maglify)\n",
    "    real_param = param\n",
    "    if param is None:\n",
    "        real_param = get_param()\n",
    "    data = pd.DataFrame(np.column_stack([X]),columns=['x'])\n",
    "    label = pd.DataFrame(np.column_stack([y]))\n",
    "    print(data.head())\n",
    "    print(label.head())\n",
    "    dtrain = xgb.DMatrix(data, label=label)\n",
    "    print(real_param)\n",
    "    mode = xgb.train(real_param, dtrain=dtrain, num_boost_round=num_boost_round, feval=xg_eval_mae, maximize=False)\n",
    "    dtest = xgb.DMatrix(data)\n",
    "    print(2)\n",
    "    predicted = mode.predict(dtest)\n",
    "    predicted = np.divide(predicted, maglify)\n",
    "    return mode, predicted"
   ]
  },
  {
   "cell_type": "code",
   "execution_count": 4,
   "metadata": {},
   "outputs": [
    {
     "name": "stdout",
     "output_type": "stream",
     "text": [
      "(1000,) <class 'numpy.ndarray'> (1000,) <class 'numpy.ndarray'>\n",
      "          x\n",
      "0 -1.153357\n",
      "1 -1.016032\n",
      "2 -0.791444\n",
      "3 -0.621012\n",
      "4 -0.617290\n",
      "          0\n",
      "0 -3.053764\n",
      "1 -2.793085\n",
      "2 -2.790996\n",
      "3 -2.782534\n",
      "4 -2.698362\n",
      "{'seed': 0, 'eta': 0.1, 'colsample_bytree': 0.5, 'silent': 1, 'objective': 'reg:linear', 'max_depth': 5, 'min_child_weight': 3, 'nthread': 4, 'eval_metric': 'rmse'}\n",
      "2\n"
     ]
    },
    {
     "data": {
      "image/png": "[encoded data removed]",
      "text/plain": [
       "<Figure size 432x288 with 1 Axes>"
      ]
     },
     "metadata": {
      "needs_background": "light"
     },
     "output_type": "display_data"
    },
    {
     "data": {
      "text/plain": [
       "(array([ 4.,  2.,  4.,  4.,  5., 12.,  9., 11., 17., 21., 21., 35., 38.,\n",
       "        45., 47., 57., 67., 71., 66., 51., 62., 61., 57., 50., 41., 41.,\n",
       "        18., 24., 15., 17.,  8.,  7.,  4.,  3.,  2.,  0.,  0.,  0.,  0.,\n",
       "         3.]),\n",
       " array([-2.877294  , -2.7194915 , -2.5616887 , -2.403886  , -2.2460835 ,\n",
       "        -2.0882807 , -1.9304781 , -1.7726754 , -1.6148728 , -1.4570701 ,\n",
       "        -1.2992675 , -1.1414648 , -0.9836621 , -0.8258595 , -0.66805685,\n",
       "        -0.51025414, -0.3524515 , -0.19464886, -0.0368462 ,  0.12095647,\n",
       "         0.27875912,  0.4365618 ,  0.59436446,  0.7521671 ,  0.90996975,\n",
       "         1.0677724 ,  1.2255751 ,  1.3833778 ,  1.5411804 ,  1.6989831 ,\n",
       "         1.8567858 ,  2.0145884 ,  2.172391  ,  2.3301938 ,  2.4879963 ,\n",
       "         2.645799  ,  2.8036017 ,  2.9614043 ,  3.119207  ,  3.2770097 ,\n",
       "         3.4348123 ], dtype=float32),\n",
       " <a list of 40 Patch objects>)"
      ]
     },
     "execution_count": 4,
     "metadata": {},
     "output_type": "execute_result"
    },
    {
     "data": {
      "image/png": "[encoded data removed]",
      "text/plain": [
       "<Figure size 432x288 with 1 Axes>"
      ]
     },
     "metadata": {
      "needs_background": "light"
     },
     "output_type": "display_data"
    }
   ],
   "source": [
    "def plot_data(X, y, predicted):\n",
    "    plt.scatter(X, y, marker='x')\n",
    "    plt.plot(X, predicted, c='r')\n",
    "    plt.xlabel('x')\n",
    "    plt.ylabel('y')\n",
    "    plt.show()\n",
    "    \n",
    "X = np.sort(Wafer2)\n",
    "y = np.sort(Wafer1)\n",
    "print(np.shape(X), type(X), np.shape(y), type(y))\n",
    "mode, predicted = xgboost_algorithm(X, y)\n",
    "plot_data(X, y, predicted)\n",
    "plt.hist(y,bins=40)\n",
    "plt.hist(predicted,bins=40)"
   ]
  },
  {
   "cell_type": "code",
   "execution_count": 5,
   "metadata": {},
   "outputs": [],
   "source": [
    "def compare_equal(data1, data2, precision=0.01):\n",
    "    delta = abs(data1)*precision\n",
    "    if data2 > data1 - delta and data2 < data1 + delta:\n",
    "        return True\n",
    "    else:\n",
    "        return False\n",
    "    \n",
    "def compute_accuracy(Data1, Data2, sort=True, precision=0.01):\n",
    "    X1 = Data1\n",
    "    X2 = Data2\n",
    "    if sort:\n",
    "        X1 = np.sort(Data1)\n",
    "        X2 = np.sort(Data2)\n",
    "    correct_prediction = 0\n",
    "    TotalCount = len(X1)\n",
    "    for i in range(0, TotalCount):\n",
    "        if compare_equal(X1[i], X2[i], precision):\n",
    "            correct_prediction +=1\n",
    "    \n",
    "    accuracy = correct_prediction/TotalCount\n",
    "    return accuracy"
   ]
  },
  {
   "cell_type": "code",
   "execution_count": 6,
   "metadata": {},
   "outputs": [
    {
     "name": "stdout",
     "output_type": "stream",
     "text": [
      "0.857\n"
     ]
    }
   ],
   "source": [
    "accuracy = compute_accuracy(predicted, y, sort=True, precision=0.01)\n",
    "print(accuracy)"
   ]
  },
  {
   "cell_type": "code",
   "execution_count": 8,
   "metadata": {},
   "outputs": [
    {
     "data": {
      "image/png": "[encoded data removed]",
      "text/plain": [
       "<Figure size 432x288 with 1 Axes>"
      ]
     },
     "metadata": {
      "needs_background": "light"
     },
     "output_type": "display_data"
    },
    {
     "name": "stdout",
     "output_type": "stream",
     "text": [
      "0.992\n"
     ]
    }
   ],
   "source": [
    "precisions = np.arange(0.1, 0.001, -0.001)\n",
    "accuracies = [compute_accuracy(predicted, y, sort=True, precision=i) for i in precisions]\n",
    "import matplotlib.pyplot as plt\n",
    "plt.plot(precisions, accuracies)\n",
    "plt.xlabel('Precision')\n",
    "plt.ylabel('Accuracy')\n",
    "plt.show()\n",
    "print(np.max(accuracies))"
   ]
  },
  {
   "cell_type": "code",
   "execution_count": null,
   "metadata": {},
   "outputs": [],
   "source": []
  }
 ],
 "metadata": {
  "kernelspec": {
   "display_name": "Python 3",
   "language": "python",
   "name": "python3"
  },
  "language_info": {
   "codemirror_mode": {
    "name": "ipython",
    "version": 3
   },
   "file_extension": ".py",
   "mimetype": "text/x-python",
   "name": "python",
   "nbconvert_exporter": "python",
   "pygments_lexer": "ipython3",
   "version": "3.6.8"
  }
 },
 "nbformat": 4,
 "nbformat_minor": 2
}
