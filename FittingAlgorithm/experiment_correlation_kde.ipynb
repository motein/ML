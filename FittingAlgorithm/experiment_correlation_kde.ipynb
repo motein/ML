{
 "cells": [
  {
   "cell_type": "markdown",
   "metadata": {},
   "source": [
    "# 確率分布の相関検出"
   ]
  },
  {
   "cell_type": "raw",
   "metadata": {},
   "source": [
    "２つの確率分布の間の相関を回帰分析する。任意の確率分布が受け入れ可能な、ノンパラメトリックの手法を用いる。微分を含む回帰・最適化計算を簡単にするために、Tensorflowを使うことにする。※Neural netが使いたいわけではない。"
   ]
  },
  {
   "cell_type": "markdown",
   "metadata": {},
   "source": [
    "## データの準備"
   ]
  },
  {
   "cell_type": "code",
   "execution_count": 1,
   "metadata": {},
   "outputs": [],
   "source": [
    "# x, yにそれぞれ観測データを準備する。単純オフセット。\n",
    "import numpy as np\n",
    "N=10000\n",
    "Wafer1 = np.random.normal(loc = 0.0, scale = 1.0, size = N)\n",
    "Wafer2 = np.random.normal(loc = 2.0, scale = 1.0, size = N)"
   ]
  },
  {
   "cell_type": "code",
   "execution_count": 2,
   "metadata": {},
   "outputs": [
    {
     "data": {
      "text/plain": [
       "(array([   7.,   96.,  500., 1458., 2591., 2762., 1762.,  663.,  141.,\n",
       "          20.]),\n",
       " array([-1.75591004, -1.02145588, -0.28700171,  0.44745246,  1.18190663,\n",
       "         1.91636079,  2.65081496,  3.38526913,  4.1197233 ,  4.85417746,\n",
       "         5.58863163]),\n",
       " <a list of 10 Patch objects>)"
      ]
     },
     "execution_count": 2,
     "metadata": {},
     "output_type": "execute_result"
    },
    {
     "data": {
      "image/png": "[encoded data removed]",
      "text/plain": [
       "<Figure size 432x288 with 1 Axes>"
      ]
     },
     "metadata": {
      "needs_background": "light"
     },
     "output_type": "display_data"
    }
   ],
   "source": [
    "# x, yのヒストグラム\n",
    "%matplotlib inline\n",
    "import matplotlib.pyplot as plt\n",
    "plt.hist(Wafer1, bins=10)\n",
    "plt.hist(Wafer2, bins=10)"
   ]
  },
  {
   "cell_type": "code",
   "execution_count": 3,
   "metadata": {},
   "outputs": [
    {
     "data": {
      "text/plain": [
       "[<matplotlib.lines.Line2D at 0x14529ce6b00>]"
      ]
     },
     "execution_count": 3,
     "metadata": {},
     "output_type": "execute_result"
    },
    {
     "data": {
      "image/png": "[encoded data removed]",
      "text/plain": [
       "<Figure size 432x288 with 1 Axes>"
      ]
     },
     "metadata": {
      "needs_background": "light"
     },
     "output_type": "display_data"
    }
   ],
   "source": [
    "# x, yの確率密度関数(pdf)をプロットする\n",
    "%matplotlib inline\n",
    "import matplotlib.pyplot as plt\n",
    "import numpy as np\n",
    "from scipy.stats import gaussian_kde\n",
    "pdf1 = gaussian_kde(Wafer1)\n",
    "pdf2 = gaussian_kde(Wafer2)\n",
    "grid1 = np.linspace(min(Wafer1),max(Wafer1),num=100)\n",
    "grid2 = np.linspace(min(Wafer2),max(Wafer2),num=100)\n",
    "plt.plot(grid1, pdf1(grid1))\n",
    "plt.plot(grid2, pdf2(grid2))"
   ]
  },
  {
   "cell_type": "markdown",
   "metadata": {},
   "source": [
    "## 回帰計算"
   ]
  },
  {
   "cell_type": "code",
   "execution_count": 4,
   "metadata": {
    "scrolled": true
   },
   "outputs": [
    {
     "name": "stdout",
     "output_type": "stream",
     "text": [
      "WARNING:tensorflow:From c:\\python36\\lib\\site-packages\\tensorflow\\python\\framework\\op_def_library.py:263: colocate_with (from tensorflow.python.framework.ops) is deprecated and will be removed in a future version.\n",
      "Instructions for updating:\n",
      "Colocations handled automatically by placer.\n"
     ]
    },
    {
     "ename": "SystemError",
     "evalue": "<built-in function TFE_Py_TapeWatch> returned a result with an error set",
     "output_type": "error",
     "traceback": [
      "\u001b[1;31m---------------------------------------------------------------------------\u001b[0m",
      "\u001b[1;31mAttributeError\u001b[0m                            Traceback (most recent call last)",
      "\u001b[1;31mAttributeError\u001b[0m: 'RefVariable' object has no attribute '_id'",
      "\nThe above exception was the direct cause of the following exception:\n",
      "\u001b[1;31mSystemError\u001b[0m                               Traceback (most recent call last)",
      "\u001b[1;32m<ipython-input-4-3fcd88cbc53f>\u001b[0m in \u001b[0;36m<module>\u001b[1;34m\u001b[0m\n\u001b[0;32m     29\u001b[0m \u001b[0my_hypo\u001b[0m \u001b[1;33m=\u001b[0m \u001b[0mlin_model\u001b[0m\u001b[1;33m(\u001b[0m\u001b[0mx\u001b[0m\u001b[1;33m,\u001b[0m \u001b[0mw\u001b[0m\u001b[1;33m,\u001b[0m \u001b[0mb\u001b[0m\u001b[1;33m)\u001b[0m\u001b[1;33m\u001b[0m\u001b[1;33m\u001b[0m\u001b[0m\n\u001b[0;32m     30\u001b[0m \u001b[1;32mwith\u001b[0m \u001b[0mtf\u001b[0m\u001b[1;33m.\u001b[0m\u001b[0mGradientTape\u001b[0m\u001b[1;33m(\u001b[0m\u001b[1;33m)\u001b[0m \u001b[1;32mas\u001b[0m \u001b[0mg\u001b[0m\u001b[1;33m:\u001b[0m\u001b[1;33m\u001b[0m\u001b[1;33m\u001b[0m\u001b[0m\n\u001b[1;32m---> 31\u001b[1;33m     \u001b[0mg\u001b[0m\u001b[1;33m.\u001b[0m\u001b[0mwatch\u001b[0m\u001b[1;33m(\u001b[0m\u001b[1;33m[\u001b[0m\u001b[0mw\u001b[0m\u001b[1;33m,\u001b[0m\u001b[0mb\u001b[0m\u001b[1;33m]\u001b[0m\u001b[1;33m)\u001b[0m\u001b[1;33m\u001b[0m\u001b[1;33m\u001b[0m\u001b[0m\n\u001b[0m\u001b[0;32m     32\u001b[0m     \u001b[0mypd_hypo\u001b[0m \u001b[1;33m=\u001b[0m \u001b[0mtf\u001b[0m\u001b[1;33m.\u001b[0m\u001b[0mpy_function\u001b[0m\u001b[1;33m(\u001b[0m\u001b[0mwrap_pdf2\u001b[0m\u001b[1;33m,\u001b[0m \u001b[1;33m[\u001b[0m\u001b[0my_hypo\u001b[0m\u001b[1;33m]\u001b[0m\u001b[1;33m,\u001b[0m \u001b[0mtf\u001b[0m\u001b[1;33m.\u001b[0m\u001b[0mfloat32\u001b[0m\u001b[1;33m)\u001b[0m\u001b[1;33m\u001b[0m\u001b[1;33m\u001b[0m\u001b[0m\n\u001b[0;32m     33\u001b[0m \u001b[0mprint\u001b[0m\u001b[1;33m(\u001b[0m\u001b[0mg\u001b[0m\u001b[1;33m.\u001b[0m\u001b[0mgradient\u001b[0m\u001b[1;33m(\u001b[0m\u001b[0mypd_hypo\u001b[0m\u001b[1;33m,\u001b[0m \u001b[0mb\u001b[0m\u001b[1;33m)\u001b[0m\u001b[1;33m)\u001b[0m\u001b[1;33m\u001b[0m\u001b[1;33m\u001b[0m\u001b[0m\n",
      "\u001b[1;32mc:\\python36\\lib\\site-packages\\tensorflow\\python\\eager\\backprop.py\u001b[0m in \u001b[0;36mwatch\u001b[1;34m(self, tensor)\u001b[0m\n\u001b[0;32m    806\u001b[0m         \u001b[0mtape\u001b[0m\u001b[1;33m.\u001b[0m\u001b[0mwatch_variable\u001b[0m\u001b[1;33m(\u001b[0m\u001b[0mself\u001b[0m\u001b[1;33m.\u001b[0m\u001b[0m_tape\u001b[0m\u001b[1;33m,\u001b[0m \u001b[0mt\u001b[0m\u001b[1;33m)\u001b[0m\u001b[1;33m\u001b[0m\u001b[1;33m\u001b[0m\u001b[0m\n\u001b[0;32m    807\u001b[0m       \u001b[1;32melse\u001b[0m\u001b[1;33m:\u001b[0m\u001b[1;33m\u001b[0m\u001b[1;33m\u001b[0m\u001b[0m\n\u001b[1;32m--> 808\u001b[1;33m         \u001b[0mtape\u001b[0m\u001b[1;33m.\u001b[0m\u001b[0mwatch\u001b[0m\u001b[1;33m(\u001b[0m\u001b[0mself\u001b[0m\u001b[1;33m.\u001b[0m\u001b[0m_tape\u001b[0m\u001b[1;33m,\u001b[0m \u001b[0mt\u001b[0m\u001b[1;33m)\u001b[0m\u001b[1;33m\u001b[0m\u001b[1;33m\u001b[0m\u001b[0m\n\u001b[0m\u001b[0;32m    809\u001b[0m \u001b[1;33m\u001b[0m\u001b[0m\n\u001b[0;32m    810\u001b[0m   \u001b[1;33m@\u001b[0m\u001b[0mtf_contextlib\u001b[0m\u001b[1;33m.\u001b[0m\u001b[0mcontextmanager\u001b[0m\u001b[1;33m\u001b[0m\u001b[1;33m\u001b[0m\u001b[0m\n",
      "\u001b[1;32mc:\\python36\\lib\\site-packages\\tensorflow\\python\\eager\\tape.py\u001b[0m in \u001b[0;36mwatch\u001b[1;34m(tape, tensor)\u001b[0m\n\u001b[0;32m     57\u001b[0m \u001b[1;32mdef\u001b[0m \u001b[0mwatch\u001b[0m\u001b[1;33m(\u001b[0m\u001b[0mtape\u001b[0m\u001b[1;33m,\u001b[0m \u001b[0mtensor\u001b[0m\u001b[1;33m)\u001b[0m\u001b[1;33m:\u001b[0m\u001b[1;33m\u001b[0m\u001b[1;33m\u001b[0m\u001b[0m\n\u001b[0;32m     58\u001b[0m   \u001b[1;34m\"\"\"Marks this tensor to be watched by the given tape.\"\"\"\u001b[0m\u001b[1;33m\u001b[0m\u001b[1;33m\u001b[0m\u001b[0m\n\u001b[1;32m---> 59\u001b[1;33m   \u001b[0mpywrap_tensorflow\u001b[0m\u001b[1;33m.\u001b[0m\u001b[0mTFE_Py_TapeWatch\u001b[0m\u001b[1;33m(\u001b[0m\u001b[0mtape\u001b[0m\u001b[1;33m.\u001b[0m\u001b[0m_tape\u001b[0m\u001b[1;33m,\u001b[0m \u001b[0mtensor\u001b[0m\u001b[1;33m)\u001b[0m  \u001b[1;31m# pylint: disable=protected-access\u001b[0m\u001b[1;33m\u001b[0m\u001b[1;33m\u001b[0m\u001b[0m\n\u001b[0m\u001b[0;32m     60\u001b[0m \u001b[1;33m\u001b[0m\u001b[0m\n\u001b[0;32m     61\u001b[0m \u001b[1;33m\u001b[0m\u001b[0m\n",
      "\u001b[1;31mSystemError\u001b[0m: <built-in function TFE_Py_TapeWatch> returned a result with an error set"
     ]
    }
   ],
   "source": [
    "learning_rate = 0.01\n",
    "\n",
    "import tensorflow as tf\n",
    "from scipy.stats import gaussian_kde\n",
    "\n",
    "def lin_model(X, w, b):\n",
    "    return tf.add(tf.scalar_mul(w, X), b)\n",
    "\n",
    "def error_function(prediction, teacher):\n",
    "    return tf.reduce_mean(tf.square(prediction - teacher))\n",
    "\n",
    "def f(y):\n",
    "    return 2*y+1\n",
    "\n",
    "def wrap_pdf2(y):\n",
    "    yy = 2*(y.numpy())+1.0\n",
    "    t =  tf.convert_to_tensor(yy, dtype=tf.float32)\n",
    "    print(y)\n",
    "    print(t)\n",
    "    return t\n",
    "\n",
    "w = tf.Variable(1.0, name='slope')\n",
    "b = tf.Variable(1.9, name='offset')\n",
    "\n",
    "x = tf.constant(Wafer1, dtype=tf.float32)\n",
    "xpd = tf.constant(pdf1(Wafer1), dtype=tf.float32)\n",
    "#x = tf.placeholder(tf.float32, shape=(N))\n",
    "#xpd = tf.placeholder(tf.float32, shape=(N))\n",
    "y_hypo = lin_model(x, w, b)\n",
    "with tf.GradientTape() as g:\n",
    "    g.watch([w,b])\n",
    "    ypd_hypo = tf.py_function(wrap_pdf2, [y_hypo], tf.float32)\n",
    "print(g.gradient(ypd_hypo, b))"
   ]
  },
  {
   "cell_type": "markdown",
   "metadata": {},
   "source": [
    "# 参考にしたコード"
   ]
  },
  {
   "cell_type": "code",
   "execution_count": 5,
   "metadata": {},
   "outputs": [
    {
     "name": "stdout",
     "output_type": "stream",
     "text": [
      "    0:(w,b)=(    0.0127,     0.0597)\n",
      "  100:(w,b)=(    0.9317,     2.5976)\n",
      "  200:(w,b)=(    1.3962,     2.9341)\n",
      "  300:(w,b)=(    1.6309,     2.9788)\n",
      "  400:(w,b)=(    1.7496,     2.9847)\n",
      "  500:(w,b)=(    1.8096,     2.9855)\n",
      "  600:(w,b)=(    1.8399,     2.9856)\n",
      "  700:(w,b)=(    1.8552,     2.9856)\n",
      "  800:(w,b)=(    1.8629,     2.9856)\n",
      "  900:(w,b)=(    1.8668,     2.9856)\n",
      " 1000:(w,b)=(    1.8688,     2.9856)\n"
     ]
    }
   ],
   "source": [
    "# 線形回帰の例\n",
    "# https://qiita.com/TomokIshii/items/f355d8e87d23ee8e0c7a\n",
    "import numpy as np\n",
    "import tensorflow as tf\n",
    "\n",
    "\n",
    "def lin_model(X, w, b):\n",
    "    return tf.add(tf.scalar_mul(w, X), b)\n",
    "\n",
    "def error_function(prediction, teacher):\n",
    "    return tf.reduce_mean(tf.square(prediction - teacher))\n",
    "\n",
    "w = tf.Variable(0.)\n",
    "b = tf.Variable(0.)\n",
    "\n",
    "x = tf.placeholder(tf.float32, shape=(101))\n",
    "y = tf.placeholder(tf.float32, shape=(101))\n",
    "y_hypo = lin_model(x, w, b)\n",
    "\n",
    "#cost = tf.reduce_mean(tf.square(y_hypo - y))\n",
    "cost = error_function(y_hypo, y)\n",
    "train_step = tf.train.GradientDescentOptimizer(0.01).minimize(cost)\n",
    "\n",
    "# Initializing\n",
    "init = tf.global_variables_initializer()\n",
    "\n",
    "# Train\n",
    "with tf.Session() as sess:\n",
    "    trX = np.linspace(-1, 1, 101)\n",
    "    trY = 2 * trX + 3 + np.random.randn(*trX.shape) * 0.33\n",
    "\n",
    "    sess.run(init)\n",
    "\n",
    "    for i in range(1001):\n",
    "        sess.run(train_step, feed_dict={x: trX, y: trY})\n",
    "        if i % 100 == 0:\n",
    "            print(\"%5d:(w,b)=(%10.4f, %10.4f)\" % (i, sess.run(w), sess.run(b)))\n"
   ]
  },
  {
   "cell_type": "code",
   "execution_count": 44,
   "metadata": {},
   "outputs": [
    {
     "name": "stdout",
     "output_type": "stream",
     "text": [
      "[1. 2.] [1. 4.] [20. 40.]\n"
     ]
    }
   ],
   "source": [
    "# python functionのgradientを計算する方法\n",
    "# https://gist.github.com/harpone/3453185b41d8d985356cbe5e57d67342\n",
    "import tensorflow as tf\n",
    "from tensorflow.python.framework import ops\n",
    "import numpy as np\n",
    "\n",
    "# Define custom py_func which takes also a grad op as argument:\n",
    "def py_func(func, inp, Tout, stateful=True, name=None, grad=None):\n",
    "    \n",
    "    # Need to generate a unique name to avoid duplicates:\n",
    "    rnd_name = 'PyFuncGrad' + str(np.random.randint(0, 1E+8))\n",
    "    \n",
    "    tf.RegisterGradient(rnd_name)(grad)  # see _MySquareGrad for grad example\n",
    "    g = tf.get_default_graph()\n",
    "    with g.gradient_override_map({\"PyFunc\": rnd_name}):\n",
    "        return tf.py_func(func, inp, Tout, stateful=stateful, name=name)\n",
    "\n",
    "\n",
    "# Def custom square function using np.square instead of tf.square:\n",
    "def mysquare(x, name=None):\n",
    "    # np.square may not be given to py_func directly due to \"weak reference\" issue.\n",
    "    def _np_square(x):\n",
    "        return np.square(x)\n",
    "    \n",
    "    with ops.name_scope(name, \"Mysquare\", [x]) as name:\n",
    "        sqr_x = py_func(_np_square,\n",
    "                        [x],\n",
    "                        [tf.float32],\n",
    "                        name=name,\n",
    "                        grad= _MySquareGrad)  # <-- here's the call to the gradient\n",
    "        return sqr_x[0]\n",
    "\n",
    "# Actual gradient:\n",
    "def _MySquareGrad(op, grad):\n",
    "    x = op.inputs[0]\n",
    "    return grad * 20 * x  # add a \"small\" error just to see the difference:\n",
    "\n",
    "\n",
    "with tf.Session() as sess:\n",
    "    x = tf.constant([1., 2.])\n",
    "    y = mysquare(x)\n",
    "    tf.global_variables_initializer().run()\n",
    "\n",
    "    print(x.eval(), y.eval(), tf.gradients(y, x)[0].eval())"
   ]
  },
  {
   "cell_type": "raw",
   "metadata": {},
   "source": [
    "問題はgradientは自動では見つからない。Tensorflowは任意の関数についての数値微分の面倒は見てくれない。数値微分の関数は自分で与えないといけない。tf.*という関数を使っている分にはデフォルトの微分の実装があるのだが。"
   ]
  },
  {
   "cell_type": "code",
   "execution_count": 89,
   "metadata": {},
   "outputs": [
    {
     "ename": "TypeError",
     "evalue": "only size-1 arrays can be converted to Python scalars",
     "output_type": "error",
     "traceback": [
      "\u001b[0;31m---------------------------------------------------------------------------\u001b[0m",
      "\u001b[0;31mTypeError\u001b[0m                                 Traceback (most recent call last)",
      "\u001b[0;32m<ipython-input-89-d257d7689de2>\u001b[0m in \u001b[0;36m<module>\u001b[0;34m()\u001b[0m\n\u001b[1;32m      2\u001b[0m     \u001b[1;32mreturn\u001b[0m \u001b[0mfloat\u001b[0m\u001b[1;33m(\u001b[0m\u001b[1;33m(\u001b[0m\u001b[1;33m(\u001b[0m\u001b[0mfunc\u001b[0m\u001b[1;33m(\u001b[0m\u001b[0mx\u001b[0m\u001b[1;33m+\u001b[0m\u001b[0mh\u001b[0m\u001b[1;33m)\u001b[0m\u001b[1;33m-\u001b[0m\u001b[0mfunc\u001b[0m\u001b[1;33m(\u001b[0m\u001b[0mx\u001b[0m\u001b[1;33m-\u001b[0m\u001b[0mh\u001b[0m\u001b[1;33m)\u001b[0m\u001b[1;33m)\u001b[0m\u001b[1;33m/\u001b[0m\u001b[0mh\u001b[0m\u001b[1;33m)\u001b[0m\u001b[1;33m)\u001b[0m\u001b[1;33m\u001b[0m\u001b[0m\n\u001b[1;32m      3\u001b[0m \u001b[1;33m\u001b[0m\u001b[0m\n\u001b[0;32m----> 4\u001b[0;31m \u001b[0mc\u001b[0m\u001b[1;33m=\u001b[0m\u001b[0mdiff\u001b[0m\u001b[1;33m(\u001b[0m\u001b[0mpdf1\u001b[0m\u001b[1;33m,\u001b[0m \u001b[0mnp\u001b[0m\u001b[1;33m.\u001b[0m\u001b[0marray\u001b[0m\u001b[1;33m(\u001b[0m\u001b[1;33m[\u001b[0m\u001b[1;36m0\u001b[0m\u001b[1;33m,\u001b[0m\u001b[1;36m1\u001b[0m\u001b[1;33m,\u001b[0m\u001b[1;36m2\u001b[0m\u001b[1;33m]\u001b[0m\u001b[1;33m)\u001b[0m\u001b[1;33m)\u001b[0m\u001b[1;33m\u001b[0m\u001b[0m\n\u001b[0m\u001b[1;32m      5\u001b[0m \u001b[0mprint\u001b[0m\u001b[1;33m(\u001b[0m\u001b[0mpdf1\u001b[0m\u001b[1;33m(\u001b[0m\u001b[0mc\u001b[0m\u001b[1;33m,\u001b[0m \u001b[0mdtype\u001b[0m\u001b[1;33m=\u001b[0m\u001b[0mnp\u001b[0m\u001b[1;33m.\u001b[0m\u001b[0mfloat32\u001b[0m\u001b[1;33m)\u001b[0m\u001b[1;33m)\u001b[0m\u001b[1;33m\u001b[0m\u001b[0m\n",
      "\u001b[0;32m<ipython-input-89-d257d7689de2>\u001b[0m in \u001b[0;36mdiff\u001b[0;34m(func, x, h)\u001b[0m\n\u001b[1;32m      1\u001b[0m \u001b[1;32mdef\u001b[0m \u001b[0mdiff\u001b[0m\u001b[1;33m(\u001b[0m\u001b[0mfunc\u001b[0m\u001b[1;33m,\u001b[0m \u001b[0mx\u001b[0m\u001b[1;33m,\u001b[0m \u001b[0mh\u001b[0m \u001b[1;33m=\u001b[0m \u001b[1;36m1e-4\u001b[0m\u001b[1;33m)\u001b[0m\u001b[1;33m:\u001b[0m\u001b[1;33m\u001b[0m\u001b[0m\n\u001b[0;32m----> 2\u001b[0;31m     \u001b[1;32mreturn\u001b[0m \u001b[0mfloat\u001b[0m\u001b[1;33m(\u001b[0m\u001b[1;33m(\u001b[0m\u001b[1;33m(\u001b[0m\u001b[0mfunc\u001b[0m\u001b[1;33m(\u001b[0m\u001b[0mx\u001b[0m\u001b[1;33m+\u001b[0m\u001b[0mh\u001b[0m\u001b[1;33m)\u001b[0m\u001b[1;33m-\u001b[0m\u001b[0mfunc\u001b[0m\u001b[1;33m(\u001b[0m\u001b[0mx\u001b[0m\u001b[1;33m-\u001b[0m\u001b[0mh\u001b[0m\u001b[1;33m)\u001b[0m\u001b[1;33m)\u001b[0m\u001b[1;33m/\u001b[0m\u001b[0mh\u001b[0m\u001b[1;33m)\u001b[0m\u001b[1;33m)\u001b[0m\u001b[1;33m\u001b[0m\u001b[0m\n\u001b[0m\u001b[1;32m      3\u001b[0m \u001b[1;33m\u001b[0m\u001b[0m\n\u001b[1;32m      4\u001b[0m \u001b[0mc\u001b[0m\u001b[1;33m=\u001b[0m\u001b[0mdiff\u001b[0m\u001b[1;33m(\u001b[0m\u001b[0mpdf1\u001b[0m\u001b[1;33m,\u001b[0m \u001b[0mnp\u001b[0m\u001b[1;33m.\u001b[0m\u001b[0marray\u001b[0m\u001b[1;33m(\u001b[0m\u001b[1;33m[\u001b[0m\u001b[1;36m0\u001b[0m\u001b[1;33m,\u001b[0m\u001b[1;36m1\u001b[0m\u001b[1;33m,\u001b[0m\u001b[1;36m2\u001b[0m\u001b[1;33m]\u001b[0m\u001b[1;33m)\u001b[0m\u001b[1;33m)\u001b[0m\u001b[1;33m\u001b[0m\u001b[0m\n\u001b[1;32m      5\u001b[0m \u001b[0mprint\u001b[0m\u001b[1;33m(\u001b[0m\u001b[0mpdf1\u001b[0m\u001b[1;33m(\u001b[0m\u001b[0mc\u001b[0m\u001b[1;33m,\u001b[0m \u001b[0mdtype\u001b[0m\u001b[1;33m=\u001b[0m\u001b[0mnp\u001b[0m\u001b[1;33m.\u001b[0m\u001b[0mfloat32\u001b[0m\u001b[1;33m)\u001b[0m\u001b[1;33m)\u001b[0m\u001b[1;33m\u001b[0m\u001b[0m\n",
      "\u001b[0;31mTypeError\u001b[0m: only size-1 arrays can be converted to Python scalars"
     ]
    }
   ],
   "source": [
    "def diff(func, x, h = 1e-4):\n",
    "    return float(((func(x+h)-func(x-h))/h))\n",
    "\n",
    "c=diff(pdf1, np.array([0,1,2]))\n",
    "print(pdf1(c, dtype=np.float32))"
   ]
  },
  {
   "cell_type": "code",
   "execution_count": 21,
   "metadata": {},
   "outputs": [
    {
     "name": "stdout",
     "output_type": "stream",
     "text": [
      "Tensor(\"Const_17:0\", shape=(2,), dtype=float32)\n",
      "[1. 3.] [1. 9.] [2. 6.]\n"
     ]
    }
   ],
   "source": [
    "# python functionのgradientを計算する方法\n",
    "# https://gist.github.com/harpone/3453185b41d8d985356cbe5e57d67342\n",
    "import tensorflow as tf\n",
    "from tensorflow.python.framework import ops\n",
    "import numpy as np\n",
    "\n",
    "def diff(func, x, h = 1e-4):\n",
    "    return float(((func(x+h)-func(x-h))/h))\n",
    "\n",
    "# Define custom py_func which takes also a grad op as argument:\n",
    "def py_func(func, inp, Tout, stateful=True, name=None, grad=None):\n",
    "    \n",
    "    # Need to generate a unique name to avoid duplicates:\n",
    "    rnd_name = 'PyFuncGrad' + str(np.random.randint(0, 1E+8))\n",
    "    \n",
    "    tf.RegisterGradient(rnd_name)(grad)  # see _MySquareGrad for grad example\n",
    "    g = tf.get_default_graph()\n",
    "    with g.gradient_override_map({\"PyFunc\": rnd_name}):\n",
    "        return tf.py_func(func, inp, Tout, stateful=stateful, name=name)\n",
    "\n",
    "\n",
    "# Def custom square function using np.square instead of tf.square:\n",
    "def mysquare(x, name=None):\n",
    "    # np.square may not be given to py_func directly due to \"weak reference\" issue.\n",
    "    def _np_square(x):\n",
    "        return np.square(x)\n",
    "    \n",
    "    with ops.name_scope(name, \"Mysquare\", [x]) as name:\n",
    "        sqr_x = py_func(_np_square,\n",
    "                        [x],\n",
    "                        [tf.float32],\n",
    "                        name=name,\n",
    "                        grad= _MySquareGrad)  # <-- here's the call to the gradient\n",
    "        return sqr_x[0]\n",
    "\n",
    "# Actual gradient:\n",
    "def _MySquareGrad(op, grad):\n",
    "    x = op.inputs[0]\n",
    "    print( x)\n",
    "    return grad * 2 * x  # add a \"small\" error just to see the difference:\n",
    "\n",
    "\n",
    "with tf.Session() as sess:\n",
    "    x = tf.constant([1., 3.])\n",
    "    y = mysquare(x)\n",
    "    tf.global_variables_initializer().run()\n",
    "\n",
    "    print(x.eval(), y.eval(), tf.gradients(y, x)[0].eval())"
   ]
  },
  {
   "cell_type": "code",
   "execution_count": null,
   "metadata": {
    "collapsed": true
   },
   "outputs": [],
   "source": []
  }
 ],
 "metadata": {
  "kernelspec": {
   "display_name": "Python 3",
   "language": "python",
   "name": "python3"
  },
  "language_info": {
   "codemirror_mode": {
    "name": "ipython",
    "version": 3
   },
   "file_extension": ".py",
   "mimetype": "text/x-python",
   "name": "python",
   "nbconvert_exporter": "python",
   "pygments_lexer": "ipython3",
   "version": "3.6.8"
  }
 },
 "nbformat": 4,
 "nbformat_minor": 2
}
