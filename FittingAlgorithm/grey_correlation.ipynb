{
 "cells": [
  {
   "cell_type": "code",
   "execution_count": 2,
   "metadata": {},
   "outputs": [],
   "source": [
    "import pandas as pd\n",
    "\n",
    "x = pd.read_excel('data.xlsx')\n",
    "x = x.iloc[:,1:].T\n",
    "\n",
    "# 1. mean\n",
    "x_mean = x.mean(axis=1)\n",
    "for i in range(x.index.size):\n",
    "    x.iloc[i,:] = x.iloc[i, :] / x_mean[i]\n",
    "    \n",
    "# 2、提取参考队列和比较队列 \n",
    "ck=x.iloc[0,:] \n",
    "cp=x.iloc[1:,:] \n",
    "\n",
    "# 比较队列与参考队列相减 \n",
    "t=pd.DataFrame() \n",
    "for j in range(cp.index.size): \n",
    "    temp=pd.Series(cp.iloc[j,:]-ck)\n",
    "    t=t.append(temp,ignore_index=True) \n",
    "    \n",
    "#求最大差和最小差 \n",
    "mmax=t.abs().max().max() \n",
    "mmin=t.abs().min().min()\n",
    "rho=0.5 \n",
    "\n",
    "#3、求关联系数 \n",
    "ksi=((mmin+rho*mmax)/(abs(t)+rho*mmax)) \n",
    "\n",
    "#4、求关联度 \n",
    "r=ksi.sum(axis=1)/ksi.columns.size\n",
    "\n",
    "#5、关联度排序，得到结果r3>r2>r1 \n",
    "result=r.sort_values(ascending=False)"
   ]
  },
  {
   "cell_type": "code",
   "execution_count": 3,
   "metadata": {},
   "outputs": [
    {
     "name": "stdout",
     "output_type": "stream",
     "text": [
      "2    0.757300\n",
      "1    0.624296\n",
      "0    0.508432\n",
      "dtype: float64\n"
     ]
    }
   ],
   "source": [
    "print(result)"
   ]
  },
  {
   "cell_type": "code",
   "execution_count": null,
   "metadata": {},
   "outputs": [],
   "source": []
  }
 ],
 "metadata": {
  "kernelspec": {
   "display_name": "Python 3",
   "language": "python",
   "name": "python3"
  },
  "language_info": {
   "codemirror_mode": {
    "name": "ipython",
    "version": 3
   },
   "file_extension": ".py",
   "mimetype": "text/x-python",
   "name": "python",
   "nbconvert_exporter": "python",
   "pygments_lexer": "ipython3",
   "version": "3.6.6"
  }
 },
 "nbformat": 4,
 "nbformat_minor": 2
}
