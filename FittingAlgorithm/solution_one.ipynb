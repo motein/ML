{
 "cells": [
  {
   "cell_type": "code",
   "execution_count": 1,
   "metadata": {},
   "outputs": [
    {
     "name": "stdout",
     "output_type": "stream",
     "text": [
      "(10000,)\n"
     ]
    }
   ],
   "source": [
    "import tensorflow as tf\n",
    "tf.enable_eager_execution()\n",
    "import numpy as np\n",
    "N=10000\n",
    "Wafer1 = np.random.normal(loc = 0.0, scale = 1.0, size = N)\n",
    "Wafer2 = np.random.normal(loc = 2.0, scale = 1, size = N)\n",
    "print(np.shape(Wafer1))"
   ]
  },
  {
   "cell_type": "code",
   "execution_count": 5,
   "metadata": {},
   "outputs": [
    {
     "data": {
      "image/png": "[encoded data removed]",
      "text/plain": [
       "<Figure size 432x288 with 1 Axes>"
      ]
     },
     "metadata": {},
     "output_type": "display_data"
    }
   ],
   "source": [
    "import matplotlib.pyplot as plt\n",
    "plt.hist(Wafer1,bins=30)\n",
    "plt.hist(Wafer2, bins=30)\n",
    "plt.show()"
   ]
  },
  {
   "cell_type": "code",
   "execution_count": 28,
   "metadata": {},
   "outputs": [
    {
     "name": "stdout",
     "output_type": "stream",
     "text": [
      "0.0006465212284872617 1.9983420821109612\n",
      "1.00820658939695 0.9906164513712736\n",
      "1.0177567594413832 -2.0331796405161113\n",
      "[ 2.16888093 -1.38312883 -1.60488368 ...  0.14101474  0.9021719\n",
      " -0.564297  ]\n"
     ]
    }
   ],
   "source": [
    "u1 = np.sum(Wafer1) / N\n",
    "u2 = np.sum(Wafer2) / N\n",
    "\n",
    "var1 = np.sqrt(np.sum(np.power(Wafer1 - u1, 2))/ (N-1))\n",
    "var2 = np.sqrt(np.sum(np.power(Wafer2 - u2, 2))/ (N-1))\n",
    "print(u1, u2)\n",
    "print(var1, var2)\n",
    "\n",
    "a = var1/var2\n",
    "b = - var1 * u2 / var2 + u1\n",
    "\n",
    "print(a, b)\n",
    "wafer = a * Wafer2 + b\n",
    "print(wafer)"
   ]
  },
  {
   "cell_type": "code",
   "execution_count": 29,
   "metadata": {},
   "outputs": [
    {
     "data": {
      "image/png": "[encoded data removed]",
      "text/plain": [
       "<Figure size 432x288 with 1 Axes>"
      ]
     },
     "metadata": {},
     "output_type": "display_data"
    }
   ],
   "source": [
    "plt.hist(Wafer1,bins=40)\n",
    "plt.hist(wafer, bins=40)\n",
    "plt.show()"
   ]
  },
  {
   "cell_type": "code",
   "execution_count": null,
   "metadata": {},
   "outputs": [],
   "source": []
  }
 ],
 "metadata": {
  "kernelspec": {
   "display_name": "Python 3",
   "language": "python",
   "name": "python3"
  },
  "language_info": {
   "codemirror_mode": {
    "name": "ipython",
    "version": 3
   },
   "file_extension": ".py",
   "mimetype": "text/x-python",
   "name": "python",
   "nbconvert_exporter": "python",
   "pygments_lexer": "ipython3",
   "version": "3.6.6"
  }
 },
 "nbformat": 4,
 "nbformat_minor": 2
}
