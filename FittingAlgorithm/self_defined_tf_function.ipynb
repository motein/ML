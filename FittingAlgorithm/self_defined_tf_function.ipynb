{
 "cells": [
  {
   "cell_type": "code",
   "execution_count": 2,
   "metadata": {},
   "outputs": [
    {
     "name": "stdout",
     "output_type": "stream",
     "text": [
      "(10000,)\n"
     ]
    }
   ],
   "source": [
    "import tensorflow as tf\n",
    "import numpy as np\n",
    "\n",
    "N=10000\n",
    "Wafer1 = np.random.normal(loc = 0.0, scale = 1.0, size = N)\n",
    "Wafer2 = np.random.normal(loc = 2.0, scale = 1, size = N)\n",
    "print(np.shape(Wafer1))"
   ]
  },
  {
   "cell_type": "code",
   "execution_count": 3,
   "metadata": {},
   "outputs": [
    {
     "data": {
      "text/plain": [
       "<Figure size 640x480 with 1 Axes>"
      ]
     },
     "metadata": {},
     "output_type": "display_data"
    }
   ],
   "source": [
    "import matplotlib.pyplot as plt\n",
    "plt.hist(Wafer1, bins=30)\n",
    "plt.hist(Wafer2, bins=30)\n",
    "plt.show()"
   ]
  },
  {
   "cell_type": "code",
   "execution_count": 4,
   "metadata": {},
   "outputs": [
    {
     "data": {
      "image/png": "[encoded data removed]",
      "text/plain": [
       "<Figure size 432x288 with 1 Axes>"
      ]
     },
     "metadata": {},
     "output_type": "display_data"
    }
   ],
   "source": [
    "from scipy.stats import gaussian_kde\n",
    "pdf1 = gaussian_kde(Wafer1)\n",
    "pdf2 = gaussian_kde(Wafer2)\n",
    "grid1 = np.linspace(min(Wafer1), max(Wafer1), num=1000)\n",
    "grid2 = np.linspace(min(Wafer2), max(Wafer2), num=1000)\n",
    "# Default: Scott\n",
    "# pdf1.set_bandwidth(bw_method='silverman')\n",
    "# pdf2.set_bandwidth(bw_method='silverman')\n",
    "pdf1.set_bandwidth(bw_method=pdf1.factor / 3.)\n",
    "pdf2.set_bandwidth(bw_method=pdf2.factor / 3.)\n",
    "y1 = pdf1(grid1)\n",
    "y2 = pdf2(grid2)\n",
    "plt.plot(grid1, y1)\n",
    "plt.plot(grid2, y2)\n",
    "plt.show()"
   ]
  },
  {
   "cell_type": "code",
   "execution_count": 8,
   "metadata": {},
   "outputs": [
    {
     "name": "stdout",
     "output_type": "stream",
     "text": [
      "type y:  <class 'tensorflow.python.framework.ops.Tensor'>\n",
      "[ 1.  3.  5.  7.  9. 11. 13. 15. 17.]\n",
      "<class 'numpy.ndarray'>\n",
      "[0.23605001 0.21120086 0.0028131  0.         0.         0.\n",
      " 0.         0.         0.        ]\n"
     ]
    }
   ],
   "source": [
    "def my_func(xx, w, b):\n",
    "#     a = np.matmul(w,xx) + b\n",
    "    a = w*xx + b\n",
    "    print(a)\n",
    "    return np.float32(pdf2(a))\n",
    "\n",
    "xx = tf.placeholder(tf.float32)\n",
    "w = tf.Variable(1.0, name='slope')\n",
    "b = tf.Variable(1.9, name='offset')\n",
    "y = tf.py_func(my_func, [xx, w, b], tf.float32)\n",
    "\n",
    "print('type y: ', type(y))\n",
    "with tf.Session() as sess:\n",
    "    XX =np.arange(9.0)\n",
    "    W = 2\n",
    "    B = 1\n",
    "    a = sess.run(y, feed_dict={xx:XX, w:W, b:B})\n",
    "    print(type(a))\n",
    "    print(a)"
   ]
  }
 ],
 "metadata": {
  "kernelspec": {
   "display_name": "Python 3",
   "language": "python",
   "name": "python3"
  },
  "language_info": {
   "codemirror_mode": {
    "name": "ipython",
    "version": 3
   },
   "file_extension": ".py",
   "mimetype": "text/x-python",
   "name": "python",
   "nbconvert_exporter": "python",
   "pygments_lexer": "ipython3",
   "version": "3.6.6"
  }
 },
 "nbformat": 4,
 "nbformat_minor": 2
}
