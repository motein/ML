{
 "cells": [
  {
   "cell_type": "code",
   "execution_count": null,
   "metadata": {},
   "outputs": [],
   "source": [
    "import tensorflow as tf\n",
    "import numpy as np\n",
    "\n",
    "def lin_model(X,w,b):\n",
    "    return tf.add(tf.scalar_mul(w,X),b)\n",
    "\n",
    "def error_function(prediction, teacher):\n",
    "    return tf.reduce_mean(tf.square(prediction-teacher))\n",
    "\n",
    "w = tf.Variable(0.)\n",
    "b = tf.Variable(0.)\n",
    "\n",
    "x = tf.placeholder(tf.float32, shape=101)\n",
    "y = tf.placeholder(tf.float32, shape=101)\n",
    "y_hypo = lin_model(x,w,b)\n",
    "\n",
    "# cost = tf.reduce_mean(tf.square(y_hypo - y))\n",
    "cost = error_function(y_hypo, y)\n",
    "train_step = tf.train.GradientDescentOptimizer(0.01).minimize(cost)\n",
    "\n",
    "# Initializing\n",
    "init = tf.global_variables_initializer()\n",
    "\n",
    "# Train\n",
    "with tf.Session() as sess:\n",
    "    trX = np.linspace(-1, 1, 101)\n",
    "    trY = 2 * trX + 3 + np.random.randn(*trX.shape) * 0.33\n",
    "    \n",
    "    sess.run(init)\n",
    "    \n",
    "    for i in range(1001):\n",
    "        sess.run(train_step, feed_dict={x:trX,y:trY})\n",
    "        if i % 100 == 0:\n",
    "            print(\"%5d:(w,b)=(%10.4f, %10.4f)\" % (i, sess.run(w), sess.run(b)))"
   ]
  },
  {
   "cell_type": "code",
   "execution_count": null,
   "metadata": {},
   "outputs": [],
   "source": []
  }
 ],
 "metadata": {
  "kernelspec": {
   "display_name": "Python 3",
   "language": "python",
   "name": "python3"
  },
  "language_info": {
   "codemirror_mode": {
    "name": "ipython",
    "version": 3
   },
   "file_extension": ".py",
   "mimetype": "text/x-python",
   "name": "python",
   "nbconvert_exporter": "python",
   "pygments_lexer": "ipython3",
   "version": "3.6.8"
  }
 },
 "nbformat": 4,
 "nbformat_minor": 2
}
