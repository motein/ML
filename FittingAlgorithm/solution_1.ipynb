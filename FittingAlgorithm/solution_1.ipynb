{
 "cells": [
  {
   "cell_type": "code",
   "execution_count": 9,
   "metadata": {},
   "outputs": [
    {
     "name": "stdout",
     "output_type": "stream",
     "text": [
      "(10000,)\n"
     ]
    }
   ],
   "source": [
    "import tensorflow as tf\n",
    "tf.enable_eager_execution()\n",
    "import numpy as np\n",
    "N=10000\n",
    "Wafer1 = np.random.normal(loc = 0.0, scale = 1.0, size = N) + np.random.randn(N) * 0.1\n",
    "Wafer2 = np.random.normal(loc = 2.0, scale = 1.0, size = N) + np.random.randn(N) * 0.1\n",
    "print(np.shape(Wafer1))"
   ]
  },
  {
   "cell_type": "code",
   "execution_count": 15,
   "metadata": {},
   "outputs": [
    {
     "data": {
      "image/png": "[encoded data removed]",
      "text/plain": [
       "<Figure size 432x288 with 1 Axes>"
      ]
     },
     "metadata": {
      "needs_background": "light"
     },
     "output_type": "display_data"
    }
   ],
   "source": [
    "import matplotlib.pyplot as plt\n",
    "plt.hist(Wafer1,bins=80)\n",
    "plt.hist(Wafer2, bins=80)\n",
    "plt.show()"
   ]
  },
  {
   "cell_type": "code",
   "execution_count": 11,
   "metadata": {},
   "outputs": [
    {
     "name": "stdout",
     "output_type": "stream",
     "text": [
      "0.014380763814057394 2.0011885731544\n",
      "1.0079334782255147 0.9944599948217524\n",
      "1.0135485423988093 -2.013920997571738\n",
      "[ 0.39841877  0.0446591  -0.20447262 ... -0.71503054 -1.33380019\n",
      " -0.03146705]\n"
     ]
    }
   ],
   "source": [
    "u1 = np.sum(Wafer1) / N\n",
    "u2 = np.sum(Wafer2) / N\n",
    "\n",
    "var1 = np.sqrt(np.sum(np.power(Wafer1 - u1, 2))/ (N-1))\n",
    "var2 = np.sqrt(np.sum(np.power(Wafer2 - u2, 2))/ (N-1))\n",
    "print(u1, u2)\n",
    "print(var1, var2)\n",
    "\n",
    "a = var1/var2\n",
    "b = - var1 * u2 / var2 + u1\n",
    "\n",
    "print(a, b)\n",
    "wafer = a * Wafer2 + b\n",
    "print(wafer)"
   ]
  },
  {
   "cell_type": "code",
   "execution_count": 12,
   "metadata": {},
   "outputs": [
    {
     "data": {
      "image/png": "[encoded data removed]",
      "text/plain": [
       "<Figure size 432x288 with 1 Axes>"
      ]
     },
     "metadata": {
      "needs_background": "light"
     },
     "output_type": "display_data"
    }
   ],
   "source": [
    "plt.hist(Wafer1,bins=40)\n",
    "plt.hist(wafer, bins=40)\n",
    "plt.show()"
   ]
  },
  {
   "cell_type": "code",
   "execution_count": null,
   "metadata": {},
   "outputs": [],
   "source": []
  }
 ],
 "metadata": {
  "kernelspec": {
   "display_name": "Python 3",
   "language": "python",
   "name": "python3"
  },
  "language_info": {
   "codemirror_mode": {
    "name": "ipython",
    "version": 3
   },
   "file_extension": ".py",
   "mimetype": "text/x-python",
   "name": "python",
   "nbconvert_exporter": "python",
   "pygments_lexer": "ipython3",
   "version": "3.6.8"
  }
 },
 "nbformat": 4,
 "nbformat_minor": 2
}
